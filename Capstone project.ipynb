{
 "cells": [
  {
   "cell_type": "markdown",
   "id": "450a8045",
   "metadata": {},
   "source": [
    "case_year: The year in which the H-1B visa application was submitted.\n",
    "\n",
    "case_status: The status of the visa application, which can be certified, denied, certified-withdrawn, withdrawn, or pending.\n",
    "\n",
    "case_submitted: The date on which the visa application was submitted.\n",
    "\n",
    "decision_date: The date on which a decision was made about the visa application.\n",
    "\n",
    "emp_name: The name of the employer submitting the visa application.\n",
    "\n",
    "emp_city: The city where the employer is located.\n",
    "\n",
    "emp_state: The state where the employer is located.\n",
    "\n",
    "emp_zip: The zip code where the employer is located.\n",
    "\n",
    "emp_country: The country where the employer is located.\n",
    "\n",
    "job_title: The job title of the H-1B visa applicant.\n",
    "\n",
    "soc_code: The Standard Occupational Classification (SOC) code for the job title.\n",
    "\n",
    "soc_name: The name of the occupation for which the H-1B visa is being sought, as defined by the SOC system.\n",
    "\n",
    "full_time_position: Whether the H-1B visa application is for a full-time or part-time position.\n",
    "\n",
    "prevailing_wage: The wage rate paid to similarly employed workers in the same occupation and geographical area as the H-1B visa applicant.\n",
    "\n",
    "pw_unit: The unit of pay used for the prevailing wage, which can be hourly, weekly, bi-weekly, monthly, or annually.\n",
    "\n",
    "pw_level: The level of the prevailing wage, which can be Level I, Level II, Level III, Level IV, or Other.\n",
    "\n",
    "wage_from: The minimum wage offered to the H-1B visa applicant.\n",
    "\n",
    "wage_to: The maximum wage offered to the H-1B visa applicant.\n",
    "\n",
    "wage_unit: The unit of pay used for the wage, which can be hourly, weekly, bi-weekly, monthly, or annually.\n",
    "\n",
    "work_city: The city where the H-1B visa applicant will be working.\n",
    "\n",
    "work_state: The state where the H-1B visa applicant will be working.\n",
    "\n",
    "emp_h1b_dependent: Whether the employer is H-1B visa-dependent or not.\n",
    "\n",
    "emp_willful_violator: Whether the employer has been found to be a willful violator of H-1B program requirements.\n",
    "\n",
    "lat: The latitude of the work location.\n",
    "\n",
    "lng: The longitude of the work location."
   ]
  },
  {
   "cell_type": "code",
   "execution_count": 1,
   "id": "8e328bfd",
   "metadata": {},
   "outputs": [],
   "source": [
    "import pandas as pd\n",
    "import numpy as np\n",
    "import seaborn as sns\n",
    "import warnings\n",
    "warnings.filterwarnings(\"ignore\")"
   ]
  },
  {
   "cell_type": "code",
   "execution_count": 2,
   "id": "ffb98ea4",
   "metadata": {},
   "outputs": [],
   "source": [
    "df = pd.read_csv(\"h1b_data.csv\")"
   ]
  },
  {
   "cell_type": "code",
   "execution_count": 3,
   "id": "d5935cbc",
   "metadata": {},
   "outputs": [
    {
     "data": {
      "text/html": [
       "<div>\n",
       "<style scoped>\n",
       "    .dataframe tbody tr th:only-of-type {\n",
       "        vertical-align: middle;\n",
       "    }\n",
       "\n",
       "    .dataframe tbody tr th {\n",
       "        vertical-align: top;\n",
       "    }\n",
       "\n",
       "    .dataframe thead th {\n",
       "        text-align: right;\n",
       "    }\n",
       "</style>\n",
       "<table border=\"1\" class=\"dataframe\">\n",
       "  <thead>\n",
       "    <tr style=\"text-align: right;\">\n",
       "      <th></th>\n",
       "      <th>case_year</th>\n",
       "      <th>case_status</th>\n",
       "      <th>case_submitted</th>\n",
       "      <th>decision_date</th>\n",
       "      <th>emp_name</th>\n",
       "      <th>emp_city</th>\n",
       "      <th>emp_state</th>\n",
       "      <th>emp_zip</th>\n",
       "      <th>emp_country</th>\n",
       "      <th>job_title</th>\n",
       "      <th>...</th>\n",
       "      <th>pw_level</th>\n",
       "      <th>wage_from</th>\n",
       "      <th>wage_to</th>\n",
       "      <th>wage_unit</th>\n",
       "      <th>work_city</th>\n",
       "      <th>work_state</th>\n",
       "      <th>emp_h1b_dependent</th>\n",
       "      <th>emp_willful_violator</th>\n",
       "      <th>lat</th>\n",
       "      <th>lng</th>\n",
       "    </tr>\n",
       "  </thead>\n",
       "  <tbody>\n",
       "    <tr>\n",
       "      <th>0</th>\n",
       "      <td>2017</td>\n",
       "      <td>C</td>\n",
       "      <td>2017-02-06</td>\n",
       "      <td>2017-02-10</td>\n",
       "      <td>LAKELANDS NEPHROLOGY, PA</td>\n",
       "      <td>GREENWOOD</td>\n",
       "      <td>SC</td>\n",
       "      <td>29646</td>\n",
       "      <td>USA</td>\n",
       "      <td>NEPHROLOGIST</td>\n",
       "      <td>...</td>\n",
       "      <td>NaN</td>\n",
       "      <td>190000.00</td>\n",
       "      <td>0.0</td>\n",
       "      <td>Y</td>\n",
       "      <td>ABBEVILLE</td>\n",
       "      <td>SC</td>\n",
       "      <td>N</td>\n",
       "      <td>N</td>\n",
       "      <td>34.178172</td>\n",
       "      <td>-82.379015</td>\n",
       "    </tr>\n",
       "    <tr>\n",
       "      <th>1</th>\n",
       "      <td>2017</td>\n",
       "      <td>C</td>\n",
       "      <td>2017-03-21</td>\n",
       "      <td>2017-03-27</td>\n",
       "      <td>UNIVERSITY OF IDAHO</td>\n",
       "      <td>MOSCOW</td>\n",
       "      <td>ID</td>\n",
       "      <td>83844</td>\n",
       "      <td>USA</td>\n",
       "      <td>POST DOCTORAL FELLOW</td>\n",
       "      <td>...</td>\n",
       "      <td>Level I</td>\n",
       "      <td>47507.00</td>\n",
       "      <td>0.0</td>\n",
       "      <td>Y</td>\n",
       "      <td>ABERDEEN</td>\n",
       "      <td>ID</td>\n",
       "      <td>N</td>\n",
       "      <td>N</td>\n",
       "      <td>42.944078</td>\n",
       "      <td>-112.838326</td>\n",
       "    </tr>\n",
       "    <tr>\n",
       "      <th>2</th>\n",
       "      <td>2017</td>\n",
       "      <td>C</td>\n",
       "      <td>2017-03-17</td>\n",
       "      <td>2017-03-23</td>\n",
       "      <td>XPO SUPPLY CHAIN, INC.</td>\n",
       "      <td>HIGH POINT</td>\n",
       "      <td>NC</td>\n",
       "      <td>27265</td>\n",
       "      <td>USA</td>\n",
       "      <td>OPERATION ANALYST</td>\n",
       "      <td>...</td>\n",
       "      <td>Level I</td>\n",
       "      <td>65000.00</td>\n",
       "      <td>0.0</td>\n",
       "      <td>Y</td>\n",
       "      <td>ABERDEEN</td>\n",
       "      <td>MD</td>\n",
       "      <td>N</td>\n",
       "      <td>N</td>\n",
       "      <td>39.509556</td>\n",
       "      <td>-76.164120</td>\n",
       "    </tr>\n",
       "    <tr>\n",
       "      <th>3</th>\n",
       "      <td>2017</td>\n",
       "      <td>C</td>\n",
       "      <td>2017-03-10</td>\n",
       "      <td>2017-03-16</td>\n",
       "      <td>C AND S WHOLESALE GROCERS, INC.</td>\n",
       "      <td>KEENE</td>\n",
       "      <td>NH</td>\n",
       "      <td>03431</td>\n",
       "      <td>USA</td>\n",
       "      <td>SR. INDUSTRIAL ENGINEER</td>\n",
       "      <td>...</td>\n",
       "      <td>Level II</td>\n",
       "      <td>86988.15</td>\n",
       "      <td>0.0</td>\n",
       "      <td>Y</td>\n",
       "      <td>ABERDEEN</td>\n",
       "      <td>MD</td>\n",
       "      <td>N</td>\n",
       "      <td>N</td>\n",
       "      <td>39.509556</td>\n",
       "      <td>-76.164120</td>\n",
       "    </tr>\n",
       "    <tr>\n",
       "      <th>4</th>\n",
       "      <td>2017</td>\n",
       "      <td>C</td>\n",
       "      <td>2017-08-04</td>\n",
       "      <td>2017-08-10</td>\n",
       "      <td>SANFORD CLINIC</td>\n",
       "      <td>SIOUX FALLS</td>\n",
       "      <td>SD</td>\n",
       "      <td>57117</td>\n",
       "      <td>NaN</td>\n",
       "      <td>HEMATOLOGIST/ONCOLOGIST</td>\n",
       "      <td>...</td>\n",
       "      <td>NaN</td>\n",
       "      <td>450000.00</td>\n",
       "      <td>0.0</td>\n",
       "      <td>Y</td>\n",
       "      <td>ABERDEEN</td>\n",
       "      <td>SD</td>\n",
       "      <td>N</td>\n",
       "      <td>N</td>\n",
       "      <td>45.464698</td>\n",
       "      <td>-98.486483</td>\n",
       "    </tr>\n",
       "  </tbody>\n",
       "</table>\n",
       "<p>5 rows × 25 columns</p>\n",
       "</div>"
      ],
      "text/plain": [
       "   case_year case_status case_submitted decision_date  \\\n",
       "0       2017           C     2017-02-06    2017-02-10   \n",
       "1       2017           C     2017-03-21    2017-03-27   \n",
       "2       2017           C     2017-03-17    2017-03-23   \n",
       "3       2017           C     2017-03-10    2017-03-16   \n",
       "4       2017           C     2017-08-04    2017-08-10   \n",
       "\n",
       "                          emp_name     emp_city emp_state emp_zip emp_country  \\\n",
       "0         LAKELANDS NEPHROLOGY, PA    GREENWOOD        SC   29646         USA   \n",
       "1              UNIVERSITY OF IDAHO       MOSCOW        ID   83844         USA   \n",
       "2           XPO SUPPLY CHAIN, INC.   HIGH POINT        NC   27265         USA   \n",
       "3  C AND S WHOLESALE GROCERS, INC.        KEENE        NH   03431         USA   \n",
       "4                   SANFORD CLINIC  SIOUX FALLS        SD   57117         NaN   \n",
       "\n",
       "                 job_title  ...  pw_level  wage_from wage_to  wage_unit  \\\n",
       "0             NEPHROLOGIST  ...       NaN  190000.00     0.0          Y   \n",
       "1     POST DOCTORAL FELLOW  ...   Level I   47507.00     0.0          Y   \n",
       "2        OPERATION ANALYST  ...   Level I   65000.00     0.0          Y   \n",
       "3  SR. INDUSTRIAL ENGINEER  ...  Level II   86988.15     0.0          Y   \n",
       "4  HEMATOLOGIST/ONCOLOGIST  ...       NaN  450000.00     0.0          Y   \n",
       "\n",
       "   work_city work_state  emp_h1b_dependent  emp_willful_violator        lat  \\\n",
       "0  ABBEVILLE         SC                  N                     N  34.178172   \n",
       "1   ABERDEEN         ID                  N                     N  42.944078   \n",
       "2   ABERDEEN         MD                  N                     N  39.509556   \n",
       "3   ABERDEEN         MD                  N                     N  39.509556   \n",
       "4   ABERDEEN         SD                  N                     N  45.464698   \n",
       "\n",
       "          lng  \n",
       "0  -82.379015  \n",
       "1 -112.838326  \n",
       "2  -76.164120  \n",
       "3  -76.164120  \n",
       "4  -98.486483  \n",
       "\n",
       "[5 rows x 25 columns]"
      ]
     },
     "execution_count": 3,
     "metadata": {},
     "output_type": "execute_result"
    }
   ],
   "source": [
    "df1 = df[df[\"case_year\"]==2017]\n",
    "df1.head()"
   ]
  },
  {
   "cell_type": "code",
   "execution_count": 4,
   "id": "05b12232",
   "metadata": {},
   "outputs": [
    {
     "data": {
      "text/plain": [
       "(579397, 25)"
      ]
     },
     "execution_count": 4,
     "metadata": {},
     "output_type": "execute_result"
    }
   ],
   "source": [
    "df1.shape"
   ]
  },
  {
   "cell_type": "code",
   "execution_count": 5,
   "id": "cb368462",
   "metadata": {},
   "outputs": [
    {
     "name": "stdout",
     "output_type": "stream",
     "text": [
      "<class 'pandas.core.frame.DataFrame'>\n",
      "Int64Index: 579397 entries, 0 to 579396\n",
      "Data columns (total 25 columns):\n",
      " #   Column                Non-Null Count   Dtype  \n",
      "---  ------                --------------   -----  \n",
      " 0   case_year             579397 non-null  int64  \n",
      " 1   case_status           579397 non-null  object \n",
      " 2   case_submitted        579397 non-null  object \n",
      " 3   decision_date         579397 non-null  object \n",
      " 4   emp_name              579347 non-null  object \n",
      " 5   emp_city              579385 non-null  object \n",
      " 6   emp_state             579380 non-null  object \n",
      " 7   emp_zip               579383 non-null  object \n",
      " 8   emp_country           490916 non-null  object \n",
      " 9   job_title             579394 non-null  object \n",
      " 10  soc_code              579397 non-null  object \n",
      " 11  soc_name              579396 non-null  object \n",
      " 12  full_time_position    579395 non-null  object \n",
      " 13  prevailing_wage       579396 non-null  float64\n",
      " 14  pw_unit               579369 non-null  object \n",
      " 15  pw_level              465856 non-null  object \n",
      " 16  wage_from             579397 non-null  float64\n",
      " 17  wage_to               579397 non-null  float64\n",
      " 18  wage_unit             579393 non-null  object \n",
      " 19  work_city             579397 non-null  object \n",
      " 20  work_state            579397 non-null  object \n",
      " 21  emp_h1b_dependent     579395 non-null  object \n",
      " 22  emp_willful_violator  579395 non-null  object \n",
      " 23  lat                   579397 non-null  float64\n",
      " 24  lng                   579397 non-null  float64\n",
      "dtypes: float64(5), int64(1), object(19)\n",
      "memory usage: 114.9+ MB\n"
     ]
    }
   ],
   "source": [
    "df1.info()"
   ]
  },
  {
   "cell_type": "code",
   "execution_count": 6,
   "id": "f49d8ec4",
   "metadata": {},
   "outputs": [
    {
     "data": {
      "text/plain": [
       "C     506801\n",
       "CW     46700\n",
       "W      18993\n",
       "D       6903\n",
       "Name: case_status, dtype: int64"
      ]
     },
     "execution_count": 6,
     "metadata": {},
     "output_type": "execute_result"
    }
   ],
   "source": [
    "df1[\"case_status\"].value_counts()"
   ]
  },
  {
   "cell_type": "markdown",
   "id": "33d3727a",
   "metadata": {},
   "source": [
    "#### Considering Withrawn and Certified Withdrawn as same category"
   ]
  },
  {
   "cell_type": "code",
   "execution_count": 7,
   "id": "0f273f01",
   "metadata": {},
   "outputs": [],
   "source": [
    "df1[\"case_status\"].replace(\"CW\",\"W\",inplace=True)"
   ]
  },
  {
   "cell_type": "code",
   "execution_count": 8,
   "id": "cb92a586",
   "metadata": {},
   "outputs": [
    {
     "data": {
      "text/plain": [
       "C    506801\n",
       "W     65693\n",
       "D      6903\n",
       "Name: case_status, dtype: int64"
      ]
     },
     "execution_count": 8,
     "metadata": {},
     "output_type": "execute_result"
    }
   ],
   "source": [
    "df1[\"case_status\"].value_counts()"
   ]
  },
  {
   "cell_type": "markdown",
   "id": "bdf3c51f",
   "metadata": {},
   "source": [
    "## Finding missing values for each column"
   ]
  },
  {
   "cell_type": "code",
   "execution_count": 9,
   "id": "9020129d",
   "metadata": {},
   "outputs": [
    {
     "data": {
      "text/plain": [
       "case_year                    0\n",
       "case_status                  0\n",
       "case_submitted               0\n",
       "decision_date                0\n",
       "emp_name                    50\n",
       "emp_city                    12\n",
       "emp_state                   17\n",
       "emp_zip                     14\n",
       "emp_country              88481\n",
       "job_title                    3\n",
       "soc_code                     0\n",
       "soc_name                     1\n",
       "full_time_position           2\n",
       "prevailing_wage              1\n",
       "pw_unit                     28\n",
       "pw_level                113541\n",
       "wage_from                    0\n",
       "wage_to                      0\n",
       "wage_unit                    4\n",
       "work_city                    0\n",
       "work_state                   0\n",
       "emp_h1b_dependent            2\n",
       "emp_willful_violator         2\n",
       "lat                          0\n",
       "lng                          0\n",
       "dtype: int64"
      ]
     },
     "execution_count": 9,
     "metadata": {},
     "output_type": "execute_result"
    }
   ],
   "source": [
    "df1.isnull().sum()"
   ]
  },
  {
   "cell_type": "code",
   "execution_count": 10,
   "id": "58e59d5b",
   "metadata": {},
   "outputs": [
    {
     "data": {
      "text/plain": [
       "USA          490905\n",
       "CANADA            7\n",
       "AUSTRALIA         2\n",
       "CAMBODIA          1\n",
       "CHINA             1\n",
       "Name: emp_country, dtype: int64"
      ]
     },
     "execution_count": 10,
     "metadata": {},
     "output_type": "execute_result"
    }
   ],
   "source": [
    "df1[\"emp_country\"].value_counts()"
   ]
  },
  {
   "cell_type": "code",
   "execution_count": 11,
   "id": "4ff331fb",
   "metadata": {},
   "outputs": [],
   "source": [
    "df1[\"emp_country\"].fillna(\"USA\", inplace=True)"
   ]
  },
  {
   "cell_type": "code",
   "execution_count": 12,
   "id": "bf3e0f38",
   "metadata": {},
   "outputs": [
    {
     "data": {
      "text/plain": [
       "USA          579386\n",
       "CANADA            7\n",
       "AUSTRALIA         2\n",
       "CAMBODIA          1\n",
       "CHINA             1\n",
       "Name: emp_country, dtype: int64"
      ]
     },
     "execution_count": 12,
     "metadata": {},
     "output_type": "execute_result"
    }
   ],
   "source": [
    "df1[\"emp_country\"].value_counts()"
   ]
  },
  {
   "cell_type": "markdown",
   "id": "8f85ca41",
   "metadata": {},
   "source": [
    "##### Since other countries are in minimal numbers dropping those rows"
   ]
  },
  {
   "cell_type": "code",
   "execution_count": 13,
   "id": "3ac74994",
   "metadata": {},
   "outputs": [],
   "source": [
    "df1.drop(df1[df1[\"emp_country\"] != \"USA\"].index, inplace=True)"
   ]
  },
  {
   "cell_type": "code",
   "execution_count": 14,
   "id": "2e9eea39",
   "metadata": {},
   "outputs": [
    {
     "data": {
      "text/html": [
       "<div>\n",
       "<style scoped>\n",
       "    .dataframe tbody tr th:only-of-type {\n",
       "        vertical-align: middle;\n",
       "    }\n",
       "\n",
       "    .dataframe tbody tr th {\n",
       "        vertical-align: top;\n",
       "    }\n",
       "\n",
       "    .dataframe thead th {\n",
       "        text-align: right;\n",
       "    }\n",
       "</style>\n",
       "<table border=\"1\" class=\"dataframe\">\n",
       "  <thead>\n",
       "    <tr style=\"text-align: right;\">\n",
       "      <th></th>\n",
       "      <th>case_year</th>\n",
       "      <th>case_status</th>\n",
       "      <th>case_submitted</th>\n",
       "      <th>decision_date</th>\n",
       "      <th>emp_name</th>\n",
       "      <th>emp_city</th>\n",
       "      <th>emp_state</th>\n",
       "      <th>emp_zip</th>\n",
       "      <th>emp_country</th>\n",
       "      <th>job_title</th>\n",
       "      <th>...</th>\n",
       "      <th>pw_level</th>\n",
       "      <th>wage_from</th>\n",
       "      <th>wage_to</th>\n",
       "      <th>wage_unit</th>\n",
       "      <th>work_city</th>\n",
       "      <th>work_state</th>\n",
       "      <th>emp_h1b_dependent</th>\n",
       "      <th>emp_willful_violator</th>\n",
       "      <th>lat</th>\n",
       "      <th>lng</th>\n",
       "    </tr>\n",
       "  </thead>\n",
       "  <tbody>\n",
       "    <tr>\n",
       "      <th>44518</th>\n",
       "      <td>2017</td>\n",
       "      <td>W</td>\n",
       "      <td>2017-04-21</td>\n",
       "      <td>2017-04-21</td>\n",
       "      <td>NaN</td>\n",
       "      <td>NaN</td>\n",
       "      <td>NaN</td>\n",
       "      <td>NaN</td>\n",
       "      <td>USA</td>\n",
       "      <td>SENIOR WEB DEVELOPER</td>\n",
       "      <td>...</td>\n",
       "      <td>Level III</td>\n",
       "      <td>122533.00</td>\n",
       "      <td>137533.0</td>\n",
       "      <td>Y</td>\n",
       "      <td>BELLEVUE</td>\n",
       "      <td>WA</td>\n",
       "      <td>Y</td>\n",
       "      <td>N</td>\n",
       "      <td>47.610377</td>\n",
       "      <td>-122.200679</td>\n",
       "    </tr>\n",
       "    <tr>\n",
       "      <th>83270</th>\n",
       "      <td>2017</td>\n",
       "      <td>C</td>\n",
       "      <td>2017-07-07</td>\n",
       "      <td>2017-07-13</td>\n",
       "      <td>SYNAPTIVE MEDICAL USA, INC.</td>\n",
       "      <td>TORONTO</td>\n",
       "      <td>NaN</td>\n",
       "      <td>M5V 3B1</td>\n",
       "      <td>USA</td>\n",
       "      <td>CLINICAL APPLICATION SPECIALIST</td>\n",
       "      <td>...</td>\n",
       "      <td>NaN</td>\n",
       "      <td>78000.00</td>\n",
       "      <td>0.0</td>\n",
       "      <td>Y</td>\n",
       "      <td>CASTRO VALLEY</td>\n",
       "      <td>CA</td>\n",
       "      <td>N</td>\n",
       "      <td>N</td>\n",
       "      <td>37.694097</td>\n",
       "      <td>-122.086352</td>\n",
       "    </tr>\n",
       "    <tr>\n",
       "      <th>93222</th>\n",
       "      <td>2017</td>\n",
       "      <td>W</td>\n",
       "      <td>2017-04-13</td>\n",
       "      <td>2017-04-13</td>\n",
       "      <td>NaN</td>\n",
       "      <td>NaN</td>\n",
       "      <td>NaN</td>\n",
       "      <td>NaN</td>\n",
       "      <td>USA</td>\n",
       "      <td>DATABASE ADMINISTRATOR</td>\n",
       "      <td>...</td>\n",
       "      <td>Level I</td>\n",
       "      <td>70000.00</td>\n",
       "      <td>0.0</td>\n",
       "      <td>Y</td>\n",
       "      <td>CHARLOTTE</td>\n",
       "      <td>NC</td>\n",
       "      <td>Y</td>\n",
       "      <td>N</td>\n",
       "      <td>35.227087</td>\n",
       "      <td>-80.843127</td>\n",
       "    </tr>\n",
       "    <tr>\n",
       "      <th>253072</th>\n",
       "      <td>2017</td>\n",
       "      <td>D</td>\n",
       "      <td>2017-03-02</td>\n",
       "      <td>2017-03-06</td>\n",
       "      <td>NaN</td>\n",
       "      <td>NaN</td>\n",
       "      <td>NaN</td>\n",
       "      <td>NaN</td>\n",
       "      <td>USA</td>\n",
       "      <td>PROGRAMMER ANALYST</td>\n",
       "      <td>...</td>\n",
       "      <td>Level I</td>\n",
       "      <td>60000.00</td>\n",
       "      <td>0.0</td>\n",
       "      <td>Y</td>\n",
       "      <td>LAKE MARY</td>\n",
       "      <td>FL</td>\n",
       "      <td>Y</td>\n",
       "      <td>N</td>\n",
       "      <td>28.758883</td>\n",
       "      <td>-81.317845</td>\n",
       "    </tr>\n",
       "    <tr>\n",
       "      <th>477435</th>\n",
       "      <td>2017</td>\n",
       "      <td>C</td>\n",
       "      <td>2017-07-06</td>\n",
       "      <td>2017-07-12</td>\n",
       "      <td>LULULEMON USA INC.</td>\n",
       "      <td>VANCOUVER</td>\n",
       "      <td>NaN</td>\n",
       "      <td>V6J 1C7</td>\n",
       "      <td>USA</td>\n",
       "      <td>SENIOR CQ (AEM) DEVELOPER</td>\n",
       "      <td>...</td>\n",
       "      <td>NaN</td>\n",
       "      <td>130000.00</td>\n",
       "      <td>0.0</td>\n",
       "      <td>Y</td>\n",
       "      <td>SAN FRANCISCO</td>\n",
       "      <td>CA</td>\n",
       "      <td>N</td>\n",
       "      <td>N</td>\n",
       "      <td>37.774929</td>\n",
       "      <td>-122.419415</td>\n",
       "    </tr>\n",
       "    <tr>\n",
       "      <th>483307</th>\n",
       "      <td>2017</td>\n",
       "      <td>W</td>\n",
       "      <td>2017-03-10</td>\n",
       "      <td>2017-03-10</td>\n",
       "      <td>NaN</td>\n",
       "      <td>NaN</td>\n",
       "      <td>NaN</td>\n",
       "      <td>NaN</td>\n",
       "      <td>USA</td>\n",
       "      <td>SOFTWARE DEVELOPER</td>\n",
       "      <td>...</td>\n",
       "      <td>Level II</td>\n",
       "      <td>59.94</td>\n",
       "      <td>0.0</td>\n",
       "      <td>H</td>\n",
       "      <td>SAN JOSE</td>\n",
       "      <td>CA</td>\n",
       "      <td>Y</td>\n",
       "      <td>N</td>\n",
       "      <td>37.339386</td>\n",
       "      <td>-121.894955</td>\n",
       "    </tr>\n",
       "  </tbody>\n",
       "</table>\n",
       "<p>6 rows × 25 columns</p>\n",
       "</div>"
      ],
      "text/plain": [
       "        case_year case_status case_submitted decision_date  \\\n",
       "44518        2017           W     2017-04-21    2017-04-21   \n",
       "83270        2017           C     2017-07-07    2017-07-13   \n",
       "93222        2017           W     2017-04-13    2017-04-13   \n",
       "253072       2017           D     2017-03-02    2017-03-06   \n",
       "477435       2017           C     2017-07-06    2017-07-12   \n",
       "483307       2017           W     2017-03-10    2017-03-10   \n",
       "\n",
       "                           emp_name   emp_city emp_state  emp_zip emp_country  \\\n",
       "44518                           NaN        NaN       NaN      NaN         USA   \n",
       "83270   SYNAPTIVE MEDICAL USA, INC.    TORONTO       NaN  M5V 3B1         USA   \n",
       "93222                           NaN        NaN       NaN      NaN         USA   \n",
       "253072                          NaN        NaN       NaN      NaN         USA   \n",
       "477435           LULULEMON USA INC.  VANCOUVER       NaN  V6J 1C7         USA   \n",
       "483307                          NaN        NaN       NaN      NaN         USA   \n",
       "\n",
       "                              job_title  ...   pw_level  wage_from   wage_to  \\\n",
       "44518              SENIOR WEB DEVELOPER  ...  Level III  122533.00  137533.0   \n",
       "83270   CLINICAL APPLICATION SPECIALIST  ...        NaN   78000.00       0.0   \n",
       "93222            DATABASE ADMINISTRATOR  ...    Level I   70000.00       0.0   \n",
       "253072               PROGRAMMER ANALYST  ...    Level I   60000.00       0.0   \n",
       "477435        SENIOR CQ (AEM) DEVELOPER  ...        NaN  130000.00       0.0   \n",
       "483307               SOFTWARE DEVELOPER  ...   Level II      59.94       0.0   \n",
       "\n",
       "        wage_unit      work_city work_state  emp_h1b_dependent  \\\n",
       "44518           Y       BELLEVUE         WA                  Y   \n",
       "83270           Y  CASTRO VALLEY         CA                  N   \n",
       "93222           Y      CHARLOTTE         NC                  Y   \n",
       "253072          Y      LAKE MARY         FL                  Y   \n",
       "477435          Y  SAN FRANCISCO         CA                  N   \n",
       "483307          H       SAN JOSE         CA                  Y   \n",
       "\n",
       "        emp_willful_violator        lat         lng  \n",
       "44518                      N  47.610377 -122.200679  \n",
       "83270                      N  37.694097 -122.086352  \n",
       "93222                      N  35.227087  -80.843127  \n",
       "253072                     N  28.758883  -81.317845  \n",
       "477435                     N  37.774929 -122.419415  \n",
       "483307                     N  37.339386 -121.894955  \n",
       "\n",
       "[6 rows x 25 columns]"
      ]
     },
     "execution_count": 14,
     "metadata": {},
     "output_type": "execute_result"
    }
   ],
   "source": [
    "df1[df1[\"emp_state\"].isnull()]"
   ]
  },
  {
   "cell_type": "markdown",
   "id": "24b5fa1e",
   "metadata": {},
   "source": [
    "##### Replacing the null values in state column with mode"
   ]
  },
  {
   "cell_type": "code",
   "execution_count": 15,
   "id": "dbf4c28f",
   "metadata": {},
   "outputs": [
    {
     "data": {
      "text/plain": [
       "0    CA\n",
       "dtype: object"
      ]
     },
     "execution_count": 15,
     "metadata": {},
     "output_type": "execute_result"
    }
   ],
   "source": [
    "df1[\"emp_state\"].mode()"
   ]
  },
  {
   "cell_type": "code",
   "execution_count": 16,
   "id": "71b22b49",
   "metadata": {},
   "outputs": [],
   "source": [
    "df1[\"emp_state\"].fillna(\"CA\", inplace=True)"
   ]
  },
  {
   "cell_type": "code",
   "execution_count": 17,
   "id": "50ed0197",
   "metadata": {},
   "outputs": [
    {
     "data": {
      "text/html": [
       "<div>\n",
       "<style scoped>\n",
       "    .dataframe tbody tr th:only-of-type {\n",
       "        vertical-align: middle;\n",
       "    }\n",
       "\n",
       "    .dataframe tbody tr th {\n",
       "        vertical-align: top;\n",
       "    }\n",
       "\n",
       "    .dataframe thead th {\n",
       "        text-align: right;\n",
       "    }\n",
       "</style>\n",
       "<table border=\"1\" class=\"dataframe\">\n",
       "  <thead>\n",
       "    <tr style=\"text-align: right;\">\n",
       "      <th></th>\n",
       "      <th>case_year</th>\n",
       "      <th>case_status</th>\n",
       "      <th>case_submitted</th>\n",
       "      <th>decision_date</th>\n",
       "      <th>emp_name</th>\n",
       "      <th>emp_city</th>\n",
       "      <th>emp_state</th>\n",
       "      <th>emp_zip</th>\n",
       "      <th>emp_country</th>\n",
       "      <th>job_title</th>\n",
       "      <th>...</th>\n",
       "      <th>pw_level</th>\n",
       "      <th>wage_from</th>\n",
       "      <th>wage_to</th>\n",
       "      <th>wage_unit</th>\n",
       "      <th>work_city</th>\n",
       "      <th>work_state</th>\n",
       "      <th>emp_h1b_dependent</th>\n",
       "      <th>emp_willful_violator</th>\n",
       "      <th>lat</th>\n",
       "      <th>lng</th>\n",
       "    </tr>\n",
       "  </thead>\n",
       "  <tbody>\n",
       "    <tr>\n",
       "      <th>12270</th>\n",
       "      <td>2017</td>\n",
       "      <td>C</td>\n",
       "      <td>2016-10-21</td>\n",
       "      <td>2016-10-27</td>\n",
       "      <td>ITHAKA HARBORS, INC.</td>\n",
       "      <td>NaN</td>\n",
       "      <td>NY</td>\n",
       "      <td>10006</td>\n",
       "      <td>USA</td>\n",
       "      <td>SOFTWARE ENGINEER</td>\n",
       "      <td>...</td>\n",
       "      <td>Level III</td>\n",
       "      <td>105000.00</td>\n",
       "      <td>0.0</td>\n",
       "      <td>Y</td>\n",
       "      <td>ANN ARBOR</td>\n",
       "      <td>MI</td>\n",
       "      <td>N</td>\n",
       "      <td>N</td>\n",
       "      <td>42.270872</td>\n",
       "      <td>-83.726329</td>\n",
       "    </tr>\n",
       "    <tr>\n",
       "      <th>44518</th>\n",
       "      <td>2017</td>\n",
       "      <td>W</td>\n",
       "      <td>2017-04-21</td>\n",
       "      <td>2017-04-21</td>\n",
       "      <td>NaN</td>\n",
       "      <td>NaN</td>\n",
       "      <td>CA</td>\n",
       "      <td>NaN</td>\n",
       "      <td>USA</td>\n",
       "      <td>SENIOR WEB DEVELOPER</td>\n",
       "      <td>...</td>\n",
       "      <td>Level III</td>\n",
       "      <td>122533.00</td>\n",
       "      <td>137533.0</td>\n",
       "      <td>Y</td>\n",
       "      <td>BELLEVUE</td>\n",
       "      <td>WA</td>\n",
       "      <td>Y</td>\n",
       "      <td>N</td>\n",
       "      <td>47.610377</td>\n",
       "      <td>-122.200679</td>\n",
       "    </tr>\n",
       "    <tr>\n",
       "      <th>57899</th>\n",
       "      <td>2017</td>\n",
       "      <td>C</td>\n",
       "      <td>2016-11-07</td>\n",
       "      <td>2016-11-14</td>\n",
       "      <td>FLORIDA ATLANTIC UNIVERSITY</td>\n",
       "      <td>NaN</td>\n",
       "      <td>FL</td>\n",
       "      <td>33431</td>\n",
       "      <td>USA</td>\n",
       "      <td>ASSISTANT PROFESSOR</td>\n",
       "      <td>...</td>\n",
       "      <td>Level II</td>\n",
       "      <td>75000.00</td>\n",
       "      <td>0.0</td>\n",
       "      <td>Y</td>\n",
       "      <td>BOCA RATON</td>\n",
       "      <td>FL</td>\n",
       "      <td>N</td>\n",
       "      <td>N</td>\n",
       "      <td>26.358688</td>\n",
       "      <td>-80.083098</td>\n",
       "    </tr>\n",
       "    <tr>\n",
       "      <th>58013</th>\n",
       "      <td>2017</td>\n",
       "      <td>C</td>\n",
       "      <td>2016-11-01</td>\n",
       "      <td>2016-11-07</td>\n",
       "      <td>FLORIDA ATLANTIC UNIVERSITY</td>\n",
       "      <td>NaN</td>\n",
       "      <td>FL</td>\n",
       "      <td>33431</td>\n",
       "      <td>USA</td>\n",
       "      <td>ASSISTANT PROFESSOR</td>\n",
       "      <td>...</td>\n",
       "      <td>Level I</td>\n",
       "      <td>75000.00</td>\n",
       "      <td>0.0</td>\n",
       "      <td>Y</td>\n",
       "      <td>BOCA RATON</td>\n",
       "      <td>FL</td>\n",
       "      <td>N</td>\n",
       "      <td>N</td>\n",
       "      <td>26.358688</td>\n",
       "      <td>-80.083098</td>\n",
       "    </tr>\n",
       "    <tr>\n",
       "      <th>58171</th>\n",
       "      <td>2017</td>\n",
       "      <td>C</td>\n",
       "      <td>2017-04-04</td>\n",
       "      <td>2017-04-10</td>\n",
       "      <td>FLORIDA ATLANTIC UNIVERSITY</td>\n",
       "      <td>NaN</td>\n",
       "      <td>FL</td>\n",
       "      <td>33431</td>\n",
       "      <td>USA</td>\n",
       "      <td>ASSISTANT PROFESSOR</td>\n",
       "      <td>...</td>\n",
       "      <td>Level I</td>\n",
       "      <td>72720.00</td>\n",
       "      <td>0.0</td>\n",
       "      <td>Y</td>\n",
       "      <td>BOCA RATON</td>\n",
       "      <td>FL</td>\n",
       "      <td>N</td>\n",
       "      <td>N</td>\n",
       "      <td>26.358688</td>\n",
       "      <td>-80.083098</td>\n",
       "    </tr>\n",
       "    <tr>\n",
       "      <th>60682</th>\n",
       "      <td>2017</td>\n",
       "      <td>C</td>\n",
       "      <td>2017-03-08</td>\n",
       "      <td>2017-03-14</td>\n",
       "      <td>BOSTON GODEARS CONSULTING LLC</td>\n",
       "      <td>NaN</td>\n",
       "      <td>MA</td>\n",
       "      <td>02111</td>\n",
       "      <td>USA</td>\n",
       "      <td>STAFF ACCOUNTANT</td>\n",
       "      <td>...</td>\n",
       "      <td>Level I</td>\n",
       "      <td>26.69</td>\n",
       "      <td>0.0</td>\n",
       "      <td>H</td>\n",
       "      <td>BOSTON</td>\n",
       "      <td>MA</td>\n",
       "      <td>N</td>\n",
       "      <td>N</td>\n",
       "      <td>42.358431</td>\n",
       "      <td>-71.059773</td>\n",
       "    </tr>\n",
       "    <tr>\n",
       "      <th>93222</th>\n",
       "      <td>2017</td>\n",
       "      <td>W</td>\n",
       "      <td>2017-04-13</td>\n",
       "      <td>2017-04-13</td>\n",
       "      <td>NaN</td>\n",
       "      <td>NaN</td>\n",
       "      <td>CA</td>\n",
       "      <td>NaN</td>\n",
       "      <td>USA</td>\n",
       "      <td>DATABASE ADMINISTRATOR</td>\n",
       "      <td>...</td>\n",
       "      <td>Level I</td>\n",
       "      <td>70000.00</td>\n",
       "      <td>0.0</td>\n",
       "      <td>Y</td>\n",
       "      <td>CHARLOTTE</td>\n",
       "      <td>NC</td>\n",
       "      <td>Y</td>\n",
       "      <td>N</td>\n",
       "      <td>35.227087</td>\n",
       "      <td>-80.843127</td>\n",
       "    </tr>\n",
       "    <tr>\n",
       "      <th>150335</th>\n",
       "      <td>2017</td>\n",
       "      <td>C</td>\n",
       "      <td>2016-12-28</td>\n",
       "      <td>2017-01-04</td>\n",
       "      <td>HANCE INCORPORATED</td>\n",
       "      <td>NaN</td>\n",
       "      <td>DE</td>\n",
       "      <td>19713</td>\n",
       "      <td>USA</td>\n",
       "      <td>SENIOR TECHNICAL BUSINESS ANALYST</td>\n",
       "      <td>...</td>\n",
       "      <td>Level II</td>\n",
       "      <td>72000.00</td>\n",
       "      <td>0.0</td>\n",
       "      <td>Y</td>\n",
       "      <td>DUBLIN</td>\n",
       "      <td>OH</td>\n",
       "      <td>Y</td>\n",
       "      <td>N</td>\n",
       "      <td>40.099229</td>\n",
       "      <td>-83.114077</td>\n",
       "    </tr>\n",
       "    <tr>\n",
       "      <th>253072</th>\n",
       "      <td>2017</td>\n",
       "      <td>D</td>\n",
       "      <td>2017-03-02</td>\n",
       "      <td>2017-03-06</td>\n",
       "      <td>NaN</td>\n",
       "      <td>NaN</td>\n",
       "      <td>CA</td>\n",
       "      <td>NaN</td>\n",
       "      <td>USA</td>\n",
       "      <td>PROGRAMMER ANALYST</td>\n",
       "      <td>...</td>\n",
       "      <td>Level I</td>\n",
       "      <td>60000.00</td>\n",
       "      <td>0.0</td>\n",
       "      <td>Y</td>\n",
       "      <td>LAKE MARY</td>\n",
       "      <td>FL</td>\n",
       "      <td>Y</td>\n",
       "      <td>N</td>\n",
       "      <td>28.758883</td>\n",
       "      <td>-81.317845</td>\n",
       "    </tr>\n",
       "    <tr>\n",
       "      <th>408853</th>\n",
       "      <td>2017</td>\n",
       "      <td>C</td>\n",
       "      <td>2017-06-15</td>\n",
       "      <td>2017-06-21</td>\n",
       "      <td>AURORA ORGANIC FARMS INC.</td>\n",
       "      <td>NaN</td>\n",
       "      <td>CO</td>\n",
       "      <td>80302</td>\n",
       "      <td>USA</td>\n",
       "      <td>GRAZING SYSTEMS REPRODUCTION TECHNICIAN</td>\n",
       "      <td>...</td>\n",
       "      <td>Level II</td>\n",
       "      <td>70000.00</td>\n",
       "      <td>0.0</td>\n",
       "      <td>Y</td>\n",
       "      <td>PLATTEVILLE</td>\n",
       "      <td>CO</td>\n",
       "      <td>N</td>\n",
       "      <td>N</td>\n",
       "      <td>40.214983</td>\n",
       "      <td>-104.822749</td>\n",
       "    </tr>\n",
       "    <tr>\n",
       "      <th>483307</th>\n",
       "      <td>2017</td>\n",
       "      <td>W</td>\n",
       "      <td>2017-03-10</td>\n",
       "      <td>2017-03-10</td>\n",
       "      <td>NaN</td>\n",
       "      <td>NaN</td>\n",
       "      <td>CA</td>\n",
       "      <td>NaN</td>\n",
       "      <td>USA</td>\n",
       "      <td>SOFTWARE DEVELOPER</td>\n",
       "      <td>...</td>\n",
       "      <td>Level II</td>\n",
       "      <td>59.94</td>\n",
       "      <td>0.0</td>\n",
       "      <td>H</td>\n",
       "      <td>SAN JOSE</td>\n",
       "      <td>CA</td>\n",
       "      <td>Y</td>\n",
       "      <td>N</td>\n",
       "      <td>37.339386</td>\n",
       "      <td>-121.894955</td>\n",
       "    </tr>\n",
       "    <tr>\n",
       "      <th>487403</th>\n",
       "      <td>2017</td>\n",
       "      <td>C</td>\n",
       "      <td>2017-02-08</td>\n",
       "      <td>2017-02-14</td>\n",
       "      <td>EBAY, INC.</td>\n",
       "      <td>NaN</td>\n",
       "      <td>CA</td>\n",
       "      <td>95125</td>\n",
       "      <td>USA</td>\n",
       "      <td>MANAGER, PRODUCT MANAGEMENT 2</td>\n",
       "      <td>...</td>\n",
       "      <td>Level IV</td>\n",
       "      <td>158000.00</td>\n",
       "      <td>0.0</td>\n",
       "      <td>Y</td>\n",
       "      <td>SAN JOSE</td>\n",
       "      <td>CA</td>\n",
       "      <td>N</td>\n",
       "      <td>N</td>\n",
       "      <td>37.339386</td>\n",
       "      <td>-121.894955</td>\n",
       "    </tr>\n",
       "  </tbody>\n",
       "</table>\n",
       "<p>12 rows × 25 columns</p>\n",
       "</div>"
      ],
      "text/plain": [
       "        case_year case_status case_submitted decision_date  \\\n",
       "12270        2017           C     2016-10-21    2016-10-27   \n",
       "44518        2017           W     2017-04-21    2017-04-21   \n",
       "57899        2017           C     2016-11-07    2016-11-14   \n",
       "58013        2017           C     2016-11-01    2016-11-07   \n",
       "58171        2017           C     2017-04-04    2017-04-10   \n",
       "60682        2017           C     2017-03-08    2017-03-14   \n",
       "93222        2017           W     2017-04-13    2017-04-13   \n",
       "150335       2017           C     2016-12-28    2017-01-04   \n",
       "253072       2017           D     2017-03-02    2017-03-06   \n",
       "408853       2017           C     2017-06-15    2017-06-21   \n",
       "483307       2017           W     2017-03-10    2017-03-10   \n",
       "487403       2017           C     2017-02-08    2017-02-14   \n",
       "\n",
       "                             emp_name emp_city emp_state emp_zip emp_country  \\\n",
       "12270            ITHAKA HARBORS, INC.      NaN        NY   10006         USA   \n",
       "44518                             NaN      NaN        CA     NaN         USA   \n",
       "57899     FLORIDA ATLANTIC UNIVERSITY      NaN        FL   33431         USA   \n",
       "58013     FLORIDA ATLANTIC UNIVERSITY      NaN        FL   33431         USA   \n",
       "58171     FLORIDA ATLANTIC UNIVERSITY      NaN        FL   33431         USA   \n",
       "60682   BOSTON GODEARS CONSULTING LLC      NaN        MA   02111         USA   \n",
       "93222                             NaN      NaN        CA     NaN         USA   \n",
       "150335             HANCE INCORPORATED      NaN        DE   19713         USA   \n",
       "253072                            NaN      NaN        CA     NaN         USA   \n",
       "408853      AURORA ORGANIC FARMS INC.      NaN        CO   80302         USA   \n",
       "483307                            NaN      NaN        CA     NaN         USA   \n",
       "487403                     EBAY, INC.      NaN        CA   95125         USA   \n",
       "\n",
       "                                      job_title  ...   pw_level  wage_from  \\\n",
       "12270                         SOFTWARE ENGINEER  ...  Level III  105000.00   \n",
       "44518                      SENIOR WEB DEVELOPER  ...  Level III  122533.00   \n",
       "57899                       ASSISTANT PROFESSOR  ...   Level II   75000.00   \n",
       "58013                       ASSISTANT PROFESSOR  ...    Level I   75000.00   \n",
       "58171                       ASSISTANT PROFESSOR  ...    Level I   72720.00   \n",
       "60682                          STAFF ACCOUNTANT  ...    Level I      26.69   \n",
       "93222                    DATABASE ADMINISTRATOR  ...    Level I   70000.00   \n",
       "150335        SENIOR TECHNICAL BUSINESS ANALYST  ...   Level II   72000.00   \n",
       "253072                       PROGRAMMER ANALYST  ...    Level I   60000.00   \n",
       "408853  GRAZING SYSTEMS REPRODUCTION TECHNICIAN  ...   Level II   70000.00   \n",
       "483307                       SOFTWARE DEVELOPER  ...   Level II      59.94   \n",
       "487403            MANAGER, PRODUCT MANAGEMENT 2  ...   Level IV  158000.00   \n",
       "\n",
       "         wage_to  wage_unit    work_city work_state  emp_h1b_dependent  \\\n",
       "12270        0.0          Y    ANN ARBOR         MI                  N   \n",
       "44518   137533.0          Y     BELLEVUE         WA                  Y   \n",
       "57899        0.0          Y   BOCA RATON         FL                  N   \n",
       "58013        0.0          Y   BOCA RATON         FL                  N   \n",
       "58171        0.0          Y   BOCA RATON         FL                  N   \n",
       "60682        0.0          H       BOSTON         MA                  N   \n",
       "93222        0.0          Y    CHARLOTTE         NC                  Y   \n",
       "150335       0.0          Y       DUBLIN         OH                  Y   \n",
       "253072       0.0          Y    LAKE MARY         FL                  Y   \n",
       "408853       0.0          Y  PLATTEVILLE         CO                  N   \n",
       "483307       0.0          H     SAN JOSE         CA                  Y   \n",
       "487403       0.0          Y     SAN JOSE         CA                  N   \n",
       "\n",
       "        emp_willful_violator        lat         lng  \n",
       "12270                      N  42.270872  -83.726329  \n",
       "44518                      N  47.610377 -122.200679  \n",
       "57899                      N  26.358688  -80.083098  \n",
       "58013                      N  26.358688  -80.083098  \n",
       "58171                      N  26.358688  -80.083098  \n",
       "60682                      N  42.358431  -71.059773  \n",
       "93222                      N  35.227087  -80.843127  \n",
       "150335                     N  40.099229  -83.114077  \n",
       "253072                     N  28.758883  -81.317845  \n",
       "408853                     N  40.214983 -104.822749  \n",
       "483307                     N  37.339386 -121.894955  \n",
       "487403                     N  37.339386 -121.894955  \n",
       "\n",
       "[12 rows x 25 columns]"
      ]
     },
     "execution_count": 17,
     "metadata": {},
     "output_type": "execute_result"
    }
   ],
   "source": [
    "df1[df1[\"emp_city\"].isnull()]"
   ]
  },
  {
   "cell_type": "code",
   "execution_count": 18,
   "id": "52f41654",
   "metadata": {},
   "outputs": [
    {
     "data": {
      "text/html": [
       "<div>\n",
       "<style scoped>\n",
       "    .dataframe tbody tr th:only-of-type {\n",
       "        vertical-align: middle;\n",
       "    }\n",
       "\n",
       "    .dataframe tbody tr th {\n",
       "        vertical-align: top;\n",
       "    }\n",
       "\n",
       "    .dataframe thead th {\n",
       "        text-align: right;\n",
       "    }\n",
       "</style>\n",
       "<table border=\"1\" class=\"dataframe\">\n",
       "  <thead>\n",
       "    <tr style=\"text-align: right;\">\n",
       "      <th></th>\n",
       "      <th>case_year</th>\n",
       "      <th>case_status</th>\n",
       "      <th>case_submitted</th>\n",
       "      <th>decision_date</th>\n",
       "      <th>emp_name</th>\n",
       "      <th>emp_city</th>\n",
       "      <th>emp_state</th>\n",
       "      <th>emp_zip</th>\n",
       "      <th>emp_country</th>\n",
       "      <th>job_title</th>\n",
       "      <th>...</th>\n",
       "      <th>pw_level</th>\n",
       "      <th>wage_from</th>\n",
       "      <th>wage_to</th>\n",
       "      <th>wage_unit</th>\n",
       "      <th>work_city</th>\n",
       "      <th>work_state</th>\n",
       "      <th>emp_h1b_dependent</th>\n",
       "      <th>emp_willful_violator</th>\n",
       "      <th>lat</th>\n",
       "      <th>lng</th>\n",
       "    </tr>\n",
       "  </thead>\n",
       "  <tbody>\n",
       "    <tr>\n",
       "      <th>12270</th>\n",
       "      <td>2017</td>\n",
       "      <td>C</td>\n",
       "      <td>2016-10-21</td>\n",
       "      <td>2016-10-27</td>\n",
       "      <td>ITHAKA HARBORS, INC.</td>\n",
       "      <td>NaN</td>\n",
       "      <td>NY</td>\n",
       "      <td>10006</td>\n",
       "      <td>USA</td>\n",
       "      <td>SOFTWARE ENGINEER</td>\n",
       "      <td>...</td>\n",
       "      <td>Level III</td>\n",
       "      <td>105000.00</td>\n",
       "      <td>0.0</td>\n",
       "      <td>Y</td>\n",
       "      <td>ANN ARBOR</td>\n",
       "      <td>MI</td>\n",
       "      <td>N</td>\n",
       "      <td>N</td>\n",
       "      <td>42.270872</td>\n",
       "      <td>-83.726329</td>\n",
       "    </tr>\n",
       "    <tr>\n",
       "      <th>44518</th>\n",
       "      <td>2017</td>\n",
       "      <td>W</td>\n",
       "      <td>2017-04-21</td>\n",
       "      <td>2017-04-21</td>\n",
       "      <td>NaN</td>\n",
       "      <td>NaN</td>\n",
       "      <td>CA</td>\n",
       "      <td>NaN</td>\n",
       "      <td>USA</td>\n",
       "      <td>SENIOR WEB DEVELOPER</td>\n",
       "      <td>...</td>\n",
       "      <td>Level III</td>\n",
       "      <td>122533.00</td>\n",
       "      <td>137533.0</td>\n",
       "      <td>Y</td>\n",
       "      <td>BELLEVUE</td>\n",
       "      <td>WA</td>\n",
       "      <td>Y</td>\n",
       "      <td>N</td>\n",
       "      <td>47.610377</td>\n",
       "      <td>-122.200679</td>\n",
       "    </tr>\n",
       "    <tr>\n",
       "      <th>57899</th>\n",
       "      <td>2017</td>\n",
       "      <td>C</td>\n",
       "      <td>2016-11-07</td>\n",
       "      <td>2016-11-14</td>\n",
       "      <td>FLORIDA ATLANTIC UNIVERSITY</td>\n",
       "      <td>NaN</td>\n",
       "      <td>FL</td>\n",
       "      <td>33431</td>\n",
       "      <td>USA</td>\n",
       "      <td>ASSISTANT PROFESSOR</td>\n",
       "      <td>...</td>\n",
       "      <td>Level II</td>\n",
       "      <td>75000.00</td>\n",
       "      <td>0.0</td>\n",
       "      <td>Y</td>\n",
       "      <td>BOCA RATON</td>\n",
       "      <td>FL</td>\n",
       "      <td>N</td>\n",
       "      <td>N</td>\n",
       "      <td>26.358688</td>\n",
       "      <td>-80.083098</td>\n",
       "    </tr>\n",
       "    <tr>\n",
       "      <th>58013</th>\n",
       "      <td>2017</td>\n",
       "      <td>C</td>\n",
       "      <td>2016-11-01</td>\n",
       "      <td>2016-11-07</td>\n",
       "      <td>FLORIDA ATLANTIC UNIVERSITY</td>\n",
       "      <td>NaN</td>\n",
       "      <td>FL</td>\n",
       "      <td>33431</td>\n",
       "      <td>USA</td>\n",
       "      <td>ASSISTANT PROFESSOR</td>\n",
       "      <td>...</td>\n",
       "      <td>Level I</td>\n",
       "      <td>75000.00</td>\n",
       "      <td>0.0</td>\n",
       "      <td>Y</td>\n",
       "      <td>BOCA RATON</td>\n",
       "      <td>FL</td>\n",
       "      <td>N</td>\n",
       "      <td>N</td>\n",
       "      <td>26.358688</td>\n",
       "      <td>-80.083098</td>\n",
       "    </tr>\n",
       "    <tr>\n",
       "      <th>58171</th>\n",
       "      <td>2017</td>\n",
       "      <td>C</td>\n",
       "      <td>2017-04-04</td>\n",
       "      <td>2017-04-10</td>\n",
       "      <td>FLORIDA ATLANTIC UNIVERSITY</td>\n",
       "      <td>NaN</td>\n",
       "      <td>FL</td>\n",
       "      <td>33431</td>\n",
       "      <td>USA</td>\n",
       "      <td>ASSISTANT PROFESSOR</td>\n",
       "      <td>...</td>\n",
       "      <td>Level I</td>\n",
       "      <td>72720.00</td>\n",
       "      <td>0.0</td>\n",
       "      <td>Y</td>\n",
       "      <td>BOCA RATON</td>\n",
       "      <td>FL</td>\n",
       "      <td>N</td>\n",
       "      <td>N</td>\n",
       "      <td>26.358688</td>\n",
       "      <td>-80.083098</td>\n",
       "    </tr>\n",
       "    <tr>\n",
       "      <th>60682</th>\n",
       "      <td>2017</td>\n",
       "      <td>C</td>\n",
       "      <td>2017-03-08</td>\n",
       "      <td>2017-03-14</td>\n",
       "      <td>BOSTON GODEARS CONSULTING LLC</td>\n",
       "      <td>NaN</td>\n",
       "      <td>MA</td>\n",
       "      <td>02111</td>\n",
       "      <td>USA</td>\n",
       "      <td>STAFF ACCOUNTANT</td>\n",
       "      <td>...</td>\n",
       "      <td>Level I</td>\n",
       "      <td>26.69</td>\n",
       "      <td>0.0</td>\n",
       "      <td>H</td>\n",
       "      <td>BOSTON</td>\n",
       "      <td>MA</td>\n",
       "      <td>N</td>\n",
       "      <td>N</td>\n",
       "      <td>42.358431</td>\n",
       "      <td>-71.059773</td>\n",
       "    </tr>\n",
       "    <tr>\n",
       "      <th>93222</th>\n",
       "      <td>2017</td>\n",
       "      <td>W</td>\n",
       "      <td>2017-04-13</td>\n",
       "      <td>2017-04-13</td>\n",
       "      <td>NaN</td>\n",
       "      <td>NaN</td>\n",
       "      <td>CA</td>\n",
       "      <td>NaN</td>\n",
       "      <td>USA</td>\n",
       "      <td>DATABASE ADMINISTRATOR</td>\n",
       "      <td>...</td>\n",
       "      <td>Level I</td>\n",
       "      <td>70000.00</td>\n",
       "      <td>0.0</td>\n",
       "      <td>Y</td>\n",
       "      <td>CHARLOTTE</td>\n",
       "      <td>NC</td>\n",
       "      <td>Y</td>\n",
       "      <td>N</td>\n",
       "      <td>35.227087</td>\n",
       "      <td>-80.843127</td>\n",
       "    </tr>\n",
       "    <tr>\n",
       "      <th>150335</th>\n",
       "      <td>2017</td>\n",
       "      <td>C</td>\n",
       "      <td>2016-12-28</td>\n",
       "      <td>2017-01-04</td>\n",
       "      <td>HANCE INCORPORATED</td>\n",
       "      <td>NaN</td>\n",
       "      <td>DE</td>\n",
       "      <td>19713</td>\n",
       "      <td>USA</td>\n",
       "      <td>SENIOR TECHNICAL BUSINESS ANALYST</td>\n",
       "      <td>...</td>\n",
       "      <td>Level II</td>\n",
       "      <td>72000.00</td>\n",
       "      <td>0.0</td>\n",
       "      <td>Y</td>\n",
       "      <td>DUBLIN</td>\n",
       "      <td>OH</td>\n",
       "      <td>Y</td>\n",
       "      <td>N</td>\n",
       "      <td>40.099229</td>\n",
       "      <td>-83.114077</td>\n",
       "    </tr>\n",
       "    <tr>\n",
       "      <th>253072</th>\n",
       "      <td>2017</td>\n",
       "      <td>D</td>\n",
       "      <td>2017-03-02</td>\n",
       "      <td>2017-03-06</td>\n",
       "      <td>NaN</td>\n",
       "      <td>NaN</td>\n",
       "      <td>CA</td>\n",
       "      <td>NaN</td>\n",
       "      <td>USA</td>\n",
       "      <td>PROGRAMMER ANALYST</td>\n",
       "      <td>...</td>\n",
       "      <td>Level I</td>\n",
       "      <td>60000.00</td>\n",
       "      <td>0.0</td>\n",
       "      <td>Y</td>\n",
       "      <td>LAKE MARY</td>\n",
       "      <td>FL</td>\n",
       "      <td>Y</td>\n",
       "      <td>N</td>\n",
       "      <td>28.758883</td>\n",
       "      <td>-81.317845</td>\n",
       "    </tr>\n",
       "    <tr>\n",
       "      <th>408853</th>\n",
       "      <td>2017</td>\n",
       "      <td>C</td>\n",
       "      <td>2017-06-15</td>\n",
       "      <td>2017-06-21</td>\n",
       "      <td>AURORA ORGANIC FARMS INC.</td>\n",
       "      <td>NaN</td>\n",
       "      <td>CO</td>\n",
       "      <td>80302</td>\n",
       "      <td>USA</td>\n",
       "      <td>GRAZING SYSTEMS REPRODUCTION TECHNICIAN</td>\n",
       "      <td>...</td>\n",
       "      <td>Level II</td>\n",
       "      <td>70000.00</td>\n",
       "      <td>0.0</td>\n",
       "      <td>Y</td>\n",
       "      <td>PLATTEVILLE</td>\n",
       "      <td>CO</td>\n",
       "      <td>N</td>\n",
       "      <td>N</td>\n",
       "      <td>40.214983</td>\n",
       "      <td>-104.822749</td>\n",
       "    </tr>\n",
       "    <tr>\n",
       "      <th>483307</th>\n",
       "      <td>2017</td>\n",
       "      <td>W</td>\n",
       "      <td>2017-03-10</td>\n",
       "      <td>2017-03-10</td>\n",
       "      <td>NaN</td>\n",
       "      <td>NaN</td>\n",
       "      <td>CA</td>\n",
       "      <td>NaN</td>\n",
       "      <td>USA</td>\n",
       "      <td>SOFTWARE DEVELOPER</td>\n",
       "      <td>...</td>\n",
       "      <td>Level II</td>\n",
       "      <td>59.94</td>\n",
       "      <td>0.0</td>\n",
       "      <td>H</td>\n",
       "      <td>SAN JOSE</td>\n",
       "      <td>CA</td>\n",
       "      <td>Y</td>\n",
       "      <td>N</td>\n",
       "      <td>37.339386</td>\n",
       "      <td>-121.894955</td>\n",
       "    </tr>\n",
       "    <tr>\n",
       "      <th>487403</th>\n",
       "      <td>2017</td>\n",
       "      <td>C</td>\n",
       "      <td>2017-02-08</td>\n",
       "      <td>2017-02-14</td>\n",
       "      <td>EBAY, INC.</td>\n",
       "      <td>NaN</td>\n",
       "      <td>CA</td>\n",
       "      <td>95125</td>\n",
       "      <td>USA</td>\n",
       "      <td>MANAGER, PRODUCT MANAGEMENT 2</td>\n",
       "      <td>...</td>\n",
       "      <td>Level IV</td>\n",
       "      <td>158000.00</td>\n",
       "      <td>0.0</td>\n",
       "      <td>Y</td>\n",
       "      <td>SAN JOSE</td>\n",
       "      <td>CA</td>\n",
       "      <td>N</td>\n",
       "      <td>N</td>\n",
       "      <td>37.339386</td>\n",
       "      <td>-121.894955</td>\n",
       "    </tr>\n",
       "  </tbody>\n",
       "</table>\n",
       "<p>12 rows × 25 columns</p>\n",
       "</div>"
      ],
      "text/plain": [
       "        case_year case_status case_submitted decision_date  \\\n",
       "12270        2017           C     2016-10-21    2016-10-27   \n",
       "44518        2017           W     2017-04-21    2017-04-21   \n",
       "57899        2017           C     2016-11-07    2016-11-14   \n",
       "58013        2017           C     2016-11-01    2016-11-07   \n",
       "58171        2017           C     2017-04-04    2017-04-10   \n",
       "60682        2017           C     2017-03-08    2017-03-14   \n",
       "93222        2017           W     2017-04-13    2017-04-13   \n",
       "150335       2017           C     2016-12-28    2017-01-04   \n",
       "253072       2017           D     2017-03-02    2017-03-06   \n",
       "408853       2017           C     2017-06-15    2017-06-21   \n",
       "483307       2017           W     2017-03-10    2017-03-10   \n",
       "487403       2017           C     2017-02-08    2017-02-14   \n",
       "\n",
       "                             emp_name emp_city emp_state emp_zip emp_country  \\\n",
       "12270            ITHAKA HARBORS, INC.      NaN        NY   10006         USA   \n",
       "44518                             NaN      NaN        CA     NaN         USA   \n",
       "57899     FLORIDA ATLANTIC UNIVERSITY      NaN        FL   33431         USA   \n",
       "58013     FLORIDA ATLANTIC UNIVERSITY      NaN        FL   33431         USA   \n",
       "58171     FLORIDA ATLANTIC UNIVERSITY      NaN        FL   33431         USA   \n",
       "60682   BOSTON GODEARS CONSULTING LLC      NaN        MA   02111         USA   \n",
       "93222                             NaN      NaN        CA     NaN         USA   \n",
       "150335             HANCE INCORPORATED      NaN        DE   19713         USA   \n",
       "253072                            NaN      NaN        CA     NaN         USA   \n",
       "408853      AURORA ORGANIC FARMS INC.      NaN        CO   80302         USA   \n",
       "483307                            NaN      NaN        CA     NaN         USA   \n",
       "487403                     EBAY, INC.      NaN        CA   95125         USA   \n",
       "\n",
       "                                      job_title  ...   pw_level  wage_from  \\\n",
       "12270                         SOFTWARE ENGINEER  ...  Level III  105000.00   \n",
       "44518                      SENIOR WEB DEVELOPER  ...  Level III  122533.00   \n",
       "57899                       ASSISTANT PROFESSOR  ...   Level II   75000.00   \n",
       "58013                       ASSISTANT PROFESSOR  ...    Level I   75000.00   \n",
       "58171                       ASSISTANT PROFESSOR  ...    Level I   72720.00   \n",
       "60682                          STAFF ACCOUNTANT  ...    Level I      26.69   \n",
       "93222                    DATABASE ADMINISTRATOR  ...    Level I   70000.00   \n",
       "150335        SENIOR TECHNICAL BUSINESS ANALYST  ...   Level II   72000.00   \n",
       "253072                       PROGRAMMER ANALYST  ...    Level I   60000.00   \n",
       "408853  GRAZING SYSTEMS REPRODUCTION TECHNICIAN  ...   Level II   70000.00   \n",
       "483307                       SOFTWARE DEVELOPER  ...   Level II      59.94   \n",
       "487403            MANAGER, PRODUCT MANAGEMENT 2  ...   Level IV  158000.00   \n",
       "\n",
       "         wage_to  wage_unit    work_city work_state  emp_h1b_dependent  \\\n",
       "12270        0.0          Y    ANN ARBOR         MI                  N   \n",
       "44518   137533.0          Y     BELLEVUE         WA                  Y   \n",
       "57899        0.0          Y   BOCA RATON         FL                  N   \n",
       "58013        0.0          Y   BOCA RATON         FL                  N   \n",
       "58171        0.0          Y   BOCA RATON         FL                  N   \n",
       "60682        0.0          H       BOSTON         MA                  N   \n",
       "93222        0.0          Y    CHARLOTTE         NC                  Y   \n",
       "150335       0.0          Y       DUBLIN         OH                  Y   \n",
       "253072       0.0          Y    LAKE MARY         FL                  Y   \n",
       "408853       0.0          Y  PLATTEVILLE         CO                  N   \n",
       "483307       0.0          H     SAN JOSE         CA                  Y   \n",
       "487403       0.0          Y     SAN JOSE         CA                  N   \n",
       "\n",
       "        emp_willful_violator        lat         lng  \n",
       "12270                      N  42.270872  -83.726329  \n",
       "44518                      N  47.610377 -122.200679  \n",
       "57899                      N  26.358688  -80.083098  \n",
       "58013                      N  26.358688  -80.083098  \n",
       "58171                      N  26.358688  -80.083098  \n",
       "60682                      N  42.358431  -71.059773  \n",
       "93222                      N  35.227087  -80.843127  \n",
       "150335                     N  40.099229  -83.114077  \n",
       "253072                     N  28.758883  -81.317845  \n",
       "408853                     N  40.214983 -104.822749  \n",
       "483307                     N  37.339386 -121.894955  \n",
       "487403                     N  37.339386 -121.894955  \n",
       "\n",
       "[12 rows x 25 columns]"
      ]
     },
     "execution_count": 18,
     "metadata": {},
     "output_type": "execute_result"
    }
   ],
   "source": [
    "df1[df1[\"emp_city\"].isnull()]"
   ]
  },
  {
   "cell_type": "markdown",
   "id": "8fb26283",
   "metadata": {},
   "source": [
    "##### Imputing null values in emp_city column based on mode of emp_name"
   ]
  },
  {
   "cell_type": "code",
   "execution_count": 19,
   "id": "f0b9aa91",
   "metadata": {},
   "outputs": [
    {
     "data": {
      "text/plain": [
       "0    BOCA RATON\n",
       "dtype: object"
      ]
     },
     "execution_count": 19,
     "metadata": {},
     "output_type": "execute_result"
    }
   ],
   "source": [
    "df1[df1[\"emp_name\"]==\"FLORIDA ATLANTIC UNIVERSITY\"][\"emp_city\"].mode()"
   ]
  },
  {
   "cell_type": "code",
   "execution_count": 20,
   "id": "8064a929",
   "metadata": {},
   "outputs": [],
   "source": [
    "df1.loc[(df1[\"emp_name\"] == \"FLORIDA ATLANTIC UNIVERSITY\") & (df1[\"emp_city\"].isnull()), \"emp_city\"] = \"BOCA RATON\""
   ]
  },
  {
   "cell_type": "code",
   "execution_count": 21,
   "id": "a5b252c2",
   "metadata": {},
   "outputs": [
    {
     "data": {
      "text/plain": [
       "0    NEW YORK\n",
       "dtype: object"
      ]
     },
     "execution_count": 21,
     "metadata": {},
     "output_type": "execute_result"
    }
   ],
   "source": [
    "df1[df1[\"emp_name\"]==\"ITHAKA HARBORS, INC.\"][\"emp_city\"].mode()"
   ]
  },
  {
   "cell_type": "code",
   "execution_count": 22,
   "id": "6e986590",
   "metadata": {},
   "outputs": [],
   "source": [
    "df1.loc[(df1[\"emp_name\"] == \"ITHAKA HARBORS, INC.\") & (df1[\"emp_city\"].isnull()), \"emp_city\"] = \"NEW YORK\""
   ]
  },
  {
   "cell_type": "code",
   "execution_count": 23,
   "id": "5e430f58",
   "metadata": {},
   "outputs": [
    {
     "data": {
      "text/plain": [
       "0    BOSTON\n",
       "dtype: object"
      ]
     },
     "execution_count": 23,
     "metadata": {},
     "output_type": "execute_result"
    }
   ],
   "source": [
    "df1[df1[\"emp_name\"]==\"BOSTON GODEARS CONSULTING LLC\"][\"emp_city\"].mode()"
   ]
  },
  {
   "cell_type": "code",
   "execution_count": 24,
   "id": "1ae69360",
   "metadata": {},
   "outputs": [],
   "source": [
    "df1.loc[(df1[\"emp_name\"] == \"BOSTON GODEARS CONSULTING LLC\") & (df1[\"emp_city\"].isnull()), \"emp_city\"] = \"BOSTON\""
   ]
  },
  {
   "cell_type": "code",
   "execution_count": 25,
   "id": "dcdbdf74",
   "metadata": {},
   "outputs": [
    {
     "data": {
      "text/plain": [
       "0      NEWARK\n",
       "1    SOMERSET\n",
       "dtype: object"
      ]
     },
     "execution_count": 25,
     "metadata": {},
     "output_type": "execute_result"
    }
   ],
   "source": [
    "df1[df1[\"emp_name\"]==\"HANCE INCORPORATED\"][\"emp_city\"].mode()"
   ]
  },
  {
   "cell_type": "code",
   "execution_count": 26,
   "id": "5c3ebdec",
   "metadata": {},
   "outputs": [],
   "source": [
    "df1.loc[(df1[\"emp_name\"] == \"HANCE INCORPORATED\") & (df1[\"emp_city\"].isnull()), \"emp_city\"] = \"NEWARK\""
   ]
  },
  {
   "cell_type": "code",
   "execution_count": 27,
   "id": "784cdb74",
   "metadata": {},
   "outputs": [
    {
     "data": {
      "text/plain": [
       "0    BOULDER\n",
       "dtype: object"
      ]
     },
     "execution_count": 27,
     "metadata": {},
     "output_type": "execute_result"
    }
   ],
   "source": [
    "df1[df1[\"emp_name\"]==\"AURORA ORGANIC FARMS INC.\"][\"emp_city\"].mode()"
   ]
  },
  {
   "cell_type": "code",
   "execution_count": 28,
   "id": "64af8d83",
   "metadata": {},
   "outputs": [],
   "source": [
    "df1.loc[(df1[\"emp_name\"] == \"AURORA ORGANIC FARMS INC.\") & (df1[\"emp_city\"].isnull()), \"emp_city\"] = \"BOULDER\""
   ]
  },
  {
   "cell_type": "code",
   "execution_count": 29,
   "id": "da1a3d00",
   "metadata": {},
   "outputs": [
    {
     "data": {
      "text/plain": [
       "0    SAN JOSE\n",
       "dtype: object"
      ]
     },
     "execution_count": 29,
     "metadata": {},
     "output_type": "execute_result"
    }
   ],
   "source": [
    "df1[df1[\"emp_name\"]==\"EBAY, INC.\"][\"emp_city\"].mode()"
   ]
  },
  {
   "cell_type": "code",
   "execution_count": 30,
   "id": "4c9ed89a",
   "metadata": {},
   "outputs": [],
   "source": [
    "df1.loc[(df1[\"emp_name\"] == \"EBAY, INC.\") & (df1[\"emp_city\"].isnull()), \"emp_city\"] = \"SAN JOSE\""
   ]
  },
  {
   "cell_type": "code",
   "execution_count": 31,
   "id": "75ff4e77",
   "metadata": {},
   "outputs": [
    {
     "data": {
      "text/plain": [
       "0    SAN FRANCISCO\n",
       "dtype: object"
      ]
     },
     "execution_count": 31,
     "metadata": {},
     "output_type": "execute_result"
    }
   ],
   "source": [
    "df1[df1[\"emp_state\"] == \"CA\"][\"emp_city\"].mode()"
   ]
  },
  {
   "cell_type": "code",
   "execution_count": 32,
   "id": "def82dba",
   "metadata": {},
   "outputs": [],
   "source": [
    "df1.loc[(df1[\"emp_state\"] == \"CA\") & (df1[\"emp_city\"].isnull()), \"emp_city\"] = \"SAN FRANCISCO\""
   ]
  },
  {
   "cell_type": "markdown",
   "id": "5eba3b0f",
   "metadata": {},
   "source": [
    "##### Imputing null values in zip code column with mode"
   ]
  },
  {
   "cell_type": "code",
   "execution_count": 33,
   "id": "87e6b852",
   "metadata": {},
   "outputs": [
    {
     "data": {
      "text/plain": [
       "0    75024\n",
       "dtype: object"
      ]
     },
     "execution_count": 33,
     "metadata": {},
     "output_type": "execute_result"
    }
   ],
   "source": [
    "df1[\"emp_zip\"].mode()"
   ]
  },
  {
   "cell_type": "code",
   "execution_count": 34,
   "id": "0e6ca54c",
   "metadata": {},
   "outputs": [],
   "source": [
    "df1.loc[df1[\"emp_zip\"].isnull(), \"emp_zip\"] = \"75024\""
   ]
  },
  {
   "cell_type": "markdown",
   "id": "8a323ed8",
   "metadata": {},
   "source": [
    "##### Imputing null values in emp_name with mode of emp_name in each city"
   ]
  },
  {
   "cell_type": "code",
   "execution_count": 35,
   "id": "2f39d876",
   "metadata": {},
   "outputs": [
    {
     "data": {
      "text/plain": [
       "['ALISO VIEJO',\n",
       " 'ARLINGTON',\n",
       " 'MARIETTA',\n",
       " 'SAN FRANCISCO',\n",
       " 'BERKELEY',\n",
       " 'EL SEGUNDO',\n",
       " 'COLUMBIA',\n",
       " 'ATLANTA',\n",
       " 'MADISON',\n",
       " 'EAST BRUNSWICK',\n",
       " 'FAIR LAWN',\n",
       " 'EDISON',\n",
       " 'RICHLANDS',\n",
       " 'GAITHERSBURG',\n",
       " 'GURABO',\n",
       " 'ALPHARETTA',\n",
       " 'MOUNTAIN VIEW',\n",
       " 'NEW YORK',\n",
       " 'SANTA CLARA',\n",
       " 'PURCHASE',\n",
       " 'SIMPSONVILLE',\n",
       " 'WASHINGTON']"
      ]
     },
     "execution_count": 35,
     "metadata": {},
     "output_type": "execute_result"
    }
   ],
   "source": [
    "city = df1[df1[\"emp_name\"].isnull()][\"emp_city\"]\n",
    "city_list = list(city.unique())\n",
    "city_list"
   ]
  },
  {
   "cell_type": "code",
   "execution_count": 36,
   "id": "7a64be1a",
   "metadata": {},
   "outputs": [],
   "source": [
    "for i in city_list:\n",
    "    x = df1[df1[\"emp_city\"] == i][\"emp_name\"].mode()\n",
    "    df1.loc[(df1[\"emp_city\"] == i) & (df1[\"emp_name\"].isnull()), \"emp_name\"] = x[0]"
   ]
  },
  {
   "cell_type": "markdown",
   "id": "3a6593e9",
   "metadata": {},
   "source": [
    "##### Imputing null values in Job_title with mode"
   ]
  },
  {
   "cell_type": "code",
   "execution_count": 37,
   "id": "4bbce9c8",
   "metadata": {},
   "outputs": [
    {
     "data": {
      "text/plain": [
       "0    PROGRAMMER ANALYST\n",
       "dtype: object"
      ]
     },
     "execution_count": 37,
     "metadata": {},
     "output_type": "execute_result"
    }
   ],
   "source": [
    "df1[\"job_title\"].mode()"
   ]
  },
  {
   "cell_type": "code",
   "execution_count": 38,
   "id": "a3f1747d",
   "metadata": {},
   "outputs": [],
   "source": [
    "df1.loc[df1[\"job_title\"].isnull(), \"job_title\"] = \"PROGRAMMER ANALYST\""
   ]
  },
  {
   "cell_type": "markdown",
   "id": "cabbeb5a",
   "metadata": {},
   "source": [
    "##### imputing null values in soc_name with mode"
   ]
  },
  {
   "cell_type": "code",
   "execution_count": 39,
   "id": "b73444d9",
   "metadata": {},
   "outputs": [
    {
     "data": {
      "text/plain": [
       "0    SOFTWARE DEVELOPERS, APPLICATIONS\n",
       "dtype: object"
      ]
     },
     "execution_count": 39,
     "metadata": {},
     "output_type": "execute_result"
    }
   ],
   "source": [
    "df1[\"soc_name\"].mode()"
   ]
  },
  {
   "cell_type": "code",
   "execution_count": 40,
   "id": "93c85173",
   "metadata": {},
   "outputs": [],
   "source": [
    "df1.loc[df1[\"soc_name\"].isnull(), \"soc_name\"] = \"SOFTWARE DEVELOPERS, APPLICATIONS\""
   ]
  },
  {
   "cell_type": "markdown",
   "id": "b6a0deed",
   "metadata": {},
   "source": [
    "##### Imputing null values in full_time_position with mode"
   ]
  },
  {
   "cell_type": "code",
   "execution_count": 41,
   "id": "499a9380",
   "metadata": {},
   "outputs": [
    {
     "data": {
      "text/plain": [
       "0    Y\n",
       "dtype: object"
      ]
     },
     "execution_count": 41,
     "metadata": {},
     "output_type": "execute_result"
    }
   ],
   "source": [
    "df1[\"full_time_position\"].mode()"
   ]
  },
  {
   "cell_type": "code",
   "execution_count": 42,
   "id": "1b513d1c",
   "metadata": {},
   "outputs": [],
   "source": [
    "df1.loc[df1[\"full_time_position\"].isnull(), \"full_time_position\"] = \"Y\""
   ]
  },
  {
   "cell_type": "code",
   "execution_count": 43,
   "id": "6810a38d",
   "metadata": {},
   "outputs": [
    {
     "data": {
      "text/plain": [
       "case_year                    0\n",
       "case_status                  0\n",
       "case_submitted               0\n",
       "decision_date                0\n",
       "emp_name                     0\n",
       "emp_city                     0\n",
       "emp_state                    0\n",
       "emp_zip                      0\n",
       "emp_country                  0\n",
       "job_title                    0\n",
       "soc_code                     0\n",
       "soc_name                     0\n",
       "full_time_position           0\n",
       "prevailing_wage              1\n",
       "pw_unit                     28\n",
       "pw_level                113541\n",
       "wage_from                    0\n",
       "wage_to                      0\n",
       "wage_unit                    4\n",
       "work_city                    0\n",
       "work_state                   0\n",
       "emp_h1b_dependent            2\n",
       "emp_willful_violator         2\n",
       "lat                          0\n",
       "lng                          0\n",
       "dtype: int64"
      ]
     },
     "execution_count": 43,
     "metadata": {},
     "output_type": "execute_result"
    }
   ],
   "source": [
    "df1.isnull().sum()"
   ]
  },
  {
   "cell_type": "markdown",
   "id": "5f3b58fc",
   "metadata": {},
   "source": [
    "###### Since there are many outliers in prevailing_wage replacing with median"
   ]
  },
  {
   "cell_type": "code",
   "execution_count": 44,
   "id": "716d200f",
   "metadata": {},
   "outputs": [
    {
     "data": {
      "text/plain": [
       "<AxesSubplot:xlabel='prevailing_wage'>"
      ]
     },
     "execution_count": 44,
     "metadata": {},
     "output_type": "execute_result"
    },
    {
     "data": {
      "image/png": "[encoded data removed]",
      "text/plain": [
       "<Figure size 432x288 with 1 Axes>"
      ]
     },
     "metadata": {
      "needs_background": "light"
     },
     "output_type": "display_data"
    }
   ],
   "source": [
    "sns.boxplot(df1[\"prevailing_wage\"])"
   ]
  },
  {
   "cell_type": "code",
   "execution_count": 45,
   "id": "4c72b5a5",
   "metadata": {},
   "outputs": [],
   "source": [
    "x = df1[\"prevailing_wage\"].median()"
   ]
  },
  {
   "cell_type": "code",
   "execution_count": 46,
   "id": "cecddb12",
   "metadata": {},
   "outputs": [],
   "source": [
    "df1.loc[df1[\"prevailing_wage\"].isnull(), \"prevailing_wage\"] = x"
   ]
  },
  {
   "cell_type": "code",
   "execution_count": 47,
   "id": "00d23958",
   "metadata": {},
   "outputs": [
    {
     "data": {
      "text/html": [
       "<div>\n",
       "<style scoped>\n",
       "    .dataframe tbody tr th:only-of-type {\n",
       "        vertical-align: middle;\n",
       "    }\n",
       "\n",
       "    .dataframe tbody tr th {\n",
       "        vertical-align: top;\n",
       "    }\n",
       "\n",
       "    .dataframe thead th {\n",
       "        text-align: right;\n",
       "    }\n",
       "</style>\n",
       "<table border=\"1\" class=\"dataframe\">\n",
       "  <thead>\n",
       "    <tr style=\"text-align: right;\">\n",
       "      <th></th>\n",
       "      <th>case_year</th>\n",
       "      <th>prevailing_wage</th>\n",
       "      <th>wage_from</th>\n",
       "      <th>wage_to</th>\n",
       "      <th>lat</th>\n",
       "      <th>lng</th>\n",
       "    </tr>\n",
       "  </thead>\n",
       "  <tbody>\n",
       "    <tr>\n",
       "      <th>0</th>\n",
       "      <td>2017</td>\n",
       "      <td>187200.0</td>\n",
       "      <td>190000.00</td>\n",
       "      <td>0.0</td>\n",
       "      <td>34.178172</td>\n",
       "      <td>-82.379015</td>\n",
       "    </tr>\n",
       "    <tr>\n",
       "      <th>1</th>\n",
       "      <td>2017</td>\n",
       "      <td>39957.0</td>\n",
       "      <td>47507.00</td>\n",
       "      <td>0.0</td>\n",
       "      <td>42.944078</td>\n",
       "      <td>-112.838326</td>\n",
       "    </tr>\n",
       "    <tr>\n",
       "      <th>2</th>\n",
       "      <td>2017</td>\n",
       "      <td>59966.0</td>\n",
       "      <td>65000.00</td>\n",
       "      <td>0.0</td>\n",
       "      <td>39.509556</td>\n",
       "      <td>-76.164120</td>\n",
       "    </tr>\n",
       "    <tr>\n",
       "      <th>3</th>\n",
       "      <td>2017</td>\n",
       "      <td>78832.0</td>\n",
       "      <td>86988.15</td>\n",
       "      <td>0.0</td>\n",
       "      <td>39.509556</td>\n",
       "      <td>-76.164120</td>\n",
       "    </tr>\n",
       "    <tr>\n",
       "      <th>4</th>\n",
       "      <td>2017</td>\n",
       "      <td>169645.0</td>\n",
       "      <td>450000.00</td>\n",
       "      <td>0.0</td>\n",
       "      <td>45.464698</td>\n",
       "      <td>-98.486483</td>\n",
       "    </tr>\n",
       "  </tbody>\n",
       "</table>\n",
       "</div>"
      ],
      "text/plain": [
       "   case_year  prevailing_wage  wage_from  wage_to        lat         lng\n",
       "0       2017         187200.0  190000.00      0.0  34.178172  -82.379015\n",
       "1       2017          39957.0   47507.00      0.0  42.944078 -112.838326\n",
       "2       2017          59966.0   65000.00      0.0  39.509556  -76.164120\n",
       "3       2017          78832.0   86988.15      0.0  39.509556  -76.164120\n",
       "4       2017         169645.0  450000.00      0.0  45.464698  -98.486483"
      ]
     },
     "execution_count": 47,
     "metadata": {},
     "output_type": "execute_result"
    }
   ],
   "source": [
    "df_num = df.select_dtypes(include=\"number\")\n",
    "df_num.head()"
   ]
  },
  {
   "cell_type": "markdown",
   "id": "059bf4fd",
   "metadata": {},
   "source": [
    "##### Imputing null values in pw_unit column with mode"
   ]
  },
  {
   "cell_type": "code",
   "execution_count": 48,
   "id": "9506d097",
   "metadata": {},
   "outputs": [
    {
     "data": {
      "text/plain": [
       "0    Y\n",
       "dtype: object"
      ]
     },
     "execution_count": 48,
     "metadata": {},
     "output_type": "execute_result"
    }
   ],
   "source": [
    "df1[\"pw_unit\"].mode()"
   ]
  },
  {
   "cell_type": "code",
   "execution_count": 49,
   "id": "17ff3f63",
   "metadata": {},
   "outputs": [],
   "source": [
    "df1.loc[df1[\"pw_unit\"].isnull(), \"pw_unit\"] = \"Y\""
   ]
  },
  {
   "cell_type": "markdown",
   "id": "95a79f50",
   "metadata": {},
   "source": [
    "##### Imputing null values in wage_unit column with mode"
   ]
  },
  {
   "cell_type": "code",
   "execution_count": 50,
   "id": "2b50dcb4",
   "metadata": {},
   "outputs": [
    {
     "data": {
      "text/plain": [
       "0    Y\n",
       "dtype: object"
      ]
     },
     "execution_count": 50,
     "metadata": {},
     "output_type": "execute_result"
    }
   ],
   "source": [
    "df1[\"wage_unit\"].mode()"
   ]
  },
  {
   "cell_type": "code",
   "execution_count": 51,
   "id": "8d1e5359",
   "metadata": {},
   "outputs": [],
   "source": [
    "df1.loc[df1[\"wage_unit\"].isnull(), \"wage_unit\"] = \"Y\""
   ]
  },
  {
   "cell_type": "markdown",
   "id": "3ca01157",
   "metadata": {},
   "source": [
    "##### Imputing null values in emp_h1b_dependent column with mode"
   ]
  },
  {
   "cell_type": "code",
   "execution_count": 52,
   "id": "2adf206f",
   "metadata": {},
   "outputs": [
    {
     "data": {
      "text/plain": [
       "0    N\n",
       "dtype: object"
      ]
     },
     "execution_count": 52,
     "metadata": {},
     "output_type": "execute_result"
    }
   ],
   "source": [
    "df1[\"emp_h1b_dependent\"].mode()"
   ]
  },
  {
   "cell_type": "code",
   "execution_count": 53,
   "id": "c81b8daa",
   "metadata": {},
   "outputs": [],
   "source": [
    "df1.loc[df1[\"emp_h1b_dependent\"].isnull(), \"emp_h1b_dependent\"] = \"N\""
   ]
  },
  {
   "cell_type": "markdown",
   "id": "fdb66f63",
   "metadata": {},
   "source": [
    "##### Imputing null values in emp_willful_violator column with mode"
   ]
  },
  {
   "cell_type": "code",
   "execution_count": 54,
   "id": "bef6848b",
   "metadata": {},
   "outputs": [
    {
     "data": {
      "text/plain": [
       "0    N\n",
       "dtype: object"
      ]
     },
     "execution_count": 54,
     "metadata": {},
     "output_type": "execute_result"
    }
   ],
   "source": [
    "df1[\"emp_willful_violator\"].mode()"
   ]
  },
  {
   "cell_type": "code",
   "execution_count": 55,
   "id": "c3e967cc",
   "metadata": {},
   "outputs": [],
   "source": [
    "df1.loc[df1[\"emp_willful_violator\"].isnull(), \"emp_willful_violator\"] = \"N\""
   ]
  },
  {
   "cell_type": "code",
   "execution_count": 56,
   "id": "98ddc46f",
   "metadata": {},
   "outputs": [
    {
     "data": {
      "text/plain": [
       "case_year                0.00000\n",
       "case_status              0.00000\n",
       "case_submitted           0.00000\n",
       "decision_date            0.00000\n",
       "emp_name                 0.00000\n",
       "emp_city                 0.00000\n",
       "emp_state                0.00000\n",
       "emp_zip                  0.00000\n",
       "emp_country              0.00000\n",
       "job_title                0.00000\n",
       "soc_code                 0.00000\n",
       "soc_name                 0.00000\n",
       "full_time_position       0.00000\n",
       "prevailing_wage          0.00000\n",
       "pw_unit                  0.00000\n",
       "pw_level                19.59678\n",
       "wage_from                0.00000\n",
       "wage_to                  0.00000\n",
       "wage_unit                0.00000\n",
       "work_city                0.00000\n",
       "work_state               0.00000\n",
       "emp_h1b_dependent        0.00000\n",
       "emp_willful_violator     0.00000\n",
       "lat                      0.00000\n",
       "lng                      0.00000\n",
       "dtype: float64"
      ]
     },
     "execution_count": 56,
     "metadata": {},
     "output_type": "execute_result"
    }
   ],
   "source": [
    "(df1.isnull().sum()/len(df1))*100"
   ]
  },
  {
   "cell_type": "markdown",
   "id": "8ba44af6",
   "metadata": {},
   "source": [
    "##### Replacing wage_from column which had zero value with prevailing_wage"
   ]
  },
  {
   "cell_type": "code",
   "execution_count": 57,
   "id": "d5b90fcb",
   "metadata": {},
   "outputs": [],
   "source": [
    "df1.loc[df1[\"wage_from\"] == 0, \"wage_from\"] = df1[\"prevailing_wage\"].apply(lambda x: x if pd.notnull(x) else 0)"
   ]
  },
  {
   "cell_type": "markdown",
   "id": "213a832a",
   "metadata": {},
   "source": [
    "##### Replacing prevailing_wage column which had zero value with wage_from"
   ]
  },
  {
   "cell_type": "code",
   "execution_count": 58,
   "id": "109e0390",
   "metadata": {},
   "outputs": [],
   "source": [
    "df1.loc[df1[\"prevailing_wage\"] == 0, \"prevailing_wage\"] = df1[\"wage_from\"].apply(lambda x: x if pd.notnull(x) else 0)"
   ]
  },
  {
   "cell_type": "markdown",
   "id": "3e9b4cb0",
   "metadata": {},
   "source": [
    "##### Dropping some of the features"
   ]
  },
  {
   "cell_type": "code",
   "execution_count": 59,
   "id": "16851d79",
   "metadata": {},
   "outputs": [],
   "source": [
    "df2 = df1.drop([\"wage_to\",\"case_year\",\"case_submitted\",\"decision_date\",\"emp_zip\",\"emp_country\",\"wage_to\",\"lat\",\"lng\"],axis=1)"
   ]
  },
  {
   "cell_type": "markdown",
   "id": "de1fdbed",
   "metadata": {},
   "source": [
    "##### Found few columns were encoded with different unit name but the wage is in different unit. Also the prevailing wage and wage_from are in different scale"
   ]
  },
  {
   "cell_type": "code",
   "execution_count": 60,
   "id": "df71f105",
   "metadata": {},
   "outputs": [
    {
     "data": {
      "text/html": [
       "<div>\n",
       "<style scoped>\n",
       "    .dataframe tbody tr th:only-of-type {\n",
       "        vertical-align: middle;\n",
       "    }\n",
       "\n",
       "    .dataframe tbody tr th {\n",
       "        vertical-align: top;\n",
       "    }\n",
       "\n",
       "    .dataframe thead th {\n",
       "        text-align: right;\n",
       "    }\n",
       "</style>\n",
       "<table border=\"1\" class=\"dataframe\">\n",
       "  <thead>\n",
       "    <tr style=\"text-align: right;\">\n",
       "      <th></th>\n",
       "      <th>case_status</th>\n",
       "      <th>emp_name</th>\n",
       "      <th>emp_city</th>\n",
       "      <th>emp_state</th>\n",
       "      <th>job_title</th>\n",
       "      <th>soc_code</th>\n",
       "      <th>soc_name</th>\n",
       "      <th>full_time_position</th>\n",
       "      <th>prevailing_wage</th>\n",
       "      <th>pw_unit</th>\n",
       "      <th>pw_level</th>\n",
       "      <th>wage_from</th>\n",
       "      <th>wage_unit</th>\n",
       "      <th>work_city</th>\n",
       "      <th>work_state</th>\n",
       "      <th>emp_h1b_dependent</th>\n",
       "      <th>emp_willful_violator</th>\n",
       "    </tr>\n",
       "  </thead>\n",
       "  <tbody>\n",
       "    <tr>\n",
       "      <th>15</th>\n",
       "      <td>C</td>\n",
       "      <td>SAFEWAY INC.</td>\n",
       "      <td>PLEASANTON</td>\n",
       "      <td>CA</td>\n",
       "      <td>PHARMACY MANAGER</td>\n",
       "      <td>29-1051</td>\n",
       "      <td>PHARMACISTS</td>\n",
       "      <td>Y</td>\n",
       "      <td>120349.00</td>\n",
       "      <td>Y</td>\n",
       "      <td>Level III</td>\n",
       "      <td>67.50</td>\n",
       "      <td>H</td>\n",
       "      <td>ABERDEEN</td>\n",
       "      <td>WA</td>\n",
       "      <td>N</td>\n",
       "      <td>N</td>\n",
       "    </tr>\n",
       "    <tr>\n",
       "      <th>823</th>\n",
       "      <td>W</td>\n",
       "      <td>APPSTEK, INC</td>\n",
       "      <td>ADDISON</td>\n",
       "      <td>TX</td>\n",
       "      <td>JAVA DEVELOPER - I</td>\n",
       "      <td>15-1132</td>\n",
       "      <td>SOFTWARE DEVELOPERS, APPLICATIONS</td>\n",
       "      <td>Y</td>\n",
       "      <td>68827.00</td>\n",
       "      <td>Y</td>\n",
       "      <td>Level I</td>\n",
       "      <td>70000.00</td>\n",
       "      <td>M</td>\n",
       "      <td>ADDISON</td>\n",
       "      <td>TX</td>\n",
       "      <td>Y</td>\n",
       "      <td>N</td>\n",
       "    </tr>\n",
       "    <tr>\n",
       "      <th>1008</th>\n",
       "      <td>C</td>\n",
       "      <td>QUALUTION SYSTEMS INC.</td>\n",
       "      <td>AGOURA HILLS</td>\n",
       "      <td>CA</td>\n",
       "      <td>SOFTWARE DEVELOPER</td>\n",
       "      <td>15-1133</td>\n",
       "      <td>SOFTWARE DEVELOPERS, SYSTEMS SOFTWARE</td>\n",
       "      <td>Y</td>\n",
       "      <td>137010.00</td>\n",
       "      <td>Y</td>\n",
       "      <td>Level IV</td>\n",
       "      <td>15600.00</td>\n",
       "      <td>M</td>\n",
       "      <td>AGOURA HILLS</td>\n",
       "      <td>CA</td>\n",
       "      <td>N</td>\n",
       "      <td>N</td>\n",
       "    </tr>\n",
       "    <tr>\n",
       "      <th>2745</th>\n",
       "      <td>D</td>\n",
       "      <td>ROSE LITTLE BRAND &amp; ASSOCIATES, P.C.</td>\n",
       "      <td>ALBUQUERQUE</td>\n",
       "      <td>NM</td>\n",
       "      <td>PROGRAMMING ENGINEER</td>\n",
       "      <td>15-1131</td>\n",
       "      <td>COMPUTER PROGRAMMERS</td>\n",
       "      <td>Y</td>\n",
       "      <td>57090.00</td>\n",
       "      <td>Y</td>\n",
       "      <td>NaN</td>\n",
       "      <td>28.85</td>\n",
       "      <td>H</td>\n",
       "      <td>ALBUQUERQUE</td>\n",
       "      <td>NM</td>\n",
       "      <td>N</td>\n",
       "      <td>N</td>\n",
       "    </tr>\n",
       "    <tr>\n",
       "      <th>3571</th>\n",
       "      <td>W</td>\n",
       "      <td>SUNLAND EDUCATIONAL SCHOOLS, INC.</td>\n",
       "      <td>ANAHEIM</td>\n",
       "      <td>CA</td>\n",
       "      <td>TEACHER</td>\n",
       "      <td>25-2012</td>\n",
       "      <td>KINDERGARTEN TEACHERS, EXCEPT SPECIAL EDUCATION</td>\n",
       "      <td>Y</td>\n",
       "      <td>45540.00</td>\n",
       "      <td>Y</td>\n",
       "      <td>Level I</td>\n",
       "      <td>45540.00</td>\n",
       "      <td>M</td>\n",
       "      <td>ALISO VIEJO</td>\n",
       "      <td>CA</td>\n",
       "      <td>N</td>\n",
       "      <td>N</td>\n",
       "    </tr>\n",
       "    <tr>\n",
       "      <th>...</th>\n",
       "      <td>...</td>\n",
       "      <td>...</td>\n",
       "      <td>...</td>\n",
       "      <td>...</td>\n",
       "      <td>...</td>\n",
       "      <td>...</td>\n",
       "      <td>...</td>\n",
       "      <td>...</td>\n",
       "      <td>...</td>\n",
       "      <td>...</td>\n",
       "      <td>...</td>\n",
       "      <td>...</td>\n",
       "      <td>...</td>\n",
       "      <td>...</td>\n",
       "      <td>...</td>\n",
       "      <td>...</td>\n",
       "      <td>...</td>\n",
       "    </tr>\n",
       "    <tr>\n",
       "      <th>578782</th>\n",
       "      <td>W</td>\n",
       "      <td>SMART WORKS, LLC</td>\n",
       "      <td>EDISON</td>\n",
       "      <td>NJ</td>\n",
       "      <td>SYSTEMS ANALYST</td>\n",
       "      <td>15-1121</td>\n",
       "      <td>COMPUTER SYSTEMS ANALYSTS</td>\n",
       "      <td>Y</td>\n",
       "      <td>60258.00</td>\n",
       "      <td>H</td>\n",
       "      <td>Level I</td>\n",
       "      <td>60258.00</td>\n",
       "      <td>Y</td>\n",
       "      <td>WYOMISSING</td>\n",
       "      <td>PA</td>\n",
       "      <td>Y</td>\n",
       "      <td>N</td>\n",
       "    </tr>\n",
       "    <tr>\n",
       "      <th>578792</th>\n",
       "      <td>W</td>\n",
       "      <td>SMART WORKS, LLC</td>\n",
       "      <td>EDISON</td>\n",
       "      <td>NJ</td>\n",
       "      <td>SYSTEMS ANALYST</td>\n",
       "      <td>15-1121</td>\n",
       "      <td>COMPUTER SYSTEMS ANALYSTS</td>\n",
       "      <td>Y</td>\n",
       "      <td>60258.00</td>\n",
       "      <td>H</td>\n",
       "      <td>Level I</td>\n",
       "      <td>60258.00</td>\n",
       "      <td>Y</td>\n",
       "      <td>WYOMISSING</td>\n",
       "      <td>PA</td>\n",
       "      <td>Y</td>\n",
       "      <td>N</td>\n",
       "    </tr>\n",
       "    <tr>\n",
       "      <th>578923</th>\n",
       "      <td>C</td>\n",
       "      <td>CONSUMER REPORTS, INC.</td>\n",
       "      <td>YONKERS</td>\n",
       "      <td>NY</td>\n",
       "      <td>DATA SCIENTIST</td>\n",
       "      <td>15-2041</td>\n",
       "      <td>STATISTICIANS</td>\n",
       "      <td>Y</td>\n",
       "      <td>1774.81</td>\n",
       "      <td>W</td>\n",
       "      <td>NaN</td>\n",
       "      <td>99929.80</td>\n",
       "      <td>Y</td>\n",
       "      <td>YONKERS</td>\n",
       "      <td>NY</td>\n",
       "      <td>N</td>\n",
       "      <td>N</td>\n",
       "    </tr>\n",
       "    <tr>\n",
       "      <th>579313</th>\n",
       "      <td>C</td>\n",
       "      <td>ADVANCED WOMEN'S HEALTHCARE</td>\n",
       "      <td>PALM SPRINGS</td>\n",
       "      <td>CA</td>\n",
       "      <td>OB GYN</td>\n",
       "      <td>29-1064</td>\n",
       "      <td>OBSTETRICIANS AND GYNECOLOGISTS</td>\n",
       "      <td>Y</td>\n",
       "      <td>90.00</td>\n",
       "      <td>H</td>\n",
       "      <td>Level I</td>\n",
       "      <td>187200.00</td>\n",
       "      <td>Y</td>\n",
       "      <td>YUCCA VALLEY</td>\n",
       "      <td>CA</td>\n",
       "      <td>N</td>\n",
       "      <td>N</td>\n",
       "    </tr>\n",
       "    <tr>\n",
       "      <th>579315</th>\n",
       "      <td>D</td>\n",
       "      <td>ADVANCED WOMEN'S HEALTHCARE</td>\n",
       "      <td>PALM SPRINGS</td>\n",
       "      <td>CA</td>\n",
       "      <td>OB GYN</td>\n",
       "      <td>29-1064</td>\n",
       "      <td>OBSTETRICIANS AND GYNECOLOGISTS</td>\n",
       "      <td>Y</td>\n",
       "      <td>90.00</td>\n",
       "      <td>H</td>\n",
       "      <td>Level I</td>\n",
       "      <td>187200.00</td>\n",
       "      <td>Y</td>\n",
       "      <td>YUCCA VALLEY</td>\n",
       "      <td>CA</td>\n",
       "      <td>N</td>\n",
       "      <td>N</td>\n",
       "    </tr>\n",
       "  </tbody>\n",
       "</table>\n",
       "<p>730 rows × 17 columns</p>\n",
       "</div>"
      ],
      "text/plain": [
       "       case_status                              emp_name      emp_city  \\\n",
       "15               C                          SAFEWAY INC.    PLEASANTON   \n",
       "823              W                          APPSTEK, INC       ADDISON   \n",
       "1008             C                QUALUTION SYSTEMS INC.  AGOURA HILLS   \n",
       "2745             D  ROSE LITTLE BRAND & ASSOCIATES, P.C.   ALBUQUERQUE   \n",
       "3571             W     SUNLAND EDUCATIONAL SCHOOLS, INC.       ANAHEIM   \n",
       "...            ...                                   ...           ...   \n",
       "578782           W                      SMART WORKS, LLC        EDISON   \n",
       "578792           W                      SMART WORKS, LLC        EDISON   \n",
       "578923           C                CONSUMER REPORTS, INC.       YONKERS   \n",
       "579313           C           ADVANCED WOMEN'S HEALTHCARE  PALM SPRINGS   \n",
       "579315           D           ADVANCED WOMEN'S HEALTHCARE  PALM SPRINGS   \n",
       "\n",
       "       emp_state             job_title soc_code  \\\n",
       "15            CA      PHARMACY MANAGER  29-1051   \n",
       "823           TX    JAVA DEVELOPER - I  15-1132   \n",
       "1008          CA    SOFTWARE DEVELOPER  15-1133   \n",
       "2745          NM  PROGRAMMING ENGINEER  15-1131   \n",
       "3571          CA               TEACHER  25-2012   \n",
       "...          ...                   ...      ...   \n",
       "578782        NJ       SYSTEMS ANALYST  15-1121   \n",
       "578792        NJ       SYSTEMS ANALYST  15-1121   \n",
       "578923        NY        DATA SCIENTIST  15-2041   \n",
       "579313        CA                OB GYN  29-1064   \n",
       "579315        CA                OB GYN  29-1064   \n",
       "\n",
       "                                               soc_name full_time_position  \\\n",
       "15                                          PHARMACISTS                  Y   \n",
       "823                   SOFTWARE DEVELOPERS, APPLICATIONS                  Y   \n",
       "1008              SOFTWARE DEVELOPERS, SYSTEMS SOFTWARE                  Y   \n",
       "2745                               COMPUTER PROGRAMMERS                  Y   \n",
       "3571    KINDERGARTEN TEACHERS, EXCEPT SPECIAL EDUCATION                  Y   \n",
       "...                                                 ...                ...   \n",
       "578782                        COMPUTER SYSTEMS ANALYSTS                  Y   \n",
       "578792                        COMPUTER SYSTEMS ANALYSTS                  Y   \n",
       "578923                                    STATISTICIANS                  Y   \n",
       "579313                  OBSTETRICIANS AND GYNECOLOGISTS                  Y   \n",
       "579315                  OBSTETRICIANS AND GYNECOLOGISTS                  Y   \n",
       "\n",
       "        prevailing_wage pw_unit   pw_level  wage_from wage_unit     work_city  \\\n",
       "15            120349.00       Y  Level III      67.50         H      ABERDEEN   \n",
       "823            68827.00       Y    Level I   70000.00         M       ADDISON   \n",
       "1008          137010.00       Y   Level IV   15600.00         M  AGOURA HILLS   \n",
       "2745           57090.00       Y        NaN      28.85         H   ALBUQUERQUE   \n",
       "3571           45540.00       Y    Level I   45540.00         M   ALISO VIEJO   \n",
       "...                 ...     ...        ...        ...       ...           ...   \n",
       "578782         60258.00       H    Level I   60258.00         Y    WYOMISSING   \n",
       "578792         60258.00       H    Level I   60258.00         Y    WYOMISSING   \n",
       "578923          1774.81       W        NaN   99929.80         Y       YONKERS   \n",
       "579313            90.00       H    Level I  187200.00         Y  YUCCA VALLEY   \n",
       "579315            90.00       H    Level I  187200.00         Y  YUCCA VALLEY   \n",
       "\n",
       "       work_state emp_h1b_dependent emp_willful_violator  \n",
       "15             WA                 N                    N  \n",
       "823            TX                 Y                    N  \n",
       "1008           CA                 N                    N  \n",
       "2745           NM                 N                    N  \n",
       "3571           CA                 N                    N  \n",
       "...           ...               ...                  ...  \n",
       "578782         PA                 Y                    N  \n",
       "578792         PA                 Y                    N  \n",
       "578923         NY                 N                    N  \n",
       "579313         CA                 N                    N  \n",
       "579315         CA                 N                    N  \n",
       "\n",
       "[730 rows x 17 columns]"
      ]
     },
     "execution_count": 60,
     "metadata": {},
     "output_type": "execute_result"
    }
   ],
   "source": [
    "df2[df2[\"pw_unit\"] != df2[\"wage_unit\"]]"
   ]
  },
  {
   "cell_type": "code",
   "execution_count": 61,
   "id": "6b7e8939",
   "metadata": {},
   "outputs": [
    {
     "data": {
      "text/plain": [
       "(579386, 17)"
      ]
     },
     "execution_count": 61,
     "metadata": {},
     "output_type": "execute_result"
    }
   ],
   "source": [
    "df2.shape"
   ]
  },
  {
   "cell_type": "code",
   "execution_count": 62,
   "id": "6e938be2",
   "metadata": {},
   "outputs": [
    {
     "data": {
      "text/plain": [
       "0.001259954503560666"
      ]
     },
     "execution_count": 62,
     "metadata": {},
     "output_type": "execute_result"
    }
   ],
   "source": [
    "(df2[df2[\"pw_unit\"] != df2[\"wage_unit\"]].shape[0])/len(df2)\n",
    "# since the incorrect data is 0.001 percent of the original data dropping those rows"
   ]
  },
  {
   "cell_type": "code",
   "execution_count": 63,
   "id": "8fd027ec",
   "metadata": {},
   "outputs": [
    {
     "data": {
      "text/plain": [
       "(578656, 17)"
      ]
     },
     "execution_count": 63,
     "metadata": {},
     "output_type": "execute_result"
    }
   ],
   "source": [
    "mask = df2['pw_unit'] != df2['wage_unit']\n",
    "\n",
    "# drop the rows that meet the condition\n",
    "df2 = df2[~mask]\n",
    "df2.shape"
   ]
  },
  {
   "cell_type": "code",
   "execution_count": 64,
   "id": "6d00b722",
   "metadata": {},
   "outputs": [
    {
     "data": {
      "text/html": [
       "<div>\n",
       "<style scoped>\n",
       "    .dataframe tbody tr th:only-of-type {\n",
       "        vertical-align: middle;\n",
       "    }\n",
       "\n",
       "    .dataframe tbody tr th {\n",
       "        vertical-align: top;\n",
       "    }\n",
       "\n",
       "    .dataframe thead th {\n",
       "        text-align: right;\n",
       "    }\n",
       "</style>\n",
       "<table border=\"1\" class=\"dataframe\">\n",
       "  <thead>\n",
       "    <tr style=\"text-align: right;\">\n",
       "      <th></th>\n",
       "      <th>case_status</th>\n",
       "      <th>emp_name</th>\n",
       "      <th>emp_city</th>\n",
       "      <th>emp_state</th>\n",
       "      <th>job_title</th>\n",
       "      <th>soc_code</th>\n",
       "      <th>soc_name</th>\n",
       "      <th>full_time_position</th>\n",
       "      <th>prevailing_wage</th>\n",
       "      <th>pw_unit</th>\n",
       "      <th>pw_level</th>\n",
       "      <th>wage_from</th>\n",
       "      <th>wage_unit</th>\n",
       "      <th>work_city</th>\n",
       "      <th>work_state</th>\n",
       "      <th>emp_h1b_dependent</th>\n",
       "      <th>emp_willful_violator</th>\n",
       "    </tr>\n",
       "  </thead>\n",
       "  <tbody>\n",
       "    <tr>\n",
       "      <th>16</th>\n",
       "      <td>C</td>\n",
       "      <td>HEALTH CAROUSEL, LLC</td>\n",
       "      <td>CINCINNATI</td>\n",
       "      <td>OH</td>\n",
       "      <td>PHYSICAL THERAPIST</td>\n",
       "      <td>29-1123</td>\n",
       "      <td>PHYSICAL THERAPISTS</td>\n",
       "      <td>Y</td>\n",
       "      <td>28.66</td>\n",
       "      <td>H</td>\n",
       "      <td>Level I</td>\n",
       "      <td>28.66</td>\n",
       "      <td>H</td>\n",
       "      <td>ABERDEEN</td>\n",
       "      <td>WA</td>\n",
       "      <td>N</td>\n",
       "      <td>N</td>\n",
       "    </tr>\n",
       "    <tr>\n",
       "      <th>19</th>\n",
       "      <td>C</td>\n",
       "      <td>MANAGEMENT HEALTH SYSTEMS, INC.</td>\n",
       "      <td>SUNRISE</td>\n",
       "      <td>FL</td>\n",
       "      <td>PHYSICAL THERAPIST</td>\n",
       "      <td>29-1123</td>\n",
       "      <td>PHYSICAL THERAPISTS</td>\n",
       "      <td>Y</td>\n",
       "      <td>32.02</td>\n",
       "      <td>H</td>\n",
       "      <td>Level I</td>\n",
       "      <td>40.00</td>\n",
       "      <td>H</td>\n",
       "      <td>ABILENE</td>\n",
       "      <td>TX</td>\n",
       "      <td>Y</td>\n",
       "      <td>N</td>\n",
       "    </tr>\n",
       "    <tr>\n",
       "      <th>24</th>\n",
       "      <td>C</td>\n",
       "      <td>HENDRICK MEDICAL CENTER</td>\n",
       "      <td>ABILENE</td>\n",
       "      <td>TX</td>\n",
       "      <td>CASE MANAGER</td>\n",
       "      <td>29-1141</td>\n",
       "      <td>REGISTERED NURSES</td>\n",
       "      <td>Y</td>\n",
       "      <td>29.21</td>\n",
       "      <td>H</td>\n",
       "      <td>Level III</td>\n",
       "      <td>29.90</td>\n",
       "      <td>H</td>\n",
       "      <td>ABILENE</td>\n",
       "      <td>TX</td>\n",
       "      <td>N</td>\n",
       "      <td>N</td>\n",
       "    </tr>\n",
       "    <tr>\n",
       "      <th>25</th>\n",
       "      <td>C</td>\n",
       "      <td>HEALTH CAROUSEL, LLC</td>\n",
       "      <td>CINCINNATI</td>\n",
       "      <td>OH</td>\n",
       "      <td>PHYSICAL THERAPIST</td>\n",
       "      <td>29-1123</td>\n",
       "      <td>PHYSICAL THERAPISTS</td>\n",
       "      <td>Y</td>\n",
       "      <td>32.02</td>\n",
       "      <td>H</td>\n",
       "      <td>Level I</td>\n",
       "      <td>32.02</td>\n",
       "      <td>H</td>\n",
       "      <td>ABILENE</td>\n",
       "      <td>TX</td>\n",
       "      <td>N</td>\n",
       "      <td>N</td>\n",
       "    </tr>\n",
       "    <tr>\n",
       "      <th>30</th>\n",
       "      <td>C</td>\n",
       "      <td>SNOWMASS ENERGY PARTNERS, LTD.</td>\n",
       "      <td>ABILENE</td>\n",
       "      <td>TX</td>\n",
       "      <td>ACCOUNTANT</td>\n",
       "      <td>13-2011</td>\n",
       "      <td>ACCOUNTANTS AND AUDITORS</td>\n",
       "      <td>N</td>\n",
       "      <td>24.92</td>\n",
       "      <td>H</td>\n",
       "      <td>Level II</td>\n",
       "      <td>26.28</td>\n",
       "      <td>H</td>\n",
       "      <td>ABILENE</td>\n",
       "      <td>TX</td>\n",
       "      <td>N</td>\n",
       "      <td>N</td>\n",
       "    </tr>\n",
       "    <tr>\n",
       "      <th>...</th>\n",
       "      <td>...</td>\n",
       "      <td>...</td>\n",
       "      <td>...</td>\n",
       "      <td>...</td>\n",
       "      <td>...</td>\n",
       "      <td>...</td>\n",
       "      <td>...</td>\n",
       "      <td>...</td>\n",
       "      <td>...</td>\n",
       "      <td>...</td>\n",
       "      <td>...</td>\n",
       "      <td>...</td>\n",
       "      <td>...</td>\n",
       "      <td>...</td>\n",
       "      <td>...</td>\n",
       "      <td>...</td>\n",
       "      <td>...</td>\n",
       "    </tr>\n",
       "    <tr>\n",
       "      <th>579359</th>\n",
       "      <td>C</td>\n",
       "      <td>KESARI HOSPITALITY LLC</td>\n",
       "      <td>YUMA</td>\n",
       "      <td>AZ</td>\n",
       "      <td>MARKET RESEARCH ANALYST</td>\n",
       "      <td>13-1161</td>\n",
       "      <td>MARKET RESEARCH ANALYSTS AND MARKETING SPECIAL...</td>\n",
       "      <td>Y</td>\n",
       "      <td>15.00</td>\n",
       "      <td>H</td>\n",
       "      <td>Level I</td>\n",
       "      <td>15.00</td>\n",
       "      <td>H</td>\n",
       "      <td>YUMA</td>\n",
       "      <td>AZ</td>\n",
       "      <td>N</td>\n",
       "      <td>N</td>\n",
       "    </tr>\n",
       "    <tr>\n",
       "      <th>579368</th>\n",
       "      <td>C</td>\n",
       "      <td>OHIO DENTAL ASSOCIATES - JUDGE, INC.</td>\n",
       "      <td>EAST SYRACUSE</td>\n",
       "      <td>NY</td>\n",
       "      <td>DENTIST (ASSOCIATE)</td>\n",
       "      <td>29-1021</td>\n",
       "      <td>DENTISTS, GENERAL</td>\n",
       "      <td>N</td>\n",
       "      <td>55.79</td>\n",
       "      <td>H</td>\n",
       "      <td>Level I</td>\n",
       "      <td>75.00</td>\n",
       "      <td>H</td>\n",
       "      <td>ZANESVILLE</td>\n",
       "      <td>OH</td>\n",
       "      <td>N</td>\n",
       "      <td>N</td>\n",
       "    </tr>\n",
       "    <tr>\n",
       "      <th>579372</th>\n",
       "      <td>C</td>\n",
       "      <td>ONR NATIONAL SPEECH PATHOLOGY, INC.</td>\n",
       "      <td>AUSTIN</td>\n",
       "      <td>TX</td>\n",
       "      <td>PHYSICAL THERAPIST/ASSISTANT DIRECTOR OF REHAB</td>\n",
       "      <td>29-1123</td>\n",
       "      <td>PHYSICAL THERAPISTS</td>\n",
       "      <td>Y</td>\n",
       "      <td>32.52</td>\n",
       "      <td>H</td>\n",
       "      <td>Level II</td>\n",
       "      <td>42.00</td>\n",
       "      <td>H</td>\n",
       "      <td>ZEARING</td>\n",
       "      <td>IA</td>\n",
       "      <td>N</td>\n",
       "      <td>N</td>\n",
       "    </tr>\n",
       "    <tr>\n",
       "      <th>579381</th>\n",
       "      <td>C</td>\n",
       "      <td>REST HAVEN ILLIANA CHRISTIAN CONVALESCENT HOME</td>\n",
       "      <td>TINLEY PARK</td>\n",
       "      <td>IL</td>\n",
       "      <td>UNIT MANAGER</td>\n",
       "      <td>11-9111</td>\n",
       "      <td>MEDICAL AND HEALTH SERVICES MANAGERS</td>\n",
       "      <td>Y</td>\n",
       "      <td>31.00</td>\n",
       "      <td>H</td>\n",
       "      <td>Level I</td>\n",
       "      <td>31.00</td>\n",
       "      <td>H</td>\n",
       "      <td>ZEELAND</td>\n",
       "      <td>MI</td>\n",
       "      <td>N</td>\n",
       "      <td>N</td>\n",
       "    </tr>\n",
       "    <tr>\n",
       "      <th>579385</th>\n",
       "      <td>C</td>\n",
       "      <td>FLORIDA HOSPITAL ZEPHYRHILLS, INC.</td>\n",
       "      <td>ZEPHYRHILLS</td>\n",
       "      <td>FL</td>\n",
       "      <td>MEDICAL TECHNOLOGIST</td>\n",
       "      <td>29-2011</td>\n",
       "      <td>MEDICAL AND CLINICAL LABORATORY TECHNOLOGISTS</td>\n",
       "      <td>Y</td>\n",
       "      <td>24.84</td>\n",
       "      <td>H</td>\n",
       "      <td>Level I</td>\n",
       "      <td>31.04</td>\n",
       "      <td>H</td>\n",
       "      <td>ZEPHYRHILLS</td>\n",
       "      <td>FL</td>\n",
       "      <td>N</td>\n",
       "      <td>N</td>\n",
       "    </tr>\n",
       "  </tbody>\n",
       "</table>\n",
       "<p>34187 rows × 17 columns</p>\n",
       "</div>"
      ],
      "text/plain": [
       "       case_status                                        emp_name  \\\n",
       "16               C                            HEALTH CAROUSEL, LLC   \n",
       "19               C                 MANAGEMENT HEALTH SYSTEMS, INC.   \n",
       "24               C                         HENDRICK MEDICAL CENTER   \n",
       "25               C                            HEALTH CAROUSEL, LLC   \n",
       "30               C                  SNOWMASS ENERGY PARTNERS, LTD.   \n",
       "...            ...                                             ...   \n",
       "579359           C                          KESARI HOSPITALITY LLC   \n",
       "579368           C            OHIO DENTAL ASSOCIATES - JUDGE, INC.   \n",
       "579372           C             ONR NATIONAL SPEECH PATHOLOGY, INC.   \n",
       "579381           C  REST HAVEN ILLIANA CHRISTIAN CONVALESCENT HOME   \n",
       "579385           C              FLORIDA HOSPITAL ZEPHYRHILLS, INC.   \n",
       "\n",
       "             emp_city emp_state  \\\n",
       "16         CINCINNATI        OH   \n",
       "19            SUNRISE        FL   \n",
       "24            ABILENE        TX   \n",
       "25         CINCINNATI        OH   \n",
       "30            ABILENE        TX   \n",
       "...               ...       ...   \n",
       "579359           YUMA        AZ   \n",
       "579368  EAST SYRACUSE        NY   \n",
       "579372         AUSTIN        TX   \n",
       "579381    TINLEY PARK        IL   \n",
       "579385    ZEPHYRHILLS        FL   \n",
       "\n",
       "                                             job_title soc_code  \\\n",
       "16                                  PHYSICAL THERAPIST  29-1123   \n",
       "19                                  PHYSICAL THERAPIST  29-1123   \n",
       "24                                        CASE MANAGER  29-1141   \n",
       "25                                  PHYSICAL THERAPIST  29-1123   \n",
       "30                                          ACCOUNTANT  13-2011   \n",
       "...                                                ...      ...   \n",
       "579359                         MARKET RESEARCH ANALYST  13-1161   \n",
       "579368                             DENTIST (ASSOCIATE)  29-1021   \n",
       "579372  PHYSICAL THERAPIST/ASSISTANT DIRECTOR OF REHAB  29-1123   \n",
       "579381                                    UNIT MANAGER  11-9111   \n",
       "579385                            MEDICAL TECHNOLOGIST  29-2011   \n",
       "\n",
       "                                                 soc_name full_time_position  \\\n",
       "16                                    PHYSICAL THERAPISTS                  Y   \n",
       "19                                    PHYSICAL THERAPISTS                  Y   \n",
       "24                                      REGISTERED NURSES                  Y   \n",
       "25                                    PHYSICAL THERAPISTS                  Y   \n",
       "30                               ACCOUNTANTS AND AUDITORS                  N   \n",
       "...                                                   ...                ...   \n",
       "579359  MARKET RESEARCH ANALYSTS AND MARKETING SPECIAL...                  Y   \n",
       "579368                                  DENTISTS, GENERAL                  N   \n",
       "579372                                PHYSICAL THERAPISTS                  Y   \n",
       "579381               MEDICAL AND HEALTH SERVICES MANAGERS                  Y   \n",
       "579385      MEDICAL AND CLINICAL LABORATORY TECHNOLOGISTS                  Y   \n",
       "\n",
       "        prevailing_wage pw_unit   pw_level  wage_from wage_unit    work_city  \\\n",
       "16                28.66       H    Level I      28.66         H     ABERDEEN   \n",
       "19                32.02       H    Level I      40.00         H      ABILENE   \n",
       "24                29.21       H  Level III      29.90         H      ABILENE   \n",
       "25                32.02       H    Level I      32.02         H      ABILENE   \n",
       "30                24.92       H   Level II      26.28         H      ABILENE   \n",
       "...                 ...     ...        ...        ...       ...          ...   \n",
       "579359            15.00       H    Level I      15.00         H         YUMA   \n",
       "579368            55.79       H    Level I      75.00         H   ZANESVILLE   \n",
       "579372            32.52       H   Level II      42.00         H      ZEARING   \n",
       "579381            31.00       H    Level I      31.00         H      ZEELAND   \n",
       "579385            24.84       H    Level I      31.04         H  ZEPHYRHILLS   \n",
       "\n",
       "       work_state emp_h1b_dependent emp_willful_violator  \n",
       "16             WA                 N                    N  \n",
       "19             TX                 Y                    N  \n",
       "24             TX                 N                    N  \n",
       "25             TX                 N                    N  \n",
       "30             TX                 N                    N  \n",
       "...           ...               ...                  ...  \n",
       "579359         AZ                 N                    N  \n",
       "579368         OH                 N                    N  \n",
       "579372         IA                 N                    N  \n",
       "579381         MI                 N                    N  \n",
       "579385         FL                 N                    N  \n",
       "\n",
       "[34187 rows x 17 columns]"
      ]
     },
     "execution_count": 64,
     "metadata": {},
     "output_type": "execute_result"
    }
   ],
   "source": [
    "df2[df2[\"prevailing_wage\"] <10000]"
   ]
  },
  {
   "cell_type": "markdown",
   "id": "5a3dc777",
   "metadata": {},
   "source": [
    "##### Converting all the prevailing wage to standard unit \"Yearly\""
   ]
  },
  {
   "cell_type": "code",
   "execution_count": 65,
   "id": "0f50af69",
   "metadata": {},
   "outputs": [],
   "source": [
    "# Create a dictionary to map pw_unit values to conversion factors\n",
    "unit_to_factor = {\n",
    "    \"H\": 2080,\n",
    "    \"W\": 52,\n",
    "    \"BW\": 26,\n",
    "    \"M\": 12,\n",
    "    \"Y\": 1\n",
    "}\n",
    "\n",
    "# Apply the conversion factor based on the pw_unit value\n",
    "df2[\"prevailing_wage\"] = df2[\"prevailing_wage\"] * df2[\"pw_unit\"].map(unit_to_factor)\n"
   ]
  },
  {
   "cell_type": "markdown",
   "id": "a2a1db85",
   "metadata": {},
   "source": [
    "##### Converting all the wage_from to standard unit \"Yearly\""
   ]
  },
  {
   "cell_type": "code",
   "execution_count": 66,
   "id": "9c48c920",
   "metadata": {},
   "outputs": [],
   "source": [
    "# Create a dictionary to map pw_unit values to conversion factors\n",
    "unit_to_factor = {\n",
    "    \"H\": 2080,\n",
    "    \"W\": 52,\n",
    "    \"BW\": 26,\n",
    "    \"M\": 12,\n",
    "    \"Y\": 1\n",
    "}\n",
    "\n",
    "# Apply the conversion factor based on the pw_unit value\n",
    "df2[\"wage_from\"] = df2[\"wage_from\"] * df2[\"wage_unit\"].map(unit_to_factor)\n"
   ]
  },
  {
   "cell_type": "code",
   "execution_count": 67,
   "id": "738d4cc8",
   "metadata": {},
   "outputs": [
    {
     "data": {
      "text/html": [
       "<div>\n",
       "<style scoped>\n",
       "    .dataframe tbody tr th:only-of-type {\n",
       "        vertical-align: middle;\n",
       "    }\n",
       "\n",
       "    .dataframe tbody tr th {\n",
       "        vertical-align: top;\n",
       "    }\n",
       "\n",
       "    .dataframe thead th {\n",
       "        text-align: right;\n",
       "    }\n",
       "</style>\n",
       "<table border=\"1\" class=\"dataframe\">\n",
       "  <thead>\n",
       "    <tr style=\"text-align: right;\">\n",
       "      <th></th>\n",
       "      <th>case_status</th>\n",
       "      <th>emp_name</th>\n",
       "      <th>emp_city</th>\n",
       "      <th>emp_state</th>\n",
       "      <th>job_title</th>\n",
       "      <th>soc_code</th>\n",
       "      <th>soc_name</th>\n",
       "      <th>full_time_position</th>\n",
       "      <th>prevailing_wage</th>\n",
       "      <th>pw_unit</th>\n",
       "      <th>pw_level</th>\n",
       "      <th>wage_from</th>\n",
       "      <th>wage_unit</th>\n",
       "      <th>work_city</th>\n",
       "      <th>work_state</th>\n",
       "      <th>emp_h1b_dependent</th>\n",
       "      <th>emp_willful_violator</th>\n",
       "    </tr>\n",
       "  </thead>\n",
       "  <tbody>\n",
       "    <tr>\n",
       "      <th>110412</th>\n",
       "      <td>D</td>\n",
       "      <td>KNOWBE4, INC.</td>\n",
       "      <td>CLEARWATER</td>\n",
       "      <td>FL</td>\n",
       "      <td>SOFTWARE ENGINEER</td>\n",
       "      <td>15-1132</td>\n",
       "      <td>SOFTWARE DEVELOPERS, APPLICATIONS</td>\n",
       "      <td>Y</td>\n",
       "      <td>25.58</td>\n",
       "      <td>Y</td>\n",
       "      <td>Level I</td>\n",
       "      <td>50000.0</td>\n",
       "      <td>Y</td>\n",
       "      <td>CLEARWATER</td>\n",
       "      <td>FL</td>\n",
       "      <td>N</td>\n",
       "      <td>N</td>\n",
       "    </tr>\n",
       "  </tbody>\n",
       "</table>\n",
       "</div>"
      ],
      "text/plain": [
       "       case_status       emp_name    emp_city emp_state          job_title  \\\n",
       "110412           D  KNOWBE4, INC.  CLEARWATER        FL  SOFTWARE ENGINEER   \n",
       "\n",
       "       soc_code                           soc_name full_time_position  \\\n",
       "110412  15-1132  SOFTWARE DEVELOPERS, APPLICATIONS                  Y   \n",
       "\n",
       "        prevailing_wage pw_unit pw_level  wage_from wage_unit   work_city  \\\n",
       "110412            25.58       Y  Level I    50000.0         Y  CLEARWATER   \n",
       "\n",
       "       work_state emp_h1b_dependent emp_willful_violator  \n",
       "110412         FL                 N                    N  "
      ]
     },
     "execution_count": 67,
     "metadata": {},
     "output_type": "execute_result"
    }
   ],
   "source": [
    "df2[df2[\"prevailing_wage\"] <10000]"
   ]
  },
  {
   "cell_type": "code",
   "execution_count": 68,
   "id": "1175e2c3",
   "metadata": {},
   "outputs": [
    {
     "data": {
      "text/plain": [
       "(578656, 17)"
      ]
     },
     "execution_count": 68,
     "metadata": {},
     "output_type": "execute_result"
    }
   ],
   "source": [
    "df2.shape"
   ]
  },
  {
   "cell_type": "code",
   "execution_count": 69,
   "id": "ef1f4637",
   "metadata": {},
   "outputs": [
    {
     "data": {
      "text/plain": [
       "(578655, 17)"
      ]
     },
     "execution_count": 69,
     "metadata": {},
     "output_type": "execute_result"
    }
   ],
   "source": [
    "mask = df2[\"prevailing_wage\"] <10000\n",
    "\n",
    "# drop the rows that meet the condition\n",
    "df2 = df2[~mask]\n",
    "df2.shape"
   ]
  },
  {
   "cell_type": "code",
   "execution_count": 70,
   "id": "1759248b",
   "metadata": {},
   "outputs": [],
   "source": [
    "df2[\"prevailing_wage\"] = round(df2[\"prevailing_wage\"],2)\n",
    "df2[\"wage_from\"] = round(df2[\"wage_from\"],2)"
   ]
  },
  {
   "cell_type": "markdown",
   "id": "4b878968",
   "metadata": {},
   "source": [
    "##### Since all the wages are converted to standard unit \"yearly\". Dropping the unit columns"
   ]
  },
  {
   "cell_type": "code",
   "execution_count": 71,
   "id": "01f789d8",
   "metadata": {},
   "outputs": [],
   "source": [
    "df2.drop([\"pw_unit\",\"wage_unit\"],axis=1,inplace=True)"
   ]
  },
  {
   "cell_type": "markdown",
   "id": "4b91d19f",
   "metadata": {},
   "source": [
    "##### Encoding full_time_position, emp_h1b_dependent, emp_willful_violator with 0 for \"N\" and 1 for \"Y\""
   ]
  },
  {
   "cell_type": "code",
   "execution_count": 72,
   "id": "3015cb50",
   "metadata": {},
   "outputs": [],
   "source": [
    "df2[[\"full_time_position\",\"emp_h1b_dependent\",\"emp_willful_violator\"]] = df2[[\"full_time_position\",\"emp_h1b_dependent\",\"emp_willful_violator\"]].replace({\"Y\": 1,\"N\": 0})"
   ]
  },
  {
   "cell_type": "code",
   "execution_count": 73,
   "id": "ef5583ff",
   "metadata": {},
   "outputs": [
    {
     "data": {
      "text/plain": [
       "<AxesSubplot:xlabel='prevailing_wage'>"
      ]
     },
     "execution_count": 73,
     "metadata": {},
     "output_type": "execute_result"
    },
    {
     "data": {
      "image/png": "[encoded data removed]",
      "text/plain": [
       "<Figure size 432x288 with 1 Axes>"
      ]
     },
     "metadata": {
      "needs_background": "light"
     },
     "output_type": "display_data"
    }
   ],
   "source": [
    "sns.boxplot(df2[\"prevailing_wage\"])"
   ]
  },
  {
   "cell_type": "code",
   "execution_count": 74,
   "id": "30af802a",
   "metadata": {},
   "outputs": [],
   "source": [
    "df_eda = df2"
   ]
  },
  {
   "cell_type": "markdown",
   "id": "61534240",
   "metadata": {},
   "source": [
    "##### Frequency encoding"
   ]
  },
  {
   "cell_type": "code",
   "execution_count": 75,
   "id": "b09dea3b",
   "metadata": {},
   "outputs": [
    {
     "data": {
      "text/html": [
       "<div>\n",
       "<style scoped>\n",
       "    .dataframe tbody tr th:only-of-type {\n",
       "        vertical-align: middle;\n",
       "    }\n",
       "\n",
       "    .dataframe tbody tr th {\n",
       "        vertical-align: top;\n",
       "    }\n",
       "\n",
       "    .dataframe thead th {\n",
       "        text-align: right;\n",
       "    }\n",
       "</style>\n",
       "<table border=\"1\" class=\"dataframe\">\n",
       "  <thead>\n",
       "    <tr style=\"text-align: right;\">\n",
       "      <th></th>\n",
       "      <th>case_status</th>\n",
       "      <th>emp_name</th>\n",
       "      <th>emp_city</th>\n",
       "      <th>emp_state</th>\n",
       "      <th>job_title</th>\n",
       "      <th>soc_code</th>\n",
       "      <th>soc_name</th>\n",
       "      <th>full_time_position</th>\n",
       "      <th>prevailing_wage</th>\n",
       "      <th>pw_level</th>\n",
       "      <th>...</th>\n",
       "      <th>emp_h1b_dependent</th>\n",
       "      <th>emp_willful_violator</th>\n",
       "      <th>emp_name_freq</th>\n",
       "      <th>emp_city_freq</th>\n",
       "      <th>emp_state_freq</th>\n",
       "      <th>job_title_freq</th>\n",
       "      <th>soc_code_freq</th>\n",
       "      <th>soc_name_freq</th>\n",
       "      <th>work_city_freq</th>\n",
       "      <th>work_state_freq</th>\n",
       "    </tr>\n",
       "  </thead>\n",
       "  <tbody>\n",
       "    <tr>\n",
       "      <th>0</th>\n",
       "      <td>C</td>\n",
       "      <td>LAKELANDS NEPHROLOGY, PA</td>\n",
       "      <td>GREENWOOD</td>\n",
       "      <td>SC</td>\n",
       "      <td>NEPHROLOGIST</td>\n",
       "      <td>29-1063</td>\n",
       "      <td>INTERNISTS, GENERAL</td>\n",
       "      <td>1</td>\n",
       "      <td>187200.0</td>\n",
       "      <td>NaN</td>\n",
       "      <td>...</td>\n",
       "      <td>0</td>\n",
       "      <td>0</td>\n",
       "      <td>2</td>\n",
       "      <td>24</td>\n",
       "      <td>1443</td>\n",
       "      <td>266</td>\n",
       "      <td>1678</td>\n",
       "      <td>1684</td>\n",
       "      <td>1</td>\n",
       "      <td>2760</td>\n",
       "    </tr>\n",
       "    <tr>\n",
       "      <th>1</th>\n",
       "      <td>C</td>\n",
       "      <td>UNIVERSITY OF IDAHO</td>\n",
       "      <td>MOSCOW</td>\n",
       "      <td>ID</td>\n",
       "      <td>POST DOCTORAL FELLOW</td>\n",
       "      <td>19-1013</td>\n",
       "      <td>SOIL AND PLANT SCIENTISTS</td>\n",
       "      <td>1</td>\n",
       "      <td>39957.0</td>\n",
       "      <td>Level I</td>\n",
       "      <td>...</td>\n",
       "      <td>0</td>\n",
       "      <td>0</td>\n",
       "      <td>29</td>\n",
       "      <td>29</td>\n",
       "      <td>598</td>\n",
       "      <td>150</td>\n",
       "      <td>410</td>\n",
       "      <td>410</td>\n",
       "      <td>16</td>\n",
       "      <td>847</td>\n",
       "    </tr>\n",
       "    <tr>\n",
       "      <th>2</th>\n",
       "      <td>C</td>\n",
       "      <td>XPO SUPPLY CHAIN, INC.</td>\n",
       "      <td>HIGH POINT</td>\n",
       "      <td>NC</td>\n",
       "      <td>OPERATION ANALYST</td>\n",
       "      <td>15-2031</td>\n",
       "      <td>OPERATIONS RESEARCH ANALYSTS</td>\n",
       "      <td>1</td>\n",
       "      <td>59966.0</td>\n",
       "      <td>Level I</td>\n",
       "      <td>...</td>\n",
       "      <td>0</td>\n",
       "      <td>0</td>\n",
       "      <td>31</td>\n",
       "      <td>54</td>\n",
       "      <td>17574</td>\n",
       "      <td>13</td>\n",
       "      <td>9040</td>\n",
       "      <td>9037</td>\n",
       "      <td>16</td>\n",
       "      <td>9544</td>\n",
       "    </tr>\n",
       "    <tr>\n",
       "      <th>3</th>\n",
       "      <td>C</td>\n",
       "      <td>C AND S WHOLESALE GROCERS, INC.</td>\n",
       "      <td>KEENE</td>\n",
       "      <td>NH</td>\n",
       "      <td>SR. INDUSTRIAL ENGINEER</td>\n",
       "      <td>17-2112</td>\n",
       "      <td>INDUSTRIAL ENGINEERS</td>\n",
       "      <td>1</td>\n",
       "      <td>78832.0</td>\n",
       "      <td>Level II</td>\n",
       "      <td>...</td>\n",
       "      <td>0</td>\n",
       "      <td>0</td>\n",
       "      <td>28</td>\n",
       "      <td>34</td>\n",
       "      <td>978</td>\n",
       "      <td>6</td>\n",
       "      <td>3309</td>\n",
       "      <td>3315</td>\n",
       "      <td>16</td>\n",
       "      <td>9544</td>\n",
       "    </tr>\n",
       "    <tr>\n",
       "      <th>4</th>\n",
       "      <td>C</td>\n",
       "      <td>SANFORD CLINIC</td>\n",
       "      <td>SIOUX FALLS</td>\n",
       "      <td>SD</td>\n",
       "      <td>HEMATOLOGIST/ONCOLOGIST</td>\n",
       "      <td>29-1069</td>\n",
       "      <td>PHYSICIANS AND SURGEONS, ALL OTHER</td>\n",
       "      <td>1</td>\n",
       "      <td>169645.0</td>\n",
       "      <td>NaN</td>\n",
       "      <td>...</td>\n",
       "      <td>0</td>\n",
       "      <td>0</td>\n",
       "      <td>32</td>\n",
       "      <td>99</td>\n",
       "      <td>216</td>\n",
       "      <td>27</td>\n",
       "      <td>5247</td>\n",
       "      <td>5246</td>\n",
       "      <td>16</td>\n",
       "      <td>292</td>\n",
       "    </tr>\n",
       "  </tbody>\n",
       "</table>\n",
       "<p>5 rows × 23 columns</p>\n",
       "</div>"
      ],
      "text/plain": [
       "  case_status                         emp_name     emp_city emp_state  \\\n",
       "0           C         LAKELANDS NEPHROLOGY, PA    GREENWOOD        SC   \n",
       "1           C              UNIVERSITY OF IDAHO       MOSCOW        ID   \n",
       "2           C           XPO SUPPLY CHAIN, INC.   HIGH POINT        NC   \n",
       "3           C  C AND S WHOLESALE GROCERS, INC.        KEENE        NH   \n",
       "4           C                   SANFORD CLINIC  SIOUX FALLS        SD   \n",
       "\n",
       "                 job_title soc_code                            soc_name  \\\n",
       "0             NEPHROLOGIST  29-1063                 INTERNISTS, GENERAL   \n",
       "1     POST DOCTORAL FELLOW  19-1013           SOIL AND PLANT SCIENTISTS   \n",
       "2        OPERATION ANALYST  15-2031        OPERATIONS RESEARCH ANALYSTS   \n",
       "3  SR. INDUSTRIAL ENGINEER  17-2112                INDUSTRIAL ENGINEERS   \n",
       "4  HEMATOLOGIST/ONCOLOGIST  29-1069  PHYSICIANS AND SURGEONS, ALL OTHER   \n",
       "\n",
       "   full_time_position  prevailing_wage  pw_level  ...  emp_h1b_dependent  \\\n",
       "0                   1         187200.0       NaN  ...                  0   \n",
       "1                   1          39957.0   Level I  ...                  0   \n",
       "2                   1          59966.0   Level I  ...                  0   \n",
       "3                   1          78832.0  Level II  ...                  0   \n",
       "4                   1         169645.0       NaN  ...                  0   \n",
       "\n",
       "  emp_willful_violator emp_name_freq  emp_city_freq  emp_state_freq  \\\n",
       "0                    0             2             24            1443   \n",
       "1                    0            29             29             598   \n",
       "2                    0            31             54           17574   \n",
       "3                    0            28             34             978   \n",
       "4                    0            32             99             216   \n",
       "\n",
       "   job_title_freq  soc_code_freq  soc_name_freq  work_city_freq  \\\n",
       "0             266           1678           1684               1   \n",
       "1             150            410            410              16   \n",
       "2              13           9040           9037              16   \n",
       "3               6           3309           3315              16   \n",
       "4              27           5247           5246              16   \n",
       "\n",
       "   work_state_freq  \n",
       "0             2760  \n",
       "1              847  \n",
       "2             9544  \n",
       "3             9544  \n",
       "4              292  \n",
       "\n",
       "[5 rows x 23 columns]"
      ]
     },
     "execution_count": 75,
     "metadata": {},
     "output_type": "execute_result"
    }
   ],
   "source": [
    "for col in [\"emp_name\",\"emp_city\",\"emp_state\",\"job_title\",\"soc_code\",\"soc_name\",\"work_city\",\"work_state\"]:\n",
    "    freq = df2[col].value_counts()\n",
    "    df2[col + '_freq'] = df2[col].map(freq)\n",
    "\n",
    "df2.head()"
   ]
  },
  {
   "cell_type": "code",
   "execution_count": 76,
   "id": "a25e9e92",
   "metadata": {},
   "outputs": [
    {
     "data": {
      "text/html": [
       "<div>\n",
       "<style scoped>\n",
       "    .dataframe tbody tr th:only-of-type {\n",
       "        vertical-align: middle;\n",
       "    }\n",
       "\n",
       "    .dataframe tbody tr th {\n",
       "        vertical-align: top;\n",
       "    }\n",
       "\n",
       "    .dataframe thead th {\n",
       "        text-align: right;\n",
       "    }\n",
       "</style>\n",
       "<table border=\"1\" class=\"dataframe\">\n",
       "  <thead>\n",
       "    <tr style=\"text-align: right;\">\n",
       "      <th></th>\n",
       "      <th>case_status</th>\n",
       "      <th>emp_name</th>\n",
       "      <th>emp_city</th>\n",
       "      <th>emp_state</th>\n",
       "      <th>job_title</th>\n",
       "      <th>soc_code</th>\n",
       "      <th>soc_name</th>\n",
       "      <th>full_time_position</th>\n",
       "      <th>prevailing_wage</th>\n",
       "      <th>pw_level</th>\n",
       "      <th>...</th>\n",
       "      <th>emp_h1b_dependent</th>\n",
       "      <th>emp_willful_violator</th>\n",
       "      <th>emp_name_freq</th>\n",
       "      <th>emp_city_freq</th>\n",
       "      <th>emp_state_freq</th>\n",
       "      <th>job_title_freq</th>\n",
       "      <th>soc_code_freq</th>\n",
       "      <th>soc_name_freq</th>\n",
       "      <th>work_city_freq</th>\n",
       "      <th>work_state_freq</th>\n",
       "    </tr>\n",
       "  </thead>\n",
       "  <tbody>\n",
       "    <tr>\n",
       "      <th>0</th>\n",
       "      <td>C</td>\n",
       "      <td>LAKELANDS NEPHROLOGY, PA</td>\n",
       "      <td>GREENWOOD</td>\n",
       "      <td>SC</td>\n",
       "      <td>NEPHROLOGIST</td>\n",
       "      <td>29-1063</td>\n",
       "      <td>INTERNISTS, GENERAL</td>\n",
       "      <td>1</td>\n",
       "      <td>187200.0</td>\n",
       "      <td>NaN</td>\n",
       "      <td>...</td>\n",
       "      <td>0</td>\n",
       "      <td>0</td>\n",
       "      <td>2</td>\n",
       "      <td>24</td>\n",
       "      <td>1443</td>\n",
       "      <td>266</td>\n",
       "      <td>1678</td>\n",
       "      <td>1684</td>\n",
       "      <td>1</td>\n",
       "      <td>2760</td>\n",
       "    </tr>\n",
       "    <tr>\n",
       "      <th>1</th>\n",
       "      <td>C</td>\n",
       "      <td>UNIVERSITY OF IDAHO</td>\n",
       "      <td>MOSCOW</td>\n",
       "      <td>ID</td>\n",
       "      <td>POST DOCTORAL FELLOW</td>\n",
       "      <td>19-1013</td>\n",
       "      <td>SOIL AND PLANT SCIENTISTS</td>\n",
       "      <td>1</td>\n",
       "      <td>39957.0</td>\n",
       "      <td>Level I</td>\n",
       "      <td>...</td>\n",
       "      <td>0</td>\n",
       "      <td>0</td>\n",
       "      <td>29</td>\n",
       "      <td>29</td>\n",
       "      <td>598</td>\n",
       "      <td>150</td>\n",
       "      <td>410</td>\n",
       "      <td>410</td>\n",
       "      <td>16</td>\n",
       "      <td>847</td>\n",
       "    </tr>\n",
       "    <tr>\n",
       "      <th>2</th>\n",
       "      <td>C</td>\n",
       "      <td>XPO SUPPLY CHAIN, INC.</td>\n",
       "      <td>HIGH POINT</td>\n",
       "      <td>NC</td>\n",
       "      <td>OPERATION ANALYST</td>\n",
       "      <td>15-2031</td>\n",
       "      <td>OPERATIONS RESEARCH ANALYSTS</td>\n",
       "      <td>1</td>\n",
       "      <td>59966.0</td>\n",
       "      <td>Level I</td>\n",
       "      <td>...</td>\n",
       "      <td>0</td>\n",
       "      <td>0</td>\n",
       "      <td>31</td>\n",
       "      <td>54</td>\n",
       "      <td>17574</td>\n",
       "      <td>13</td>\n",
       "      <td>9040</td>\n",
       "      <td>9037</td>\n",
       "      <td>16</td>\n",
       "      <td>9544</td>\n",
       "    </tr>\n",
       "    <tr>\n",
       "      <th>3</th>\n",
       "      <td>C</td>\n",
       "      <td>C AND S WHOLESALE GROCERS, INC.</td>\n",
       "      <td>KEENE</td>\n",
       "      <td>NH</td>\n",
       "      <td>SR. INDUSTRIAL ENGINEER</td>\n",
       "      <td>17-2112</td>\n",
       "      <td>INDUSTRIAL ENGINEERS</td>\n",
       "      <td>1</td>\n",
       "      <td>78832.0</td>\n",
       "      <td>Level II</td>\n",
       "      <td>...</td>\n",
       "      <td>0</td>\n",
       "      <td>0</td>\n",
       "      <td>28</td>\n",
       "      <td>34</td>\n",
       "      <td>978</td>\n",
       "      <td>6</td>\n",
       "      <td>3309</td>\n",
       "      <td>3315</td>\n",
       "      <td>16</td>\n",
       "      <td>9544</td>\n",
       "    </tr>\n",
       "    <tr>\n",
       "      <th>4</th>\n",
       "      <td>C</td>\n",
       "      <td>SANFORD CLINIC</td>\n",
       "      <td>SIOUX FALLS</td>\n",
       "      <td>SD</td>\n",
       "      <td>HEMATOLOGIST/ONCOLOGIST</td>\n",
       "      <td>29-1069</td>\n",
       "      <td>PHYSICIANS AND SURGEONS, ALL OTHER</td>\n",
       "      <td>1</td>\n",
       "      <td>169645.0</td>\n",
       "      <td>NaN</td>\n",
       "      <td>...</td>\n",
       "      <td>0</td>\n",
       "      <td>0</td>\n",
       "      <td>32</td>\n",
       "      <td>99</td>\n",
       "      <td>216</td>\n",
       "      <td>27</td>\n",
       "      <td>5247</td>\n",
       "      <td>5246</td>\n",
       "      <td>16</td>\n",
       "      <td>292</td>\n",
       "    </tr>\n",
       "  </tbody>\n",
       "</table>\n",
       "<p>5 rows × 23 columns</p>\n",
       "</div>"
      ],
      "text/plain": [
       "  case_status                         emp_name     emp_city emp_state  \\\n",
       "0           C         LAKELANDS NEPHROLOGY, PA    GREENWOOD        SC   \n",
       "1           C              UNIVERSITY OF IDAHO       MOSCOW        ID   \n",
       "2           C           XPO SUPPLY CHAIN, INC.   HIGH POINT        NC   \n",
       "3           C  C AND S WHOLESALE GROCERS, INC.        KEENE        NH   \n",
       "4           C                   SANFORD CLINIC  SIOUX FALLS        SD   \n",
       "\n",
       "                 job_title soc_code                            soc_name  \\\n",
       "0             NEPHROLOGIST  29-1063                 INTERNISTS, GENERAL   \n",
       "1     POST DOCTORAL FELLOW  19-1013           SOIL AND PLANT SCIENTISTS   \n",
       "2        OPERATION ANALYST  15-2031        OPERATIONS RESEARCH ANALYSTS   \n",
       "3  SR. INDUSTRIAL ENGINEER  17-2112                INDUSTRIAL ENGINEERS   \n",
       "4  HEMATOLOGIST/ONCOLOGIST  29-1069  PHYSICIANS AND SURGEONS, ALL OTHER   \n",
       "\n",
       "   full_time_position  prevailing_wage  pw_level  ...  emp_h1b_dependent  \\\n",
       "0                   1         187200.0       NaN  ...                  0   \n",
       "1                   1          39957.0   Level I  ...                  0   \n",
       "2                   1          59966.0   Level I  ...                  0   \n",
       "3                   1          78832.0  Level II  ...                  0   \n",
       "4                   1         169645.0       NaN  ...                  0   \n",
       "\n",
       "  emp_willful_violator emp_name_freq  emp_city_freq  emp_state_freq  \\\n",
       "0                    0             2             24            1443   \n",
       "1                    0            29             29             598   \n",
       "2                    0            31             54           17574   \n",
       "3                    0            28             34             978   \n",
       "4                    0            32             99             216   \n",
       "\n",
       "   job_title_freq  soc_code_freq  soc_name_freq  work_city_freq  \\\n",
       "0             266           1678           1684               1   \n",
       "1             150            410            410              16   \n",
       "2              13           9040           9037              16   \n",
       "3               6           3309           3315              16   \n",
       "4              27           5247           5246              16   \n",
       "\n",
       "   work_state_freq  \n",
       "0             2760  \n",
       "1              847  \n",
       "2             9544  \n",
       "3             9544  \n",
       "4              292  \n",
       "\n",
       "[5 rows x 23 columns]"
      ]
     },
     "execution_count": 76,
     "metadata": {},
     "output_type": "execute_result"
    }
   ],
   "source": [
    "df3 = df2.copy()\n",
    "df3.head()"
   ]
  },
  {
   "cell_type": "code",
   "execution_count": 77,
   "id": "ce38b6e4",
   "metadata": {},
   "outputs": [],
   "source": [
    "df3.drop([\"case_status\",\"emp_name\",\"emp_city\",\"emp_state\",\"job_title\",\"soc_code\",\"soc_name\",\"work_city\",\"work_state\"],axis=1,inplace=True)"
   ]
  },
  {
   "cell_type": "code",
   "execution_count": 78,
   "id": "fd94dfbf",
   "metadata": {},
   "outputs": [
    {
     "data": {
      "text/html": [
       "<div>\n",
       "<style scoped>\n",
       "    .dataframe tbody tr th:only-of-type {\n",
       "        vertical-align: middle;\n",
       "    }\n",
       "\n",
       "    .dataframe tbody tr th {\n",
       "        vertical-align: top;\n",
       "    }\n",
       "\n",
       "    .dataframe thead th {\n",
       "        text-align: right;\n",
       "    }\n",
       "</style>\n",
       "<table border=\"1\" class=\"dataframe\">\n",
       "  <thead>\n",
       "    <tr style=\"text-align: right;\">\n",
       "      <th></th>\n",
       "      <th>full_time_position</th>\n",
       "      <th>prevailing_wage</th>\n",
       "      <th>pw_level</th>\n",
       "      <th>wage_from</th>\n",
       "      <th>emp_h1b_dependent</th>\n",
       "      <th>emp_willful_violator</th>\n",
       "      <th>emp_name_freq</th>\n",
       "      <th>emp_city_freq</th>\n",
       "      <th>emp_state_freq</th>\n",
       "      <th>job_title_freq</th>\n",
       "      <th>soc_code_freq</th>\n",
       "      <th>soc_name_freq</th>\n",
       "      <th>work_city_freq</th>\n",
       "      <th>work_state_freq</th>\n",
       "    </tr>\n",
       "  </thead>\n",
       "  <tbody>\n",
       "    <tr>\n",
       "      <th>0</th>\n",
       "      <td>1</td>\n",
       "      <td>187200.0</td>\n",
       "      <td>NaN</td>\n",
       "      <td>190000.00</td>\n",
       "      <td>0</td>\n",
       "      <td>0</td>\n",
       "      <td>2</td>\n",
       "      <td>24</td>\n",
       "      <td>1443</td>\n",
       "      <td>266</td>\n",
       "      <td>1678</td>\n",
       "      <td>1684</td>\n",
       "      <td>1</td>\n",
       "      <td>2760</td>\n",
       "    </tr>\n",
       "    <tr>\n",
       "      <th>1</th>\n",
       "      <td>1</td>\n",
       "      <td>39957.0</td>\n",
       "      <td>Level I</td>\n",
       "      <td>47507.00</td>\n",
       "      <td>0</td>\n",
       "      <td>0</td>\n",
       "      <td>29</td>\n",
       "      <td>29</td>\n",
       "      <td>598</td>\n",
       "      <td>150</td>\n",
       "      <td>410</td>\n",
       "      <td>410</td>\n",
       "      <td>16</td>\n",
       "      <td>847</td>\n",
       "    </tr>\n",
       "    <tr>\n",
       "      <th>2</th>\n",
       "      <td>1</td>\n",
       "      <td>59966.0</td>\n",
       "      <td>Level I</td>\n",
       "      <td>65000.00</td>\n",
       "      <td>0</td>\n",
       "      <td>0</td>\n",
       "      <td>31</td>\n",
       "      <td>54</td>\n",
       "      <td>17574</td>\n",
       "      <td>13</td>\n",
       "      <td>9040</td>\n",
       "      <td>9037</td>\n",
       "      <td>16</td>\n",
       "      <td>9544</td>\n",
       "    </tr>\n",
       "    <tr>\n",
       "      <th>3</th>\n",
       "      <td>1</td>\n",
       "      <td>78832.0</td>\n",
       "      <td>Level II</td>\n",
       "      <td>86988.15</td>\n",
       "      <td>0</td>\n",
       "      <td>0</td>\n",
       "      <td>28</td>\n",
       "      <td>34</td>\n",
       "      <td>978</td>\n",
       "      <td>6</td>\n",
       "      <td>3309</td>\n",
       "      <td>3315</td>\n",
       "      <td>16</td>\n",
       "      <td>9544</td>\n",
       "    </tr>\n",
       "    <tr>\n",
       "      <th>4</th>\n",
       "      <td>1</td>\n",
       "      <td>169645.0</td>\n",
       "      <td>NaN</td>\n",
       "      <td>450000.00</td>\n",
       "      <td>0</td>\n",
       "      <td>0</td>\n",
       "      <td>32</td>\n",
       "      <td>99</td>\n",
       "      <td>216</td>\n",
       "      <td>27</td>\n",
       "      <td>5247</td>\n",
       "      <td>5246</td>\n",
       "      <td>16</td>\n",
       "      <td>292</td>\n",
       "    </tr>\n",
       "  </tbody>\n",
       "</table>\n",
       "</div>"
      ],
      "text/plain": [
       "   full_time_position  prevailing_wage  pw_level  wage_from  \\\n",
       "0                   1         187200.0       NaN  190000.00   \n",
       "1                   1          39957.0   Level I   47507.00   \n",
       "2                   1          59966.0   Level I   65000.00   \n",
       "3                   1          78832.0  Level II   86988.15   \n",
       "4                   1         169645.0       NaN  450000.00   \n",
       "\n",
       "   emp_h1b_dependent  emp_willful_violator  emp_name_freq  emp_city_freq  \\\n",
       "0                  0                     0              2             24   \n",
       "1                  0                     0             29             29   \n",
       "2                  0                     0             31             54   \n",
       "3                  0                     0             28             34   \n",
       "4                  0                     0             32             99   \n",
       "\n",
       "   emp_state_freq  job_title_freq  soc_code_freq  soc_name_freq  \\\n",
       "0            1443             266           1678           1684   \n",
       "1             598             150            410            410   \n",
       "2           17574              13           9040           9037   \n",
       "3             978               6           3309           3315   \n",
       "4             216              27           5247           5246   \n",
       "\n",
       "   work_city_freq  work_state_freq  \n",
       "0               1             2760  \n",
       "1              16              847  \n",
       "2              16             9544  \n",
       "3              16             9544  \n",
       "4              16              292  "
      ]
     },
     "execution_count": 78,
     "metadata": {},
     "output_type": "execute_result"
    }
   ],
   "source": [
    "df3.head()"
   ]
  },
  {
   "cell_type": "markdown",
   "id": "95ed508d",
   "metadata": {},
   "source": [
    "##### Spliting the dataframe into 2, df with null values in pw_level and df without null values in pw_level "
   ]
  },
  {
   "cell_type": "code",
   "execution_count": 79,
   "id": "05b91eb5",
   "metadata": {},
   "outputs": [],
   "source": [
    "df_non_null = df3[df3[\"pw_level\"].notnull()]\n",
    "df_null = df3[df3[\"pw_level\"].isnull()]"
   ]
  },
  {
   "cell_type": "code",
   "execution_count": 80,
   "id": "dc007f8f",
   "metadata": {},
   "outputs": [],
   "source": [
    "x = df_non_null.drop(\"pw_level\",axis=1)\n",
    "y = df_non_null[\"pw_level\"]"
   ]
  },
  {
   "cell_type": "code",
   "execution_count": 81,
   "id": "e1236e5d",
   "metadata": {},
   "outputs": [
    {
     "data": {
      "text/plain": [
       "full_time_position      0\n",
       "prevailing_wage         0\n",
       "wage_from               0\n",
       "emp_h1b_dependent       0\n",
       "emp_willful_violator    0\n",
       "emp_name_freq           0\n",
       "emp_city_freq           0\n",
       "emp_state_freq          0\n",
       "job_title_freq          0\n",
       "soc_code_freq           0\n",
       "soc_name_freq           0\n",
       "work_city_freq          0\n",
       "work_state_freq         0\n",
       "dtype: int64"
      ]
     },
     "execution_count": 81,
     "metadata": {},
     "output_type": "execute_result"
    }
   ],
   "source": [
    "x.isnull().sum()"
   ]
  },
  {
   "cell_type": "code",
   "execution_count": 82,
   "id": "6ef3da4c",
   "metadata": {},
   "outputs": [],
   "source": [
    "from sklearn.preprocessing import StandardScaler"
   ]
  },
  {
   "cell_type": "code",
   "execution_count": 83,
   "id": "8226faa3",
   "metadata": {},
   "outputs": [
    {
     "data": {
      "text/html": [
       "<div>\n",
       "<style scoped>\n",
       "    .dataframe tbody tr th:only-of-type {\n",
       "        vertical-align: middle;\n",
       "    }\n",
       "\n",
       "    .dataframe tbody tr th {\n",
       "        vertical-align: top;\n",
       "    }\n",
       "\n",
       "    .dataframe thead th {\n",
       "        text-align: right;\n",
       "    }\n",
       "</style>\n",
       "<table border=\"1\" class=\"dataframe\">\n",
       "  <thead>\n",
       "    <tr style=\"text-align: right;\">\n",
       "      <th></th>\n",
       "      <th>full_time_position</th>\n",
       "      <th>prevailing_wage</th>\n",
       "      <th>wage_from</th>\n",
       "      <th>emp_h1b_dependent</th>\n",
       "      <th>emp_willful_violator</th>\n",
       "      <th>emp_name_freq</th>\n",
       "      <th>emp_city_freq</th>\n",
       "      <th>emp_state_freq</th>\n",
       "      <th>job_title_freq</th>\n",
       "      <th>soc_code_freq</th>\n",
       "      <th>soc_name_freq</th>\n",
       "      <th>work_city_freq</th>\n",
       "      <th>work_state_freq</th>\n",
       "    </tr>\n",
       "  </thead>\n",
       "  <tbody>\n",
       "    <tr>\n",
       "      <th>0</th>\n",
       "      <td>0.150929</td>\n",
       "      <td>-0.074190</td>\n",
       "      <td>-0.070880</td>\n",
       "      <td>-0.801764</td>\n",
       "      <td>-0.028439</td>\n",
       "      <td>-0.427356</td>\n",
       "      <td>-0.796520</td>\n",
       "      <td>-1.426312</td>\n",
       "      <td>-0.478961</td>\n",
       "      <td>-1.197409</td>\n",
       "      <td>-1.127406</td>\n",
       "      <td>-0.642560</td>\n",
       "      <td>-1.147051</td>\n",
       "    </tr>\n",
       "    <tr>\n",
       "      <th>1</th>\n",
       "      <td>0.150929</td>\n",
       "      <td>-0.033551</td>\n",
       "      <td>-0.039336</td>\n",
       "      <td>-0.801764</td>\n",
       "      <td>-0.028439</td>\n",
       "      <td>-0.426907</td>\n",
       "      <td>-0.793914</td>\n",
       "      <td>-0.917876</td>\n",
       "      <td>-0.489580</td>\n",
       "      <td>-1.014828</td>\n",
       "      <td>-0.934480</td>\n",
       "      <td>-0.642560</td>\n",
       "      <td>-0.906115</td>\n",
       "    </tr>\n",
       "    <tr>\n",
       "      <th>2</th>\n",
       "      <td>0.150929</td>\n",
       "      <td>0.004765</td>\n",
       "      <td>0.000314</td>\n",
       "      <td>-0.801764</td>\n",
       "      <td>-0.028439</td>\n",
       "      <td>-0.427581</td>\n",
       "      <td>-0.795999</td>\n",
       "      <td>-1.414931</td>\n",
       "      <td>-0.490122</td>\n",
       "      <td>-1.136076</td>\n",
       "      <td>-1.062441</td>\n",
       "      <td>-0.642560</td>\n",
       "      <td>-0.906115</td>\n",
       "    </tr>\n",
       "    <tr>\n",
       "      <th>3</th>\n",
       "      <td>0.150929</td>\n",
       "      <td>0.111899</td>\n",
       "      <td>0.080725</td>\n",
       "      <td>-0.801764</td>\n",
       "      <td>-0.028439</td>\n",
       "      <td>-0.426682</td>\n",
       "      <td>-0.789224</td>\n",
       "      <td>-1.437753</td>\n",
       "      <td>-0.478031</td>\n",
       "      <td>-1.192818</td>\n",
       "      <td>-1.122486</td>\n",
       "      <td>-0.642560</td>\n",
       "      <td>-1.162426</td>\n",
       "    </tr>\n",
       "    <tr>\n",
       "      <th>4</th>\n",
       "      <td>0.150929</td>\n",
       "      <td>-0.063927</td>\n",
       "      <td>-0.063703</td>\n",
       "      <td>-0.801764</td>\n",
       "      <td>-0.028439</td>\n",
       "      <td>-0.433648</td>\n",
       "      <td>-0.793080</td>\n",
       "      <td>-1.437753</td>\n",
       "      <td>-0.490510</td>\n",
       "      <td>-1.183191</td>\n",
       "      <td>-1.112378</td>\n",
       "      <td>-0.642560</td>\n",
       "      <td>-1.162426</td>\n",
       "    </tr>\n",
       "    <tr>\n",
       "      <th>...</th>\n",
       "      <td>...</td>\n",
       "      <td>...</td>\n",
       "      <td>...</td>\n",
       "      <td>...</td>\n",
       "      <td>...</td>\n",
       "      <td>...</td>\n",
       "      <td>...</td>\n",
       "      <td>...</td>\n",
       "      <td>...</td>\n",
       "      <td>...</td>\n",
       "      <td>...</td>\n",
       "      <td>...</td>\n",
       "      <td>...</td>\n",
       "    </tr>\n",
       "    <tr>\n",
       "      <th>465286</th>\n",
       "      <td>0.150929</td>\n",
       "      <td>-0.050406</td>\n",
       "      <td>-0.040123</td>\n",
       "      <td>-0.801764</td>\n",
       "      <td>-0.028439</td>\n",
       "      <td>-0.433648</td>\n",
       "      <td>-0.799334</td>\n",
       "      <td>-0.906465</td>\n",
       "      <td>-0.457336</td>\n",
       "      <td>-1.183530</td>\n",
       "      <td>-1.112601</td>\n",
       "      <td>-0.644261</td>\n",
       "      <td>-0.606394</td>\n",
       "    </tr>\n",
       "    <tr>\n",
       "      <th>465287</th>\n",
       "      <td>0.150929</td>\n",
       "      <td>0.003752</td>\n",
       "      <td>0.050826</td>\n",
       "      <td>1.247249</td>\n",
       "      <td>-0.028439</td>\n",
       "      <td>-0.387357</td>\n",
       "      <td>-0.721062</td>\n",
       "      <td>-1.314179</td>\n",
       "      <td>-0.484231</td>\n",
       "      <td>1.013313</td>\n",
       "      <td>0.841261</td>\n",
       "      <td>-0.643167</td>\n",
       "      <td>-1.007260</td>\n",
       "    </tr>\n",
       "    <tr>\n",
       "      <th>465288</th>\n",
       "      <td>0.150929</td>\n",
       "      <td>-0.044872</td>\n",
       "      <td>-0.048352</td>\n",
       "      <td>1.247249</td>\n",
       "      <td>-0.028439</td>\n",
       "      <td>-0.424435</td>\n",
       "      <td>-0.501361</td>\n",
       "      <td>-0.903500</td>\n",
       "      <td>0.044061</td>\n",
       "      <td>1.013313</td>\n",
       "      <td>0.841261</td>\n",
       "      <td>-0.643167</td>\n",
       "      <td>-1.007260</td>\n",
       "    </tr>\n",
       "    <tr>\n",
       "      <th>465289</th>\n",
       "      <td>0.150929</td>\n",
       "      <td>-0.011414</td>\n",
       "      <td>0.094103</td>\n",
       "      <td>-0.801764</td>\n",
       "      <td>-0.028439</td>\n",
       "      <td>-0.417918</td>\n",
       "      <td>-0.795061</td>\n",
       "      <td>-0.906465</td>\n",
       "      <td>0.024607</td>\n",
       "      <td>1.296789</td>\n",
       "      <td>1.501799</td>\n",
       "      <td>-0.643167</td>\n",
       "      <td>-1.007260</td>\n",
       "    </tr>\n",
       "    <tr>\n",
       "      <th>465290</th>\n",
       "      <td>0.150929</td>\n",
       "      <td>0.001217</td>\n",
       "      <td>0.075205</td>\n",
       "      <td>1.247249</td>\n",
       "      <td>-0.028439</td>\n",
       "      <td>-0.387357</td>\n",
       "      <td>-0.721062</td>\n",
       "      <td>-1.314179</td>\n",
       "      <td>-0.433541</td>\n",
       "      <td>-0.057203</td>\n",
       "      <td>-0.024369</td>\n",
       "      <td>-0.643167</td>\n",
       "      <td>-1.007260</td>\n",
       "    </tr>\n",
       "  </tbody>\n",
       "</table>\n",
       "<p>465291 rows × 13 columns</p>\n",
       "</div>"
      ],
      "text/plain": [
       "        full_time_position  prevailing_wage  wage_from  emp_h1b_dependent  \\\n",
       "0                 0.150929        -0.074190  -0.070880          -0.801764   \n",
       "1                 0.150929        -0.033551  -0.039336          -0.801764   \n",
       "2                 0.150929         0.004765   0.000314          -0.801764   \n",
       "3                 0.150929         0.111899   0.080725          -0.801764   \n",
       "4                 0.150929        -0.063927  -0.063703          -0.801764   \n",
       "...                    ...              ...        ...                ...   \n",
       "465286            0.150929        -0.050406  -0.040123          -0.801764   \n",
       "465287            0.150929         0.003752   0.050826           1.247249   \n",
       "465288            0.150929        -0.044872  -0.048352           1.247249   \n",
       "465289            0.150929        -0.011414   0.094103          -0.801764   \n",
       "465290            0.150929         0.001217   0.075205           1.247249   \n",
       "\n",
       "        emp_willful_violator  emp_name_freq  emp_city_freq  emp_state_freq  \\\n",
       "0                  -0.028439      -0.427356      -0.796520       -1.426312   \n",
       "1                  -0.028439      -0.426907      -0.793914       -0.917876   \n",
       "2                  -0.028439      -0.427581      -0.795999       -1.414931   \n",
       "3                  -0.028439      -0.426682      -0.789224       -1.437753   \n",
       "4                  -0.028439      -0.433648      -0.793080       -1.437753   \n",
       "...                      ...            ...            ...             ...   \n",
       "465286             -0.028439      -0.433648      -0.799334       -0.906465   \n",
       "465287             -0.028439      -0.387357      -0.721062       -1.314179   \n",
       "465288             -0.028439      -0.424435      -0.501361       -0.903500   \n",
       "465289             -0.028439      -0.417918      -0.795061       -0.906465   \n",
       "465290             -0.028439      -0.387357      -0.721062       -1.314179   \n",
       "\n",
       "        job_title_freq  soc_code_freq  soc_name_freq  work_city_freq  \\\n",
       "0            -0.478961      -1.197409      -1.127406       -0.642560   \n",
       "1            -0.489580      -1.014828      -0.934480       -0.642560   \n",
       "2            -0.490122      -1.136076      -1.062441       -0.642560   \n",
       "3            -0.478031      -1.192818      -1.122486       -0.642560   \n",
       "4            -0.490510      -1.183191      -1.112378       -0.642560   \n",
       "...                ...            ...            ...             ...   \n",
       "465286       -0.457336      -1.183530      -1.112601       -0.644261   \n",
       "465287       -0.484231       1.013313       0.841261       -0.643167   \n",
       "465288        0.044061       1.013313       0.841261       -0.643167   \n",
       "465289        0.024607       1.296789       1.501799       -0.643167   \n",
       "465290       -0.433541      -0.057203      -0.024369       -0.643167   \n",
       "\n",
       "        work_state_freq  \n",
       "0             -1.147051  \n",
       "1             -0.906115  \n",
       "2             -0.906115  \n",
       "3             -1.162426  \n",
       "4             -1.162426  \n",
       "...                 ...  \n",
       "465286        -0.606394  \n",
       "465287        -1.007260  \n",
       "465288        -1.007260  \n",
       "465289        -1.007260  \n",
       "465290        -1.007260  \n",
       "\n",
       "[465291 rows x 13 columns]"
      ]
     },
     "execution_count": 83,
     "metadata": {},
     "output_type": "execute_result"
    }
   ],
   "source": [
    "sc = StandardScaler()\n",
    "x_sc = pd.DataFrame(sc.fit_transform(x),columns=x.columns)\n",
    "x_sc"
   ]
  },
  {
   "cell_type": "code",
   "execution_count": 84,
   "id": "b2eafac9",
   "metadata": {},
   "outputs": [],
   "source": [
    "from sklearn.model_selection import train_test_split"
   ]
  },
  {
   "cell_type": "code",
   "execution_count": 85,
   "id": "aeb19fd3",
   "metadata": {},
   "outputs": [],
   "source": [
    "xtrain,xtest,ytrain,ytest = train_test_split(x_sc,y,test_size=0.3,random_state=100)"
   ]
  },
  {
   "cell_type": "markdown",
   "id": "fc2edf37",
   "metadata": {},
   "source": [
    "#### Building a predictive model to predict the 20% null values in pw_level"
   ]
  },
  {
   "cell_type": "code",
   "execution_count": 86,
   "id": "5997cc35",
   "metadata": {},
   "outputs": [],
   "source": [
    "from sklearn.tree import DecisionTreeClassifier"
   ]
  },
  {
   "cell_type": "code",
   "execution_count": 87,
   "id": "844ed1af",
   "metadata": {},
   "outputs": [],
   "source": [
    "dt = DecisionTreeClassifier()"
   ]
  },
  {
   "cell_type": "code",
   "execution_count": 88,
   "id": "fa40418c",
   "metadata": {},
   "outputs": [],
   "source": [
    "model_dt = dt.fit(xtrain,ytrain)\n",
    "ypred = model_dt.predict(xtest)"
   ]
  },
  {
   "cell_type": "code",
   "execution_count": 89,
   "id": "c9fff8af",
   "metadata": {},
   "outputs": [],
   "source": [
    "from sklearn.metrics import classification_report"
   ]
  },
  {
   "cell_type": "code",
   "execution_count": 90,
   "id": "8609aa83",
   "metadata": {},
   "outputs": [
    {
     "name": "stdout",
     "output_type": "stream",
     "text": [
      "              precision    recall  f1-score   support\n",
      "\n",
      "     Level I       0.95      0.95      0.95     61792\n",
      "    Level II       0.92      0.92      0.92     50351\n",
      "   Level III       0.87      0.87      0.87     17630\n",
      "    Level IV       0.86      0.86      0.86      9815\n",
      "\n",
      "    accuracy                           0.93    139588\n",
      "   macro avg       0.90      0.90      0.90    139588\n",
      "weighted avg       0.93      0.93      0.93    139588\n",
      "\n"
     ]
    }
   ],
   "source": [
    "result = classification_report(ytest,ypred)\n",
    "print(result)"
   ]
  },
  {
   "cell_type": "code",
   "execution_count": 91,
   "id": "6ee1123e",
   "metadata": {},
   "outputs": [],
   "source": [
    "x = df_null.drop(\"pw_level\",axis=1)"
   ]
  },
  {
   "cell_type": "code",
   "execution_count": 92,
   "id": "ab5b0b2b",
   "metadata": {},
   "outputs": [],
   "source": [
    "x_sc_n = pd.DataFrame(sc.fit_transform(x),columns=x.columns)"
   ]
  },
  {
   "cell_type": "code",
   "execution_count": 93,
   "id": "b90619d2",
   "metadata": {},
   "outputs": [
    {
     "data": {
      "text/html": [
       "<div>\n",
       "<style scoped>\n",
       "    .dataframe tbody tr th:only-of-type {\n",
       "        vertical-align: middle;\n",
       "    }\n",
       "\n",
       "    .dataframe tbody tr th {\n",
       "        vertical-align: top;\n",
       "    }\n",
       "\n",
       "    .dataframe thead th {\n",
       "        text-align: right;\n",
       "    }\n",
       "</style>\n",
       "<table border=\"1\" class=\"dataframe\">\n",
       "  <thead>\n",
       "    <tr style=\"text-align: right;\">\n",
       "      <th></th>\n",
       "      <th>full_time_position</th>\n",
       "      <th>prevailing_wage</th>\n",
       "      <th>pw_level</th>\n",
       "      <th>wage_from</th>\n",
       "      <th>emp_h1b_dependent</th>\n",
       "      <th>emp_willful_violator</th>\n",
       "      <th>emp_name_freq</th>\n",
       "      <th>emp_city_freq</th>\n",
       "      <th>emp_state_freq</th>\n",
       "      <th>job_title_freq</th>\n",
       "      <th>soc_code_freq</th>\n",
       "      <th>soc_name_freq</th>\n",
       "      <th>work_city_freq</th>\n",
       "      <th>work_state_freq</th>\n",
       "    </tr>\n",
       "  </thead>\n",
       "  <tbody>\n",
       "    <tr>\n",
       "      <th>0</th>\n",
       "      <td>1</td>\n",
       "      <td>187200.0</td>\n",
       "      <td>Level III</td>\n",
       "      <td>190000.0</td>\n",
       "      <td>0</td>\n",
       "      <td>0</td>\n",
       "      <td>2</td>\n",
       "      <td>24</td>\n",
       "      <td>1443</td>\n",
       "      <td>266</td>\n",
       "      <td>1678</td>\n",
       "      <td>1684</td>\n",
       "      <td>1</td>\n",
       "      <td>2760</td>\n",
       "    </tr>\n",
       "    <tr>\n",
       "      <th>4</th>\n",
       "      <td>1</td>\n",
       "      <td>169645.0</td>\n",
       "      <td>Level I</td>\n",
       "      <td>450000.0</td>\n",
       "      <td>0</td>\n",
       "      <td>0</td>\n",
       "      <td>32</td>\n",
       "      <td>99</td>\n",
       "      <td>216</td>\n",
       "      <td>27</td>\n",
       "      <td>5247</td>\n",
       "      <td>5246</td>\n",
       "      <td>16</td>\n",
       "      <td>292</td>\n",
       "    </tr>\n",
       "    <tr>\n",
       "      <th>6</th>\n",
       "      <td>1</td>\n",
       "      <td>187200.0</td>\n",
       "      <td>Level II</td>\n",
       "      <td>187200.0</td>\n",
       "      <td>0</td>\n",
       "      <td>0</td>\n",
       "      <td>32</td>\n",
       "      <td>99</td>\n",
       "      <td>216</td>\n",
       "      <td>198</td>\n",
       "      <td>462</td>\n",
       "      <td>466</td>\n",
       "      <td>16</td>\n",
       "      <td>292</td>\n",
       "    </tr>\n",
       "    <tr>\n",
       "      <th>10</th>\n",
       "      <td>1</td>\n",
       "      <td>187200.0</td>\n",
       "      <td>Level II</td>\n",
       "      <td>187200.0</td>\n",
       "      <td>0</td>\n",
       "      <td>0</td>\n",
       "      <td>32</td>\n",
       "      <td>99</td>\n",
       "      <td>216</td>\n",
       "      <td>198</td>\n",
       "      <td>462</td>\n",
       "      <td>466</td>\n",
       "      <td>16</td>\n",
       "      <td>292</td>\n",
       "    </tr>\n",
       "    <tr>\n",
       "      <th>11</th>\n",
       "      <td>1</td>\n",
       "      <td>187199.0</td>\n",
       "      <td>Level IV</td>\n",
       "      <td>187199.0</td>\n",
       "      <td>0</td>\n",
       "      <td>0</td>\n",
       "      <td>32</td>\n",
       "      <td>99</td>\n",
       "      <td>216</td>\n",
       "      <td>266</td>\n",
       "      <td>5247</td>\n",
       "      <td>5246</td>\n",
       "      <td>16</td>\n",
       "      <td>292</td>\n",
       "    </tr>\n",
       "    <tr>\n",
       "      <th>...</th>\n",
       "      <td>...</td>\n",
       "      <td>...</td>\n",
       "      <td>...</td>\n",
       "      <td>...</td>\n",
       "      <td>...</td>\n",
       "      <td>...</td>\n",
       "      <td>...</td>\n",
       "      <td>...</td>\n",
       "      <td>...</td>\n",
       "      <td>...</td>\n",
       "      <td>...</td>\n",
       "      <td>...</td>\n",
       "      <td>...</td>\n",
       "      <td>...</td>\n",
       "    </tr>\n",
       "    <tr>\n",
       "      <th>579389</th>\n",
       "      <td>1</td>\n",
       "      <td>95805.0</td>\n",
       "      <td>Level IV</td>\n",
       "      <td>96000.0</td>\n",
       "      <td>0</td>\n",
       "      <td>0</td>\n",
       "      <td>3</td>\n",
       "      <td>5</td>\n",
       "      <td>2692</td>\n",
       "      <td>151</td>\n",
       "      <td>118303</td>\n",
       "      <td>117979</td>\n",
       "      <td>11</td>\n",
       "      <td>5893</td>\n",
       "    </tr>\n",
       "    <tr>\n",
       "      <th>579392</th>\n",
       "      <td>1</td>\n",
       "      <td>58968.0</td>\n",
       "      <td>Level I</td>\n",
       "      <td>58968.0</td>\n",
       "      <td>0</td>\n",
       "      <td>0</td>\n",
       "      <td>6833</td>\n",
       "      <td>11460</td>\n",
       "      <td>24064</td>\n",
       "      <td>119</td>\n",
       "      <td>118303</td>\n",
       "      <td>117979</td>\n",
       "      <td>11</td>\n",
       "      <td>5893</td>\n",
       "    </tr>\n",
       "    <tr>\n",
       "      <th>579393</th>\n",
       "      <td>1</td>\n",
       "      <td>106475.0</td>\n",
       "      <td>Level IV</td>\n",
       "      <td>106475.0</td>\n",
       "      <td>1</td>\n",
       "      <td>0</td>\n",
       "      <td>2545</td>\n",
       "      <td>2936</td>\n",
       "      <td>83583</td>\n",
       "      <td>20</td>\n",
       "      <td>2228</td>\n",
       "      <td>2199</td>\n",
       "      <td>11</td>\n",
       "      <td>5893</td>\n",
       "    </tr>\n",
       "    <tr>\n",
       "      <th>579395</th>\n",
       "      <td>1</td>\n",
       "      <td>58968.0</td>\n",
       "      <td>Level I</td>\n",
       "      <td>58968.0</td>\n",
       "      <td>0</td>\n",
       "      <td>0</td>\n",
       "      <td>6833</td>\n",
       "      <td>11460</td>\n",
       "      <td>24064</td>\n",
       "      <td>119</td>\n",
       "      <td>118303</td>\n",
       "      <td>117979</td>\n",
       "      <td>11</td>\n",
       "      <td>5893</td>\n",
       "    </tr>\n",
       "    <tr>\n",
       "      <th>579396</th>\n",
       "      <td>1</td>\n",
       "      <td>93746.0</td>\n",
       "      <td>Level IV</td>\n",
       "      <td>95000.0</td>\n",
       "      <td>0</td>\n",
       "      <td>0</td>\n",
       "      <td>3</td>\n",
       "      <td>5</td>\n",
       "      <td>2692</td>\n",
       "      <td>2864</td>\n",
       "      <td>7274</td>\n",
       "      <td>7273</td>\n",
       "      <td>11</td>\n",
       "      <td>5893</td>\n",
       "    </tr>\n",
       "  </tbody>\n",
       "</table>\n",
       "<p>113364 rows × 14 columns</p>\n",
       "</div>"
      ],
      "text/plain": [
       "        full_time_position  prevailing_wage   pw_level  wage_from  \\\n",
       "0                        1         187200.0  Level III   190000.0   \n",
       "4                        1         169645.0    Level I   450000.0   \n",
       "6                        1         187200.0   Level II   187200.0   \n",
       "10                       1         187200.0   Level II   187200.0   \n",
       "11                       1         187199.0   Level IV   187199.0   \n",
       "...                    ...              ...        ...        ...   \n",
       "579389                   1          95805.0   Level IV    96000.0   \n",
       "579392                   1          58968.0    Level I    58968.0   \n",
       "579393                   1         106475.0   Level IV   106475.0   \n",
       "579395                   1          58968.0    Level I    58968.0   \n",
       "579396                   1          93746.0   Level IV    95000.0   \n",
       "\n",
       "        emp_h1b_dependent  emp_willful_violator  emp_name_freq  emp_city_freq  \\\n",
       "0                       0                     0              2             24   \n",
       "4                       0                     0             32             99   \n",
       "6                       0                     0             32             99   \n",
       "10                      0                     0             32             99   \n",
       "11                      0                     0             32             99   \n",
       "...                   ...                   ...            ...            ...   \n",
       "579389                  0                     0              3              5   \n",
       "579392                  0                     0           6833          11460   \n",
       "579393                  1                     0           2545           2936   \n",
       "579395                  0                     0           6833          11460   \n",
       "579396                  0                     0              3              5   \n",
       "\n",
       "        emp_state_freq  job_title_freq  soc_code_freq  soc_name_freq  \\\n",
       "0                 1443             266           1678           1684   \n",
       "4                  216              27           5247           5246   \n",
       "6                  216             198            462            466   \n",
       "10                 216             198            462            466   \n",
       "11                 216             266           5247           5246   \n",
       "...                ...             ...            ...            ...   \n",
       "579389            2692             151         118303         117979   \n",
       "579392           24064             119         118303         117979   \n",
       "579393           83583              20           2228           2199   \n",
       "579395           24064             119         118303         117979   \n",
       "579396            2692            2864           7274           7273   \n",
       "\n",
       "        work_city_freq  work_state_freq  \n",
       "0                    1             2760  \n",
       "4                   16              292  \n",
       "6                   16              292  \n",
       "10                  16              292  \n",
       "11                  16              292  \n",
       "...                ...              ...  \n",
       "579389              11             5893  \n",
       "579392              11             5893  \n",
       "579393              11             5893  \n",
       "579395              11             5893  \n",
       "579396              11             5893  \n",
       "\n",
       "[113364 rows x 14 columns]"
      ]
     },
     "execution_count": 93,
     "metadata": {},
     "output_type": "execute_result"
    }
   ],
   "source": [
    "df_null[\"pw_level\"] = model_dt.predict(x_sc_n)\n",
    "df_null"
   ]
  },
  {
   "cell_type": "code",
   "execution_count": 94,
   "id": "32f6eaae",
   "metadata": {},
   "outputs": [
    {
     "data": {
      "text/html": [
       "<div>\n",
       "<style scoped>\n",
       "    .dataframe tbody tr th:only-of-type {\n",
       "        vertical-align: middle;\n",
       "    }\n",
       "\n",
       "    .dataframe tbody tr th {\n",
       "        vertical-align: top;\n",
       "    }\n",
       "\n",
       "    .dataframe thead th {\n",
       "        text-align: right;\n",
       "    }\n",
       "</style>\n",
       "<table border=\"1\" class=\"dataframe\">\n",
       "  <thead>\n",
       "    <tr style=\"text-align: right;\">\n",
       "      <th></th>\n",
       "      <th>full_time_position</th>\n",
       "      <th>prevailing_wage</th>\n",
       "      <th>pw_level</th>\n",
       "      <th>wage_from</th>\n",
       "      <th>emp_h1b_dependent</th>\n",
       "      <th>emp_willful_violator</th>\n",
       "      <th>emp_name_freq</th>\n",
       "      <th>emp_city_freq</th>\n",
       "      <th>emp_state_freq</th>\n",
       "      <th>job_title_freq</th>\n",
       "      <th>soc_code_freq</th>\n",
       "      <th>soc_name_freq</th>\n",
       "      <th>work_city_freq</th>\n",
       "      <th>work_state_freq</th>\n",
       "    </tr>\n",
       "  </thead>\n",
       "  <tbody>\n",
       "    <tr>\n",
       "      <th>1</th>\n",
       "      <td>1</td>\n",
       "      <td>39957.0</td>\n",
       "      <td>Level I</td>\n",
       "      <td>47507.00</td>\n",
       "      <td>0</td>\n",
       "      <td>0</td>\n",
       "      <td>29</td>\n",
       "      <td>29</td>\n",
       "      <td>598</td>\n",
       "      <td>150</td>\n",
       "      <td>410</td>\n",
       "      <td>410</td>\n",
       "      <td>16</td>\n",
       "      <td>847</td>\n",
       "    </tr>\n",
       "    <tr>\n",
       "      <th>2</th>\n",
       "      <td>1</td>\n",
       "      <td>59966.0</td>\n",
       "      <td>Level I</td>\n",
       "      <td>65000.00</td>\n",
       "      <td>0</td>\n",
       "      <td>0</td>\n",
       "      <td>31</td>\n",
       "      <td>54</td>\n",
       "      <td>17574</td>\n",
       "      <td>13</td>\n",
       "      <td>9040</td>\n",
       "      <td>9037</td>\n",
       "      <td>16</td>\n",
       "      <td>9544</td>\n",
       "    </tr>\n",
       "    <tr>\n",
       "      <th>3</th>\n",
       "      <td>1</td>\n",
       "      <td>78832.0</td>\n",
       "      <td>Level II</td>\n",
       "      <td>86988.15</td>\n",
       "      <td>0</td>\n",
       "      <td>0</td>\n",
       "      <td>28</td>\n",
       "      <td>34</td>\n",
       "      <td>978</td>\n",
       "      <td>6</td>\n",
       "      <td>3309</td>\n",
       "      <td>3315</td>\n",
       "      <td>16</td>\n",
       "      <td>9544</td>\n",
       "    </tr>\n",
       "    <tr>\n",
       "      <th>5</th>\n",
       "      <td>1</td>\n",
       "      <td>131581.0</td>\n",
       "      <td>Level I</td>\n",
       "      <td>131581.00</td>\n",
       "      <td>0</td>\n",
       "      <td>0</td>\n",
       "      <td>32</td>\n",
       "      <td>99</td>\n",
       "      <td>216</td>\n",
       "      <td>162</td>\n",
       "      <td>627</td>\n",
       "      <td>630</td>\n",
       "      <td>16</td>\n",
       "      <td>292</td>\n",
       "    </tr>\n",
       "    <tr>\n",
       "      <th>7</th>\n",
       "      <td>1</td>\n",
       "      <td>45010.0</td>\n",
       "      <td>Level I</td>\n",
       "      <td>51487.00</td>\n",
       "      <td>0</td>\n",
       "      <td>0</td>\n",
       "      <td>1</td>\n",
       "      <td>62</td>\n",
       "      <td>216</td>\n",
       "      <td>1</td>\n",
       "      <td>1082</td>\n",
       "      <td>1082</td>\n",
       "      <td>16</td>\n",
       "      <td>292</td>\n",
       "    </tr>\n",
       "    <tr>\n",
       "      <th>...</th>\n",
       "      <td>...</td>\n",
       "      <td>...</td>\n",
       "      <td>...</td>\n",
       "      <td>...</td>\n",
       "      <td>...</td>\n",
       "      <td>...</td>\n",
       "      <td>...</td>\n",
       "      <td>...</td>\n",
       "      <td>...</td>\n",
       "      <td>...</td>\n",
       "      <td>...</td>\n",
       "      <td>...</td>\n",
       "      <td>...</td>\n",
       "      <td>...</td>\n",
       "    </tr>\n",
       "    <tr>\n",
       "      <th>579385</th>\n",
       "      <td>1</td>\n",
       "      <td>51667.2</td>\n",
       "      <td>Level I</td>\n",
       "      <td>64563.20</td>\n",
       "      <td>0</td>\n",
       "      <td>0</td>\n",
       "      <td>1</td>\n",
       "      <td>2</td>\n",
       "      <td>17955</td>\n",
       "      <td>429</td>\n",
       "      <td>1066</td>\n",
       "      <td>1072</td>\n",
       "      <td>2</td>\n",
       "      <td>20363</td>\n",
       "    </tr>\n",
       "    <tr>\n",
       "      <th>579386</th>\n",
       "      <td>1</td>\n",
       "      <td>78333.0</td>\n",
       "      <td>Level III</td>\n",
       "      <td>115000.00</td>\n",
       "      <td>1</td>\n",
       "      <td>0</td>\n",
       "      <td>207</td>\n",
       "      <td>753</td>\n",
       "      <td>4342</td>\n",
       "      <td>82</td>\n",
       "      <td>104904</td>\n",
       "      <td>88442</td>\n",
       "      <td>11</td>\n",
       "      <td>5893</td>\n",
       "    </tr>\n",
       "    <tr>\n",
       "      <th>579390</th>\n",
       "      <td>1</td>\n",
       "      <td>54392.0</td>\n",
       "      <td>Level I</td>\n",
       "      <td>60000.00</td>\n",
       "      <td>1</td>\n",
       "      <td>0</td>\n",
       "      <td>42</td>\n",
       "      <td>2861</td>\n",
       "      <td>18054</td>\n",
       "      <td>6898</td>\n",
       "      <td>104904</td>\n",
       "      <td>88442</td>\n",
       "      <td>11</td>\n",
       "      <td>5893</td>\n",
       "    </tr>\n",
       "    <tr>\n",
       "      <th>579391</th>\n",
       "      <td>1</td>\n",
       "      <td>70866.0</td>\n",
       "      <td>Level II</td>\n",
       "      <td>139000.00</td>\n",
       "      <td>0</td>\n",
       "      <td>0</td>\n",
       "      <td>71</td>\n",
       "      <td>43</td>\n",
       "      <td>17955</td>\n",
       "      <td>6647</td>\n",
       "      <td>118303</td>\n",
       "      <td>117979</td>\n",
       "      <td>11</td>\n",
       "      <td>5893</td>\n",
       "    </tr>\n",
       "    <tr>\n",
       "      <th>579394</th>\n",
       "      <td>1</td>\n",
       "      <td>77085.0</td>\n",
       "      <td>Level III</td>\n",
       "      <td>128520.00</td>\n",
       "      <td>1</td>\n",
       "      <td>0</td>\n",
       "      <td>207</td>\n",
       "      <td>753</td>\n",
       "      <td>4342</td>\n",
       "      <td>736</td>\n",
       "      <td>54304</td>\n",
       "      <td>49734</td>\n",
       "      <td>11</td>\n",
       "      <td>5893</td>\n",
       "    </tr>\n",
       "  </tbody>\n",
       "</table>\n",
       "<p>465291 rows × 14 columns</p>\n",
       "</div>"
      ],
      "text/plain": [
       "        full_time_position  prevailing_wage   pw_level  wage_from  \\\n",
       "1                        1          39957.0    Level I   47507.00   \n",
       "2                        1          59966.0    Level I   65000.00   \n",
       "3                        1          78832.0   Level II   86988.15   \n",
       "5                        1         131581.0    Level I  131581.00   \n",
       "7                        1          45010.0    Level I   51487.00   \n",
       "...                    ...              ...        ...        ...   \n",
       "579385                   1          51667.2    Level I   64563.20   \n",
       "579386                   1          78333.0  Level III  115000.00   \n",
       "579390                   1          54392.0    Level I   60000.00   \n",
       "579391                   1          70866.0   Level II  139000.00   \n",
       "579394                   1          77085.0  Level III  128520.00   \n",
       "\n",
       "        emp_h1b_dependent  emp_willful_violator  emp_name_freq  emp_city_freq  \\\n",
       "1                       0                     0             29             29   \n",
       "2                       0                     0             31             54   \n",
       "3                       0                     0             28             34   \n",
       "5                       0                     0             32             99   \n",
       "7                       0                     0              1             62   \n",
       "...                   ...                   ...            ...            ...   \n",
       "579385                  0                     0              1              2   \n",
       "579386                  1                     0            207            753   \n",
       "579390                  1                     0             42           2861   \n",
       "579391                  0                     0             71             43   \n",
       "579394                  1                     0            207            753   \n",
       "\n",
       "        emp_state_freq  job_title_freq  soc_code_freq  soc_name_freq  \\\n",
       "1                  598             150            410            410   \n",
       "2                17574              13           9040           9037   \n",
       "3                  978               6           3309           3315   \n",
       "5                  216             162            627            630   \n",
       "7                  216               1           1082           1082   \n",
       "...                ...             ...            ...            ...   \n",
       "579385           17955             429           1066           1072   \n",
       "579386            4342              82         104904          88442   \n",
       "579390           18054            6898         104904          88442   \n",
       "579391           17955            6647         118303         117979   \n",
       "579394            4342             736          54304          49734   \n",
       "\n",
       "        work_city_freq  work_state_freq  \n",
       "1                   16              847  \n",
       "2                   16             9544  \n",
       "3                   16             9544  \n",
       "5                   16              292  \n",
       "7                   16              292  \n",
       "...                ...              ...  \n",
       "579385               2            20363  \n",
       "579386              11             5893  \n",
       "579390              11             5893  \n",
       "579391              11             5893  \n",
       "579394              11             5893  \n",
       "\n",
       "[465291 rows x 14 columns]"
      ]
     },
     "execution_count": 94,
     "metadata": {},
     "output_type": "execute_result"
    }
   ],
   "source": [
    "df_non_null"
   ]
  },
  {
   "cell_type": "code",
   "execution_count": 95,
   "id": "8d458f15",
   "metadata": {},
   "outputs": [],
   "source": [
    "# Concatenate the dataframes\n",
    "df_new = pd.concat([df_null, df_non_null])\n",
    "df_new = df_new.sort_index()"
   ]
  },
  {
   "cell_type": "code",
   "execution_count": 96,
   "id": "f6469475",
   "metadata": {},
   "outputs": [
    {
     "data": {
      "text/html": [
       "<div>\n",
       "<style scoped>\n",
       "    .dataframe tbody tr th:only-of-type {\n",
       "        vertical-align: middle;\n",
       "    }\n",
       "\n",
       "    .dataframe tbody tr th {\n",
       "        vertical-align: top;\n",
       "    }\n",
       "\n",
       "    .dataframe thead th {\n",
       "        text-align: right;\n",
       "    }\n",
       "</style>\n",
       "<table border=\"1\" class=\"dataframe\">\n",
       "  <thead>\n",
       "    <tr style=\"text-align: right;\">\n",
       "      <th></th>\n",
       "      <th>full_time_position</th>\n",
       "      <th>prevailing_wage</th>\n",
       "      <th>pw_level</th>\n",
       "      <th>wage_from</th>\n",
       "      <th>emp_h1b_dependent</th>\n",
       "      <th>emp_willful_violator</th>\n",
       "      <th>emp_name_freq</th>\n",
       "      <th>emp_city_freq</th>\n",
       "      <th>emp_state_freq</th>\n",
       "      <th>job_title_freq</th>\n",
       "      <th>soc_code_freq</th>\n",
       "      <th>soc_name_freq</th>\n",
       "      <th>work_city_freq</th>\n",
       "      <th>work_state_freq</th>\n",
       "    </tr>\n",
       "  </thead>\n",
       "  <tbody>\n",
       "    <tr>\n",
       "      <th>0</th>\n",
       "      <td>1</td>\n",
       "      <td>187200.0</td>\n",
       "      <td>Level III</td>\n",
       "      <td>190000.00</td>\n",
       "      <td>0</td>\n",
       "      <td>0</td>\n",
       "      <td>2</td>\n",
       "      <td>24</td>\n",
       "      <td>1443</td>\n",
       "      <td>266</td>\n",
       "      <td>1678</td>\n",
       "      <td>1684</td>\n",
       "      <td>1</td>\n",
       "      <td>2760</td>\n",
       "    </tr>\n",
       "    <tr>\n",
       "      <th>1</th>\n",
       "      <td>1</td>\n",
       "      <td>39957.0</td>\n",
       "      <td>Level I</td>\n",
       "      <td>47507.00</td>\n",
       "      <td>0</td>\n",
       "      <td>0</td>\n",
       "      <td>29</td>\n",
       "      <td>29</td>\n",
       "      <td>598</td>\n",
       "      <td>150</td>\n",
       "      <td>410</td>\n",
       "      <td>410</td>\n",
       "      <td>16</td>\n",
       "      <td>847</td>\n",
       "    </tr>\n",
       "    <tr>\n",
       "      <th>2</th>\n",
       "      <td>1</td>\n",
       "      <td>59966.0</td>\n",
       "      <td>Level I</td>\n",
       "      <td>65000.00</td>\n",
       "      <td>0</td>\n",
       "      <td>0</td>\n",
       "      <td>31</td>\n",
       "      <td>54</td>\n",
       "      <td>17574</td>\n",
       "      <td>13</td>\n",
       "      <td>9040</td>\n",
       "      <td>9037</td>\n",
       "      <td>16</td>\n",
       "      <td>9544</td>\n",
       "    </tr>\n",
       "    <tr>\n",
       "      <th>3</th>\n",
       "      <td>1</td>\n",
       "      <td>78832.0</td>\n",
       "      <td>Level II</td>\n",
       "      <td>86988.15</td>\n",
       "      <td>0</td>\n",
       "      <td>0</td>\n",
       "      <td>28</td>\n",
       "      <td>34</td>\n",
       "      <td>978</td>\n",
       "      <td>6</td>\n",
       "      <td>3309</td>\n",
       "      <td>3315</td>\n",
       "      <td>16</td>\n",
       "      <td>9544</td>\n",
       "    </tr>\n",
       "    <tr>\n",
       "      <th>4</th>\n",
       "      <td>1</td>\n",
       "      <td>169645.0</td>\n",
       "      <td>Level I</td>\n",
       "      <td>450000.00</td>\n",
       "      <td>0</td>\n",
       "      <td>0</td>\n",
       "      <td>32</td>\n",
       "      <td>99</td>\n",
       "      <td>216</td>\n",
       "      <td>27</td>\n",
       "      <td>5247</td>\n",
       "      <td>5246</td>\n",
       "      <td>16</td>\n",
       "      <td>292</td>\n",
       "    </tr>\n",
       "    <tr>\n",
       "      <th>...</th>\n",
       "      <td>...</td>\n",
       "      <td>...</td>\n",
       "      <td>...</td>\n",
       "      <td>...</td>\n",
       "      <td>...</td>\n",
       "      <td>...</td>\n",
       "      <td>...</td>\n",
       "      <td>...</td>\n",
       "      <td>...</td>\n",
       "      <td>...</td>\n",
       "      <td>...</td>\n",
       "      <td>...</td>\n",
       "      <td>...</td>\n",
       "      <td>...</td>\n",
       "    </tr>\n",
       "    <tr>\n",
       "      <th>579392</th>\n",
       "      <td>1</td>\n",
       "      <td>58968.0</td>\n",
       "      <td>Level I</td>\n",
       "      <td>58968.00</td>\n",
       "      <td>0</td>\n",
       "      <td>0</td>\n",
       "      <td>6833</td>\n",
       "      <td>11460</td>\n",
       "      <td>24064</td>\n",
       "      <td>119</td>\n",
       "      <td>118303</td>\n",
       "      <td>117979</td>\n",
       "      <td>11</td>\n",
       "      <td>5893</td>\n",
       "    </tr>\n",
       "    <tr>\n",
       "      <th>579393</th>\n",
       "      <td>1</td>\n",
       "      <td>106475.0</td>\n",
       "      <td>Level IV</td>\n",
       "      <td>106475.00</td>\n",
       "      <td>1</td>\n",
       "      <td>0</td>\n",
       "      <td>2545</td>\n",
       "      <td>2936</td>\n",
       "      <td>83583</td>\n",
       "      <td>20</td>\n",
       "      <td>2228</td>\n",
       "      <td>2199</td>\n",
       "      <td>11</td>\n",
       "      <td>5893</td>\n",
       "    </tr>\n",
       "    <tr>\n",
       "      <th>579394</th>\n",
       "      <td>1</td>\n",
       "      <td>77085.0</td>\n",
       "      <td>Level III</td>\n",
       "      <td>128520.00</td>\n",
       "      <td>1</td>\n",
       "      <td>0</td>\n",
       "      <td>207</td>\n",
       "      <td>753</td>\n",
       "      <td>4342</td>\n",
       "      <td>736</td>\n",
       "      <td>54304</td>\n",
       "      <td>49734</td>\n",
       "      <td>11</td>\n",
       "      <td>5893</td>\n",
       "    </tr>\n",
       "    <tr>\n",
       "      <th>579395</th>\n",
       "      <td>1</td>\n",
       "      <td>58968.0</td>\n",
       "      <td>Level I</td>\n",
       "      <td>58968.00</td>\n",
       "      <td>0</td>\n",
       "      <td>0</td>\n",
       "      <td>6833</td>\n",
       "      <td>11460</td>\n",
       "      <td>24064</td>\n",
       "      <td>119</td>\n",
       "      <td>118303</td>\n",
       "      <td>117979</td>\n",
       "      <td>11</td>\n",
       "      <td>5893</td>\n",
       "    </tr>\n",
       "    <tr>\n",
       "      <th>579396</th>\n",
       "      <td>1</td>\n",
       "      <td>93746.0</td>\n",
       "      <td>Level IV</td>\n",
       "      <td>95000.00</td>\n",
       "      <td>0</td>\n",
       "      <td>0</td>\n",
       "      <td>3</td>\n",
       "      <td>5</td>\n",
       "      <td>2692</td>\n",
       "      <td>2864</td>\n",
       "      <td>7274</td>\n",
       "      <td>7273</td>\n",
       "      <td>11</td>\n",
       "      <td>5893</td>\n",
       "    </tr>\n",
       "  </tbody>\n",
       "</table>\n",
       "<p>578655 rows × 14 columns</p>\n",
       "</div>"
      ],
      "text/plain": [
       "        full_time_position  prevailing_wage   pw_level  wage_from  \\\n",
       "0                        1         187200.0  Level III  190000.00   \n",
       "1                        1          39957.0    Level I   47507.00   \n",
       "2                        1          59966.0    Level I   65000.00   \n",
       "3                        1          78832.0   Level II   86988.15   \n",
       "4                        1         169645.0    Level I  450000.00   \n",
       "...                    ...              ...        ...        ...   \n",
       "579392                   1          58968.0    Level I   58968.00   \n",
       "579393                   1         106475.0   Level IV  106475.00   \n",
       "579394                   1          77085.0  Level III  128520.00   \n",
       "579395                   1          58968.0    Level I   58968.00   \n",
       "579396                   1          93746.0   Level IV   95000.00   \n",
       "\n",
       "        emp_h1b_dependent  emp_willful_violator  emp_name_freq  emp_city_freq  \\\n",
       "0                       0                     0              2             24   \n",
       "1                       0                     0             29             29   \n",
       "2                       0                     0             31             54   \n",
       "3                       0                     0             28             34   \n",
       "4                       0                     0             32             99   \n",
       "...                   ...                   ...            ...            ...   \n",
       "579392                  0                     0           6833          11460   \n",
       "579393                  1                     0           2545           2936   \n",
       "579394                  1                     0            207            753   \n",
       "579395                  0                     0           6833          11460   \n",
       "579396                  0                     0              3              5   \n",
       "\n",
       "        emp_state_freq  job_title_freq  soc_code_freq  soc_name_freq  \\\n",
       "0                 1443             266           1678           1684   \n",
       "1                  598             150            410            410   \n",
       "2                17574              13           9040           9037   \n",
       "3                  978               6           3309           3315   \n",
       "4                  216              27           5247           5246   \n",
       "...                ...             ...            ...            ...   \n",
       "579392           24064             119         118303         117979   \n",
       "579393           83583              20           2228           2199   \n",
       "579394            4342             736          54304          49734   \n",
       "579395           24064             119         118303         117979   \n",
       "579396            2692            2864           7274           7273   \n",
       "\n",
       "        work_city_freq  work_state_freq  \n",
       "0                    1             2760  \n",
       "1                   16              847  \n",
       "2                   16             9544  \n",
       "3                   16             9544  \n",
       "4                   16              292  \n",
       "...                ...              ...  \n",
       "579392              11             5893  \n",
       "579393              11             5893  \n",
       "579394              11             5893  \n",
       "579395              11             5893  \n",
       "579396              11             5893  \n",
       "\n",
       "[578655 rows x 14 columns]"
      ]
     },
     "execution_count": 96,
     "metadata": {},
     "output_type": "execute_result"
    }
   ],
   "source": [
    "df_new"
   ]
  },
  {
   "cell_type": "markdown",
   "id": "ca6589f4",
   "metadata": {},
   "source": [
    "#### Updated the predicted pw_level to the original dataframe df1 for EDA purpose"
   ]
  },
  {
   "cell_type": "code",
   "execution_count": 97,
   "id": "bd55e8f7",
   "metadata": {},
   "outputs": [],
   "source": [
    "df_eda[\"pw_level\"] = df_new[\"pw_level\"]"
   ]
  },
  {
   "cell_type": "code",
   "execution_count": 98,
   "id": "d5ed0bbd",
   "metadata": {},
   "outputs": [],
   "source": [
    "df_eda.drop([\"emp_name_freq\",\"emp_city_freq\",\"emp_state_freq\",\"job_title_freq\",\"soc_code_freq\",\"soc_name_freq\",\"work_city_freq\",\"work_state_freq\"],axis=1,inplace=True)"
   ]
  },
  {
   "cell_type": "code",
   "execution_count": 99,
   "id": "c72f87ea",
   "metadata": {},
   "outputs": [
    {
     "data": {
      "text/plain": [
       "Index(['case_status', 'emp_name', 'emp_city', 'emp_state', 'job_title',\n",
       "       'soc_code', 'soc_name', 'full_time_position', 'prevailing_wage',\n",
       "       'pw_level', 'wage_from', 'work_city', 'work_state', 'emp_h1b_dependent',\n",
       "       'emp_willful_violator'],\n",
       "      dtype='object')"
      ]
     },
     "execution_count": 99,
     "metadata": {},
     "output_type": "execute_result"
    }
   ],
   "source": [
    "df_eda.columns"
   ]
  },
  {
   "cell_type": "markdown",
   "id": "e6460389",
   "metadata": {},
   "source": [
    "## Exploratory Data Analysis"
   ]
  },
  {
   "cell_type": "code",
   "execution_count": 100,
   "id": "e1569611",
   "metadata": {},
   "outputs": [],
   "source": [
    "df_eda = df_eda.astype({'full_time_position': 'object', 'emp_h1b_dependent': 'object',\"emp_willful_violator\":\"object\"})"
   ]
  },
  {
   "cell_type": "code",
   "execution_count": 101,
   "id": "c0f81d27",
   "metadata": {},
   "outputs": [
    {
     "data": {
      "text/html": [
       "<div>\n",
       "<style scoped>\n",
       "    .dataframe tbody tr th:only-of-type {\n",
       "        vertical-align: middle;\n",
       "    }\n",
       "\n",
       "    .dataframe tbody tr th {\n",
       "        vertical-align: top;\n",
       "    }\n",
       "\n",
       "    .dataframe thead th {\n",
       "        text-align: right;\n",
       "    }\n",
       "</style>\n",
       "<table border=\"1\" class=\"dataframe\">\n",
       "  <thead>\n",
       "    <tr style=\"text-align: right;\">\n",
       "      <th></th>\n",
       "      <th>prevailing_wage</th>\n",
       "      <th>wage_from</th>\n",
       "    </tr>\n",
       "  </thead>\n",
       "  <tbody>\n",
       "    <tr>\n",
       "      <th>0</th>\n",
       "      <td>187200.0</td>\n",
       "      <td>190000.00</td>\n",
       "    </tr>\n",
       "    <tr>\n",
       "      <th>1</th>\n",
       "      <td>39957.0</td>\n",
       "      <td>47507.00</td>\n",
       "    </tr>\n",
       "    <tr>\n",
       "      <th>2</th>\n",
       "      <td>59966.0</td>\n",
       "      <td>65000.00</td>\n",
       "    </tr>\n",
       "    <tr>\n",
       "      <th>3</th>\n",
       "      <td>78832.0</td>\n",
       "      <td>86988.15</td>\n",
       "    </tr>\n",
       "    <tr>\n",
       "      <th>4</th>\n",
       "      <td>169645.0</td>\n",
       "      <td>450000.00</td>\n",
       "    </tr>\n",
       "  </tbody>\n",
       "</table>\n",
       "</div>"
      ],
      "text/plain": [
       "   prevailing_wage  wage_from\n",
       "0         187200.0  190000.00\n",
       "1          39957.0   47507.00\n",
       "2          59966.0   65000.00\n",
       "3          78832.0   86988.15\n",
       "4         169645.0  450000.00"
      ]
     },
     "execution_count": 101,
     "metadata": {},
     "output_type": "execute_result"
    }
   ],
   "source": [
    "df_num = df_eda.select_dtypes(include=\"number\")\n",
    "df_num.head()"
   ]
  },
  {
   "cell_type": "code",
   "execution_count": 102,
   "id": "01dc014d",
   "metadata": {},
   "outputs": [
    {
     "data": {
      "text/html": [
       "<div>\n",
       "<style scoped>\n",
       "    .dataframe tbody tr th:only-of-type {\n",
       "        vertical-align: middle;\n",
       "    }\n",
       "\n",
       "    .dataframe tbody tr th {\n",
       "        vertical-align: top;\n",
       "    }\n",
       "\n",
       "    .dataframe thead th {\n",
       "        text-align: right;\n",
       "    }\n",
       "</style>\n",
       "<table border=\"1\" class=\"dataframe\">\n",
       "  <thead>\n",
       "    <tr style=\"text-align: right;\">\n",
       "      <th></th>\n",
       "      <th>prevailing_wage</th>\n",
       "      <th>wage_from</th>\n",
       "    </tr>\n",
       "  </thead>\n",
       "  <tbody>\n",
       "    <tr>\n",
       "      <th>count</th>\n",
       "      <td>5.786550e+05</td>\n",
       "      <td>5.786550e+05</td>\n",
       "    </tr>\n",
       "    <tr>\n",
       "      <th>mean</th>\n",
       "      <td>7.876254e+04</td>\n",
       "      <td>8.918352e+04</td>\n",
       "    </tr>\n",
       "    <tr>\n",
       "      <th>std</th>\n",
       "      <td>5.033532e+05</td>\n",
       "      <td>5.551086e+05</td>\n",
       "    </tr>\n",
       "    <tr>\n",
       "      <th>min</th>\n",
       "      <td>1.508000e+04</td>\n",
       "      <td>1.500000e+04</td>\n",
       "    </tr>\n",
       "    <tr>\n",
       "      <th>25%</th>\n",
       "      <td>5.963400e+04</td>\n",
       "      <td>6.500000e+04</td>\n",
       "    </tr>\n",
       "    <tr>\n",
       "      <th>50%</th>\n",
       "      <td>7.178100e+04</td>\n",
       "      <td>7.791700e+04</td>\n",
       "    </tr>\n",
       "    <tr>\n",
       "      <th>75%</th>\n",
       "      <td>9.023670e+04</td>\n",
       "      <td>1.000000e+05</td>\n",
       "    </tr>\n",
       "    <tr>\n",
       "      <th>max</th>\n",
       "      <td>2.016227e+08</td>\n",
       "      <td>2.496000e+08</td>\n",
       "    </tr>\n",
       "  </tbody>\n",
       "</table>\n",
       "</div>"
      ],
      "text/plain": [
       "       prevailing_wage     wage_from\n",
       "count     5.786550e+05  5.786550e+05\n",
       "mean      7.876254e+04  8.918352e+04\n",
       "std       5.033532e+05  5.551086e+05\n",
       "min       1.508000e+04  1.500000e+04\n",
       "25%       5.963400e+04  6.500000e+04\n",
       "50%       7.178100e+04  7.791700e+04\n",
       "75%       9.023670e+04  1.000000e+05\n",
       "max       2.016227e+08  2.496000e+08"
      ]
     },
     "execution_count": 102,
     "metadata": {},
     "output_type": "execute_result"
    }
   ],
   "source": [
    "df_num.describe()"
   ]
  },
  {
   "cell_type": "code",
   "execution_count": 103,
   "id": "f8ebab24",
   "metadata": {},
   "outputs": [
    {
     "data": {
      "text/html": [
       "<div>\n",
       "<style scoped>\n",
       "    .dataframe tbody tr th:only-of-type {\n",
       "        vertical-align: middle;\n",
       "    }\n",
       "\n",
       "    .dataframe tbody tr th {\n",
       "        vertical-align: top;\n",
       "    }\n",
       "\n",
       "    .dataframe thead th {\n",
       "        text-align: right;\n",
       "    }\n",
       "</style>\n",
       "<table border=\"1\" class=\"dataframe\">\n",
       "  <thead>\n",
       "    <tr style=\"text-align: right;\">\n",
       "      <th></th>\n",
       "      <th>case_status</th>\n",
       "      <th>emp_name</th>\n",
       "      <th>emp_city</th>\n",
       "      <th>emp_state</th>\n",
       "      <th>job_title</th>\n",
       "      <th>soc_code</th>\n",
       "      <th>soc_name</th>\n",
       "      <th>full_time_position</th>\n",
       "      <th>pw_level</th>\n",
       "      <th>work_city</th>\n",
       "      <th>work_state</th>\n",
       "      <th>emp_h1b_dependent</th>\n",
       "      <th>emp_willful_violator</th>\n",
       "    </tr>\n",
       "  </thead>\n",
       "  <tbody>\n",
       "    <tr>\n",
       "      <th>0</th>\n",
       "      <td>C</td>\n",
       "      <td>LAKELANDS NEPHROLOGY, PA</td>\n",
       "      <td>GREENWOOD</td>\n",
       "      <td>SC</td>\n",
       "      <td>NEPHROLOGIST</td>\n",
       "      <td>29-1063</td>\n",
       "      <td>INTERNISTS, GENERAL</td>\n",
       "      <td>1</td>\n",
       "      <td>Level III</td>\n",
       "      <td>ABBEVILLE</td>\n",
       "      <td>SC</td>\n",
       "      <td>0</td>\n",
       "      <td>0</td>\n",
       "    </tr>\n",
       "    <tr>\n",
       "      <th>1</th>\n",
       "      <td>C</td>\n",
       "      <td>UNIVERSITY OF IDAHO</td>\n",
       "      <td>MOSCOW</td>\n",
       "      <td>ID</td>\n",
       "      <td>POST DOCTORAL FELLOW</td>\n",
       "      <td>19-1013</td>\n",
       "      <td>SOIL AND PLANT SCIENTISTS</td>\n",
       "      <td>1</td>\n",
       "      <td>Level I</td>\n",
       "      <td>ABERDEEN</td>\n",
       "      <td>ID</td>\n",
       "      <td>0</td>\n",
       "      <td>0</td>\n",
       "    </tr>\n",
       "    <tr>\n",
       "      <th>2</th>\n",
       "      <td>C</td>\n",
       "      <td>XPO SUPPLY CHAIN, INC.</td>\n",
       "      <td>HIGH POINT</td>\n",
       "      <td>NC</td>\n",
       "      <td>OPERATION ANALYST</td>\n",
       "      <td>15-2031</td>\n",
       "      <td>OPERATIONS RESEARCH ANALYSTS</td>\n",
       "      <td>1</td>\n",
       "      <td>Level I</td>\n",
       "      <td>ABERDEEN</td>\n",
       "      <td>MD</td>\n",
       "      <td>0</td>\n",
       "      <td>0</td>\n",
       "    </tr>\n",
       "    <tr>\n",
       "      <th>3</th>\n",
       "      <td>C</td>\n",
       "      <td>C AND S WHOLESALE GROCERS, INC.</td>\n",
       "      <td>KEENE</td>\n",
       "      <td>NH</td>\n",
       "      <td>SR. INDUSTRIAL ENGINEER</td>\n",
       "      <td>17-2112</td>\n",
       "      <td>INDUSTRIAL ENGINEERS</td>\n",
       "      <td>1</td>\n",
       "      <td>Level II</td>\n",
       "      <td>ABERDEEN</td>\n",
       "      <td>MD</td>\n",
       "      <td>0</td>\n",
       "      <td>0</td>\n",
       "    </tr>\n",
       "    <tr>\n",
       "      <th>4</th>\n",
       "      <td>C</td>\n",
       "      <td>SANFORD CLINIC</td>\n",
       "      <td>SIOUX FALLS</td>\n",
       "      <td>SD</td>\n",
       "      <td>HEMATOLOGIST/ONCOLOGIST</td>\n",
       "      <td>29-1069</td>\n",
       "      <td>PHYSICIANS AND SURGEONS, ALL OTHER</td>\n",
       "      <td>1</td>\n",
       "      <td>Level I</td>\n",
       "      <td>ABERDEEN</td>\n",
       "      <td>SD</td>\n",
       "      <td>0</td>\n",
       "      <td>0</td>\n",
       "    </tr>\n",
       "  </tbody>\n",
       "</table>\n",
       "</div>"
      ],
      "text/plain": [
       "  case_status                         emp_name     emp_city emp_state  \\\n",
       "0           C         LAKELANDS NEPHROLOGY, PA    GREENWOOD        SC   \n",
       "1           C              UNIVERSITY OF IDAHO       MOSCOW        ID   \n",
       "2           C           XPO SUPPLY CHAIN, INC.   HIGH POINT        NC   \n",
       "3           C  C AND S WHOLESALE GROCERS, INC.        KEENE        NH   \n",
       "4           C                   SANFORD CLINIC  SIOUX FALLS        SD   \n",
       "\n",
       "                 job_title soc_code                            soc_name  \\\n",
       "0             NEPHROLOGIST  29-1063                 INTERNISTS, GENERAL   \n",
       "1     POST DOCTORAL FELLOW  19-1013           SOIL AND PLANT SCIENTISTS   \n",
       "2        OPERATION ANALYST  15-2031        OPERATIONS RESEARCH ANALYSTS   \n",
       "3  SR. INDUSTRIAL ENGINEER  17-2112                INDUSTRIAL ENGINEERS   \n",
       "4  HEMATOLOGIST/ONCOLOGIST  29-1069  PHYSICIANS AND SURGEONS, ALL OTHER   \n",
       "\n",
       "  full_time_position   pw_level  work_city work_state emp_h1b_dependent  \\\n",
       "0                  1  Level III  ABBEVILLE         SC                 0   \n",
       "1                  1    Level I   ABERDEEN         ID                 0   \n",
       "2                  1    Level I   ABERDEEN         MD                 0   \n",
       "3                  1   Level II   ABERDEEN         MD                 0   \n",
       "4                  1    Level I   ABERDEEN         SD                 0   \n",
       "\n",
       "  emp_willful_violator  \n",
       "0                    0  \n",
       "1                    0  \n",
       "2                    0  \n",
       "3                    0  \n",
       "4                    0  "
      ]
     },
     "execution_count": 103,
     "metadata": {},
     "output_type": "execute_result"
    }
   ],
   "source": [
    "df_cat = df_eda.select_dtypes(include=\"object\")\n",
    "df_cat.head()"
   ]
  },
  {
   "cell_type": "code",
   "execution_count": 104,
   "id": "58047e15",
   "metadata": {},
   "outputs": [
    {
     "data": {
      "text/html": [
       "<div>\n",
       "<style scoped>\n",
       "    .dataframe tbody tr th:only-of-type {\n",
       "        vertical-align: middle;\n",
       "    }\n",
       "\n",
       "    .dataframe tbody tr th {\n",
       "        vertical-align: top;\n",
       "    }\n",
       "\n",
       "    .dataframe thead th {\n",
       "        text-align: right;\n",
       "    }\n",
       "</style>\n",
       "<table border=\"1\" class=\"dataframe\">\n",
       "  <thead>\n",
       "    <tr style=\"text-align: right;\">\n",
       "      <th></th>\n",
       "      <th>case_status</th>\n",
       "      <th>emp_name</th>\n",
       "      <th>emp_city</th>\n",
       "      <th>emp_state</th>\n",
       "      <th>job_title</th>\n",
       "      <th>soc_code</th>\n",
       "      <th>soc_name</th>\n",
       "      <th>full_time_position</th>\n",
       "      <th>pw_level</th>\n",
       "      <th>work_city</th>\n",
       "      <th>work_state</th>\n",
       "      <th>emp_h1b_dependent</th>\n",
       "      <th>emp_willful_violator</th>\n",
       "    </tr>\n",
       "  </thead>\n",
       "  <tbody>\n",
       "    <tr>\n",
       "      <th>count</th>\n",
       "      <td>578655</td>\n",
       "      <td>578655</td>\n",
       "      <td>578655</td>\n",
       "      <td>578655</td>\n",
       "      <td>578655</td>\n",
       "      <td>578655</td>\n",
       "      <td>578655</td>\n",
       "      <td>578655</td>\n",
       "      <td>578655</td>\n",
       "      <td>578655</td>\n",
       "      <td>578655</td>\n",
       "      <td>578655</td>\n",
       "      <td>578655</td>\n",
       "    </tr>\n",
       "    <tr>\n",
       "      <th>unique</th>\n",
       "      <td>3</td>\n",
       "      <td>63547</td>\n",
       "      <td>4592</td>\n",
       "      <td>54</td>\n",
       "      <td>85538</td>\n",
       "      <td>688</td>\n",
       "      <td>818</td>\n",
       "      <td>2</td>\n",
       "      <td>4</td>\n",
       "      <td>4870</td>\n",
       "      <td>53</td>\n",
       "      <td>2</td>\n",
       "      <td>2</td>\n",
       "    </tr>\n",
       "    <tr>\n",
       "      <th>top</th>\n",
       "      <td>C</td>\n",
       "      <td>INFOSYS LIMITED</td>\n",
       "      <td>PLANO</td>\n",
       "      <td>CA</td>\n",
       "      <td>PROGRAMMER ANALYST</td>\n",
       "      <td>15-1132</td>\n",
       "      <td>SOFTWARE DEVELOPERS, APPLICATIONS</td>\n",
       "      <td>1</td>\n",
       "      <td>Level I</td>\n",
       "      <td>NEW YORK</td>\n",
       "      <td>CA</td>\n",
       "      <td>0</td>\n",
       "      <td>0</td>\n",
       "    </tr>\n",
       "    <tr>\n",
       "      <th>freq</th>\n",
       "      <td>506462</td>\n",
       "      <td>20146</td>\n",
       "      <td>32615</td>\n",
       "      <td>97141</td>\n",
       "      <td>44237</td>\n",
       "      <td>118303</td>\n",
       "      <td>117979</td>\n",
       "      <td>566676</td>\n",
       "      <td>248814</td>\n",
       "      <td>33913</td>\n",
       "      <td>110161</td>\n",
       "      <td>357741</td>\n",
       "      <td>578231</td>\n",
       "    </tr>\n",
       "  </tbody>\n",
       "</table>\n",
       "</div>"
      ],
      "text/plain": [
       "       case_status         emp_name emp_city emp_state           job_title  \\\n",
       "count       578655           578655   578655    578655              578655   \n",
       "unique           3            63547     4592        54               85538   \n",
       "top              C  INFOSYS LIMITED    PLANO        CA  PROGRAMMER ANALYST   \n",
       "freq        506462            20146    32615     97141               44237   \n",
       "\n",
       "       soc_code                           soc_name  full_time_position  \\\n",
       "count    578655                             578655              578655   \n",
       "unique      688                                818                   2   \n",
       "top     15-1132  SOFTWARE DEVELOPERS, APPLICATIONS                   1   \n",
       "freq     118303                             117979              566676   \n",
       "\n",
       "       pw_level work_city work_state  emp_h1b_dependent  emp_willful_violator  \n",
       "count    578655    578655     578655             578655                578655  \n",
       "unique        4      4870         53                  2                     2  \n",
       "top     Level I  NEW YORK         CA                  0                     0  \n",
       "freq     248814     33913     110161             357741                578231  "
      ]
     },
     "execution_count": 104,
     "metadata": {},
     "output_type": "execute_result"
    }
   ],
   "source": [
    "df_cat.describe()"
   ]
  },
  {
   "cell_type": "markdown",
   "id": "df16a4e2",
   "metadata": {},
   "source": [
    "### Univariate Analysis"
   ]
  },
  {
   "cell_type": "code",
   "execution_count": 105,
   "id": "bdfe9dfa",
   "metadata": {},
   "outputs": [],
   "source": [
    "import matplotlib.pyplot as plt"
   ]
  },
  {
   "cell_type": "code",
   "execution_count": 106,
   "id": "56c9d9e1",
   "metadata": {},
   "outputs": [
    {
     "data": {
      "text/plain": [
       "<AxesSubplot:xlabel='prevailing_wage'>"
      ]
     },
     "execution_count": 106,
     "metadata": {},
     "output_type": "execute_result"
    },
    {
     "data": {
      "image/png": "[encoded data removed]",
      "text/plain": [
       "<Figure size 432x288 with 1 Axes>"
      ]
     },
     "metadata": {
      "needs_background": "light"
     },
     "output_type": "display_data"
    }
   ],
   "source": [
    "sns.boxplot(df_eda[\"prevailing_wage\"])"
   ]
  },
  {
   "cell_type": "code",
   "execution_count": 107,
   "id": "7a531b1d",
   "metadata": {},
   "outputs": [
    {
     "data": {
      "text/plain": [
       "<AxesSubplot:xlabel='wage_from'>"
      ]
     },
     "execution_count": 107,
     "metadata": {},
     "output_type": "execute_result"
    },
    {
     "data": {
      "image/png": "[encoded data removed]",
      "text/plain": [
       "<Figure size 432x288 with 1 Axes>"
      ]
     },
     "metadata": {
      "needs_background": "light"
     },
     "output_type": "display_data"
    }
   ],
   "source": [
    "sns.boxplot(df_eda[\"wage_from\"])"
   ]
  },
  {
   "cell_type": "markdown",
   "id": "a13a6529",
   "metadata": {},
   "source": [
    "There are some outliers in prevailing_wage and wage_from columns"
   ]
  },
  {
   "cell_type": "code",
   "execution_count": 108,
   "id": "6073f566",
   "metadata": {},
   "outputs": [
    {
     "data": {
      "text/plain": [
       "(578655, 15)"
      ]
     },
     "execution_count": 108,
     "metadata": {},
     "output_type": "execute_result"
    }
   ],
   "source": [
    "df_eda.shape"
   ]
  },
  {
   "cell_type": "code",
   "execution_count": 109,
   "id": "45a08d65",
   "metadata": {},
   "outputs": [
    {
     "data": {
      "text/plain": [
       "case_status             0\n",
       "emp_name                0\n",
       "emp_city                0\n",
       "emp_state               0\n",
       "job_title               0\n",
       "soc_code                0\n",
       "soc_name                0\n",
       "full_time_position      0\n",
       "prevailing_wage         0\n",
       "pw_level                0\n",
       "wage_from               0\n",
       "work_city               0\n",
       "work_state              0\n",
       "emp_h1b_dependent       0\n",
       "emp_willful_violator    0\n",
       "dtype: int64"
      ]
     },
     "execution_count": 109,
     "metadata": {},
     "output_type": "execute_result"
    }
   ],
   "source": [
    "df_eda.isnull().sum()"
   ]
  },
  {
   "cell_type": "code",
   "execution_count": 110,
   "id": "b545388c",
   "metadata": {},
   "outputs": [
    {
     "data": {
      "text/plain": [
       "<AxesSubplot:xlabel='prevailing_wage', ylabel='Density'>"
      ]
     },
     "execution_count": 110,
     "metadata": {},
     "output_type": "execute_result"
    },
    {
     "data": {
      "image/png": "[encoded data removed]",
      "text/plain": [
       "<Figure size 432x288 with 1 Axes>"
      ]
     },
     "metadata": {
      "needs_background": "light"
     },
     "output_type": "display_data"
    }
   ],
   "source": [
    "sns.kdeplot(df_eda[\"prevailing_wage\"])"
   ]
  },
  {
   "cell_type": "markdown",
   "id": "82d43b80",
   "metadata": {},
   "source": [
    "Distribution of prevailing wage with outliers"
   ]
  },
  {
   "cell_type": "markdown",
   "id": "061b7e82",
   "metadata": {},
   "source": [
    "### Outlier Treatment"
   ]
  },
  {
   "cell_type": "code",
   "execution_count": 111,
   "id": "33cb36db",
   "metadata": {},
   "outputs": [
    {
     "data": {
      "text/plain": [
       "(578655, 15)"
      ]
     },
     "execution_count": 111,
     "metadata": {},
     "output_type": "execute_result"
    }
   ],
   "source": [
    "q1 = df_num.quantile(0.25)\n",
    "q3 = df_num.quantile(0.75)\n",
    "iqr = q3-q1\n",
    "uw = q3 + 1.5 * iqr\n",
    "lw = q1 - 1.5 * iqr\n",
    "df_out = df_eda[~((df_eda<lw)|(df_eda>uw))]\n",
    "df_out.shape"
   ]
  },
  {
   "cell_type": "code",
   "execution_count": 112,
   "id": "2150ec52",
   "metadata": {},
   "outputs": [
    {
     "data": {
      "text/plain": [
       "case_status             0.000000\n",
       "emp_name                0.000000\n",
       "emp_city                0.000000\n",
       "emp_state               0.000000\n",
       "job_title               0.000000\n",
       "soc_code                0.000000\n",
       "soc_name                0.000000\n",
       "full_time_position      0.000000\n",
       "prevailing_wage         0.033348\n",
       "pw_level                0.000000\n",
       "wage_from               0.045170\n",
       "work_city               0.000000\n",
       "work_state              0.000000\n",
       "emp_h1b_dependent       0.000000\n",
       "emp_willful_violator    0.000000\n",
       "dtype: float64"
      ]
     },
     "execution_count": 112,
     "metadata": {},
     "output_type": "execute_result"
    }
   ],
   "source": [
    "df_out.isnull().sum()/len(df_out)"
   ]
  },
  {
   "cell_type": "code",
   "execution_count": 113,
   "id": "c1e3290a",
   "metadata": {},
   "outputs": [
    {
     "data": {
      "text/html": [
       "<div>\n",
       "<style scoped>\n",
       "    .dataframe tbody tr th:only-of-type {\n",
       "        vertical-align: middle;\n",
       "    }\n",
       "\n",
       "    .dataframe tbody tr th {\n",
       "        vertical-align: top;\n",
       "    }\n",
       "\n",
       "    .dataframe thead th {\n",
       "        text-align: right;\n",
       "    }\n",
       "</style>\n",
       "<table border=\"1\" class=\"dataframe\">\n",
       "  <thead>\n",
       "    <tr style=\"text-align: right;\">\n",
       "      <th></th>\n",
       "      <th>case_status</th>\n",
       "      <th>emp_name</th>\n",
       "      <th>emp_city</th>\n",
       "      <th>emp_state</th>\n",
       "      <th>job_title</th>\n",
       "      <th>soc_code</th>\n",
       "      <th>soc_name</th>\n",
       "      <th>full_time_position</th>\n",
       "      <th>prevailing_wage</th>\n",
       "      <th>pw_level</th>\n",
       "      <th>wage_from</th>\n",
       "      <th>work_city</th>\n",
       "      <th>work_state</th>\n",
       "      <th>emp_h1b_dependent</th>\n",
       "      <th>emp_willful_violator</th>\n",
       "    </tr>\n",
       "  </thead>\n",
       "  <tbody>\n",
       "    <tr>\n",
       "      <th>1</th>\n",
       "      <td>C</td>\n",
       "      <td>UNIVERSITY OF IDAHO</td>\n",
       "      <td>MOSCOW</td>\n",
       "      <td>ID</td>\n",
       "      <td>POST DOCTORAL FELLOW</td>\n",
       "      <td>19-1013</td>\n",
       "      <td>SOIL AND PLANT SCIENTISTS</td>\n",
       "      <td>1</td>\n",
       "      <td>39957.0</td>\n",
       "      <td>Level I</td>\n",
       "      <td>47507.00</td>\n",
       "      <td>ABERDEEN</td>\n",
       "      <td>ID</td>\n",
       "      <td>0</td>\n",
       "      <td>0</td>\n",
       "    </tr>\n",
       "    <tr>\n",
       "      <th>2</th>\n",
       "      <td>C</td>\n",
       "      <td>XPO SUPPLY CHAIN, INC.</td>\n",
       "      <td>HIGH POINT</td>\n",
       "      <td>NC</td>\n",
       "      <td>OPERATION ANALYST</td>\n",
       "      <td>15-2031</td>\n",
       "      <td>OPERATIONS RESEARCH ANALYSTS</td>\n",
       "      <td>1</td>\n",
       "      <td>59966.0</td>\n",
       "      <td>Level I</td>\n",
       "      <td>65000.00</td>\n",
       "      <td>ABERDEEN</td>\n",
       "      <td>MD</td>\n",
       "      <td>0</td>\n",
       "      <td>0</td>\n",
       "    </tr>\n",
       "    <tr>\n",
       "      <th>3</th>\n",
       "      <td>C</td>\n",
       "      <td>C AND S WHOLESALE GROCERS, INC.</td>\n",
       "      <td>KEENE</td>\n",
       "      <td>NH</td>\n",
       "      <td>SR. INDUSTRIAL ENGINEER</td>\n",
       "      <td>17-2112</td>\n",
       "      <td>INDUSTRIAL ENGINEERS</td>\n",
       "      <td>1</td>\n",
       "      <td>78832.0</td>\n",
       "      <td>Level II</td>\n",
       "      <td>86988.15</td>\n",
       "      <td>ABERDEEN</td>\n",
       "      <td>MD</td>\n",
       "      <td>0</td>\n",
       "      <td>0</td>\n",
       "    </tr>\n",
       "    <tr>\n",
       "      <th>5</th>\n",
       "      <td>C</td>\n",
       "      <td>SANFORD CLINIC</td>\n",
       "      <td>SIOUX FALLS</td>\n",
       "      <td>SD</td>\n",
       "      <td>FAMILY MEDICINE PHYSICIAN</td>\n",
       "      <td>29-1062</td>\n",
       "      <td>FAMILY AND GENERAL PRACTITIONERS</td>\n",
       "      <td>1</td>\n",
       "      <td>131581.0</td>\n",
       "      <td>Level I</td>\n",
       "      <td>131581.00</td>\n",
       "      <td>ABERDEEN</td>\n",
       "      <td>SD</td>\n",
       "      <td>0</td>\n",
       "      <td>0</td>\n",
       "    </tr>\n",
       "    <tr>\n",
       "      <th>7</th>\n",
       "      <td>C</td>\n",
       "      <td>NORTHERN STATE UNIVERSITY</td>\n",
       "      <td>ABERDEEN</td>\n",
       "      <td>SD</td>\n",
       "      <td>INSTRUCTOR OF BUSINESS ACCOUNTING</td>\n",
       "      <td>25-1011</td>\n",
       "      <td>BUSINESS TEACHERS, POSTSECONDARY</td>\n",
       "      <td>1</td>\n",
       "      <td>45010.0</td>\n",
       "      <td>Level I</td>\n",
       "      <td>51487.00</td>\n",
       "      <td>ABERDEEN</td>\n",
       "      <td>SD</td>\n",
       "      <td>0</td>\n",
       "      <td>0</td>\n",
       "    </tr>\n",
       "    <tr>\n",
       "      <th>...</th>\n",
       "      <td>...</td>\n",
       "      <td>...</td>\n",
       "      <td>...</td>\n",
       "      <td>...</td>\n",
       "      <td>...</td>\n",
       "      <td>...</td>\n",
       "      <td>...</td>\n",
       "      <td>...</td>\n",
       "      <td>...</td>\n",
       "      <td>...</td>\n",
       "      <td>...</td>\n",
       "      <td>...</td>\n",
       "      <td>...</td>\n",
       "      <td>...</td>\n",
       "      <td>...</td>\n",
       "    </tr>\n",
       "    <tr>\n",
       "      <th>579392</th>\n",
       "      <td>D</td>\n",
       "      <td>DELOITTE CONSULTING LLP</td>\n",
       "      <td>PHILADELPHIA</td>\n",
       "      <td>PA</td>\n",
       "      <td>SOLUTION SPECIALIST</td>\n",
       "      <td>15-1132</td>\n",
       "      <td>SOFTWARE DEVELOPERS, APPLICATIONS</td>\n",
       "      <td>1</td>\n",
       "      <td>58968.0</td>\n",
       "      <td>Level I</td>\n",
       "      <td>58968.00</td>\n",
       "      <td>ZIONSVILLE</td>\n",
       "      <td>IN</td>\n",
       "      <td>0</td>\n",
       "      <td>0</td>\n",
       "    </tr>\n",
       "    <tr>\n",
       "      <th>579393</th>\n",
       "      <td>C</td>\n",
       "      <td>COGNIZANT TECHNOLOGY SOLUTIONS U.S. CORPORATION</td>\n",
       "      <td>COLLEGE STATION</td>\n",
       "      <td>TX</td>\n",
       "      <td>SENIOR MANAGER JC45 - SALES ENGINEERS</td>\n",
       "      <td>41-9031</td>\n",
       "      <td>SALES ENGINEERS</td>\n",
       "      <td>1</td>\n",
       "      <td>106475.0</td>\n",
       "      <td>Level IV</td>\n",
       "      <td>106475.00</td>\n",
       "      <td>ZIONSVILLE</td>\n",
       "      <td>IN</td>\n",
       "      <td>1</td>\n",
       "      <td>0</td>\n",
       "    </tr>\n",
       "    <tr>\n",
       "      <th>579394</th>\n",
       "      <td>C</td>\n",
       "      <td>PERFICIENT, INC.</td>\n",
       "      <td>ST. LOUIS</td>\n",
       "      <td>MO</td>\n",
       "      <td>SOLUTIONS ARCHITECT</td>\n",
       "      <td>15-1199</td>\n",
       "      <td>COMPUTER OCCUPATIONS, ALL OTHER</td>\n",
       "      <td>1</td>\n",
       "      <td>77085.0</td>\n",
       "      <td>Level III</td>\n",
       "      <td>128520.00</td>\n",
       "      <td>ZIONSVILLE</td>\n",
       "      <td>IN</td>\n",
       "      <td>1</td>\n",
       "      <td>0</td>\n",
       "    </tr>\n",
       "    <tr>\n",
       "      <th>579395</th>\n",
       "      <td>C</td>\n",
       "      <td>DELOITTE CONSULTING LLP</td>\n",
       "      <td>PHILADELPHIA</td>\n",
       "      <td>PA</td>\n",
       "      <td>SOLUTION SPECIALIST</td>\n",
       "      <td>15-1132</td>\n",
       "      <td>SOFTWARE DEVELOPERS, APPLICATIONS</td>\n",
       "      <td>1</td>\n",
       "      <td>58968.0</td>\n",
       "      <td>Level I</td>\n",
       "      <td>58968.00</td>\n",
       "      <td>ZIONSVILLE</td>\n",
       "      <td>IN</td>\n",
       "      <td>0</td>\n",
       "      <td>0</td>\n",
       "    </tr>\n",
       "    <tr>\n",
       "      <th>579396</th>\n",
       "      <td>C</td>\n",
       "      <td>HAT WORLD INC</td>\n",
       "      <td>ZIONSVILLE</td>\n",
       "      <td>IN</td>\n",
       "      <td>DATABASE ADMINISTRATOR</td>\n",
       "      <td>15-1141</td>\n",
       "      <td>DATABASE ADMINISTRATORS</td>\n",
       "      <td>1</td>\n",
       "      <td>93746.0</td>\n",
       "      <td>Level IV</td>\n",
       "      <td>95000.00</td>\n",
       "      <td>ZIONSVILLE</td>\n",
       "      <td>IN</td>\n",
       "      <td>0</td>\n",
       "      <td>0</td>\n",
       "    </tr>\n",
       "  </tbody>\n",
       "</table>\n",
       "<p>547442 rows × 15 columns</p>\n",
       "</div>"
      ],
      "text/plain": [
       "       case_status                                         emp_name  \\\n",
       "1                C                              UNIVERSITY OF IDAHO   \n",
       "2                C                           XPO SUPPLY CHAIN, INC.   \n",
       "3                C                  C AND S WHOLESALE GROCERS, INC.   \n",
       "5                C                                   SANFORD CLINIC   \n",
       "7                C                        NORTHERN STATE UNIVERSITY   \n",
       "...            ...                                              ...   \n",
       "579392           D                          DELOITTE CONSULTING LLP   \n",
       "579393           C  COGNIZANT TECHNOLOGY SOLUTIONS U.S. CORPORATION   \n",
       "579394           C                                 PERFICIENT, INC.   \n",
       "579395           C                          DELOITTE CONSULTING LLP   \n",
       "579396           C                                    HAT WORLD INC   \n",
       "\n",
       "               emp_city emp_state                              job_title  \\\n",
       "1                MOSCOW        ID                   POST DOCTORAL FELLOW   \n",
       "2            HIGH POINT        NC                      OPERATION ANALYST   \n",
       "3                 KEENE        NH                SR. INDUSTRIAL ENGINEER   \n",
       "5           SIOUX FALLS        SD              FAMILY MEDICINE PHYSICIAN   \n",
       "7              ABERDEEN        SD      INSTRUCTOR OF BUSINESS ACCOUNTING   \n",
       "...                 ...       ...                                    ...   \n",
       "579392     PHILADELPHIA        PA                    SOLUTION SPECIALIST   \n",
       "579393  COLLEGE STATION        TX  SENIOR MANAGER JC45 - SALES ENGINEERS   \n",
       "579394        ST. LOUIS        MO                    SOLUTIONS ARCHITECT   \n",
       "579395     PHILADELPHIA        PA                    SOLUTION SPECIALIST   \n",
       "579396       ZIONSVILLE        IN                 DATABASE ADMINISTRATOR   \n",
       "\n",
       "       soc_code                           soc_name full_time_position  \\\n",
       "1       19-1013          SOIL AND PLANT SCIENTISTS                  1   \n",
       "2       15-2031       OPERATIONS RESEARCH ANALYSTS                  1   \n",
       "3       17-2112               INDUSTRIAL ENGINEERS                  1   \n",
       "5       29-1062   FAMILY AND GENERAL PRACTITIONERS                  1   \n",
       "7       25-1011   BUSINESS TEACHERS, POSTSECONDARY                  1   \n",
       "...         ...                                ...                ...   \n",
       "579392  15-1132  SOFTWARE DEVELOPERS, APPLICATIONS                  1   \n",
       "579393  41-9031                    SALES ENGINEERS                  1   \n",
       "579394  15-1199    COMPUTER OCCUPATIONS, ALL OTHER                  1   \n",
       "579395  15-1132  SOFTWARE DEVELOPERS, APPLICATIONS                  1   \n",
       "579396  15-1141            DATABASE ADMINISTRATORS                  1   \n",
       "\n",
       "        prevailing_wage   pw_level  wage_from   work_city work_state  \\\n",
       "1               39957.0    Level I   47507.00    ABERDEEN         ID   \n",
       "2               59966.0    Level I   65000.00    ABERDEEN         MD   \n",
       "3               78832.0   Level II   86988.15    ABERDEEN         MD   \n",
       "5              131581.0    Level I  131581.00    ABERDEEN         SD   \n",
       "7               45010.0    Level I   51487.00    ABERDEEN         SD   \n",
       "...                 ...        ...        ...         ...        ...   \n",
       "579392          58968.0    Level I   58968.00  ZIONSVILLE         IN   \n",
       "579393         106475.0   Level IV  106475.00  ZIONSVILLE         IN   \n",
       "579394          77085.0  Level III  128520.00  ZIONSVILLE         IN   \n",
       "579395          58968.0    Level I   58968.00  ZIONSVILLE         IN   \n",
       "579396          93746.0   Level IV   95000.00  ZIONSVILLE         IN   \n",
       "\n",
       "       emp_h1b_dependent emp_willful_violator  \n",
       "1                      0                    0  \n",
       "2                      0                    0  \n",
       "3                      0                    0  \n",
       "5                      0                    0  \n",
       "7                      0                    0  \n",
       "...                  ...                  ...  \n",
       "579392                 0                    0  \n",
       "579393                 1                    0  \n",
       "579394                 1                    0  \n",
       "579395                 0                    0  \n",
       "579396                 0                    0  \n",
       "\n",
       "[547442 rows x 15 columns]"
      ]
     },
     "execution_count": 113,
     "metadata": {},
     "output_type": "execute_result"
    }
   ],
   "source": [
    "df_out = df_out.dropna(subset=[\"wage_from\",\"prevailing_wage\"])\n",
    "df_out"
   ]
  },
  {
   "cell_type": "code",
   "execution_count": 114,
   "id": "3559067e",
   "metadata": {},
   "outputs": [
    {
     "data": {
      "text/plain": [
       "<AxesSubplot:xlabel='prevailing_wage', ylabel='Density'>"
      ]
     },
     "execution_count": 114,
     "metadata": {},
     "output_type": "execute_result"
    },
    {
     "data": {
      "image/png": "[encoded data removed]",
      "text/plain": [
       "<Figure size 432x288 with 1 Axes>"
      ]
     },
     "metadata": {
      "needs_background": "light"
     },
     "output_type": "display_data"
    }
   ],
   "source": [
    "sns.kdeplot(df_out[\"prevailing_wage\"])"
   ]
  },
  {
   "cell_type": "markdown",
   "id": "7b0b5bb9",
   "metadata": {},
   "source": [
    "Distribution after removing outliers"
   ]
  },
  {
   "cell_type": "code",
   "execution_count": 115,
   "id": "9e2f8812",
   "metadata": {},
   "outputs": [
    {
     "data": {
      "text/plain": [
       "<AxesSubplot:xlabel='wage_from', ylabel='Density'>"
      ]
     },
     "execution_count": 115,
     "metadata": {},
     "output_type": "execute_result"
    },
    {
     "data": {
      "image/png": "[encoded data removed]",
      "text/plain": [
       "<Figure size 432x288 with 1 Axes>"
      ]
     },
     "metadata": {
      "needs_background": "light"
     },
     "output_type": "display_data"
    }
   ],
   "source": [
    "sns.kdeplot(df_out[\"wage_from\"])"
   ]
  },
  {
   "cell_type": "code",
   "execution_count": 116,
   "id": "fc256afc",
   "metadata": {},
   "outputs": [
    {
     "data": {
      "text/plain": [
       "0.7239317568819638"
      ]
     },
     "execution_count": 116,
     "metadata": {},
     "output_type": "execute_result"
    }
   ],
   "source": [
    "df_out[\"wage_from\"].skew()"
   ]
  },
  {
   "cell_type": "code",
   "execution_count": 117,
   "id": "92b7e107",
   "metadata": {},
   "outputs": [
    {
     "data": {
      "text/plain": [
       "<AxesSubplot:xlabel='case_status', ylabel='count'>"
      ]
     },
     "execution_count": 117,
     "metadata": {},
     "output_type": "execute_result"
    },
    {
     "data": {
      "image/png": "[encoded data removed]",
      "text/plain": [
       "<Figure size 432x288 with 1 Axes>"
      ]
     },
     "metadata": {
      "needs_background": "light"
     },
     "output_type": "display_data"
    }
   ],
   "source": [
    "sns.countplot(data=df_eda,x=\"case_status\")"
   ]
  },
  {
   "cell_type": "markdown",
   "id": "2b60f791",
   "metadata": {},
   "source": [
    "On plotting a countplot for case_status(target variable) found most of the applications were accepted. There is a big imbalance in the target column"
   ]
  },
  {
   "cell_type": "code",
   "execution_count": 118,
   "id": "48db022f",
   "metadata": {},
   "outputs": [
    {
     "data": {
      "image/png": "[encoded data removed]",
      "text/plain": [
       "<Figure size 576x432 with 1 Axes>"
      ]
     },
     "metadata": {
      "needs_background": "light"
     },
     "output_type": "display_data"
    }
   ],
   "source": [
    "# Get the top 5 categories by count\n",
    "top_10_categories = df_eda[\"emp_name\"].value_counts().nlargest(10)\n",
    "\n",
    "# Filter the data for the top 10 categories\n",
    "data_top_10 = df_eda[df_eda[\"emp_name\"].isin(top_10_categories.index)]\n",
    "\n",
    "# Plot a countplot of the top 10 categories\n",
    "plt.figure(figsize=(8, 6))\n",
    "sns.countplot(data=data_top_10, x= \"emp_name\", order=top_10_categories.index,)\n",
    "plt.title('Countplot of Top 10 ' + \"emp_name\")\n",
    "plt.xticks(rotation=90)\n",
    "plt.show()"
   ]
  },
  {
   "cell_type": "markdown",
   "id": "7ecb8491",
   "metadata": {},
   "source": [
    "Based on the above graph we are able to understand that Infosys, TCS and Capgemini are the top employers submitting most number of visa application"
   ]
  },
  {
   "cell_type": "code",
   "execution_count": 119,
   "id": "ee2b3206",
   "metadata": {},
   "outputs": [
    {
     "data": {
      "image/png": "[encoded data removed]",
      "text/plain": [
       "<Figure size 576x432 with 1 Axes>"
      ]
     },
     "metadata": {
      "needs_background": "light"
     },
     "output_type": "display_data"
    }
   ],
   "source": [
    "# Get the top 5 categories by count\n",
    "top_10_categories = df_eda[\"emp_city\"].value_counts().nlargest(10)\n",
    "\n",
    "# Filter the data for the top 10 categories\n",
    "data_top_10 = df_eda[df_eda[\"emp_city\"].isin(top_10_categories.index)]\n",
    "\n",
    "# Plot a countplot of the top 10 categories\n",
    "plt.figure(figsize=(8, 6))\n",
    "sns.countplot(data=data_top_10, x= \"emp_city\", order=top_10_categories.index,)\n",
    "plt.title('Countplot of Top 10 ' + \"emp_city\")\n",
    "plt.xticks(rotation=90)\n",
    "plt.show()"
   ]
  },
  {
   "cell_type": "markdown",
   "id": "eafe80da",
   "metadata": {},
   "source": [
    "Most number of application are submitted from Plano city, followed by New York and Chicago"
   ]
  },
  {
   "cell_type": "code",
   "execution_count": 120,
   "id": "9efee0dd",
   "metadata": {},
   "outputs": [
    {
     "data": {
      "image/png": "[encoded data removed]",
      "text/plain": [
       "<Figure size 576x432 with 1 Axes>"
      ]
     },
     "metadata": {
      "needs_background": "light"
     },
     "output_type": "display_data"
    }
   ],
   "source": [
    "# Get the top 5 categories by count\n",
    "top_10_categories = df_eda[\"emp_state\"].value_counts().nlargest(10)\n",
    "\n",
    "# Filter the data for the top 10 categories\n",
    "data_top_10 = df_eda[df_eda[\"emp_state\"].isin(top_10_categories.index)]\n",
    "\n",
    "# Plot a countplot of the top 10 categories\n",
    "plt.figure(figsize=(8, 6))\n",
    "sns.countplot(data=data_top_10, x= \"emp_state\", order=top_10_categories.index,)\n",
    "plt.title('Countplot of Top 10 ' + \"emp_state\")\n",
    "plt.xticks(rotation=90)\n",
    "plt.show()"
   ]
  },
  {
   "cell_type": "markdown",
   "id": "1eb08365",
   "metadata": {},
   "source": [
    "California,Texas,New Jersey are top states from which most of the applications are being submitted"
   ]
  },
  {
   "cell_type": "code",
   "execution_count": 121,
   "id": "72802f82",
   "metadata": {},
   "outputs": [
    {
     "data": {
      "image/png": "[encoded data removed]",
      "text/plain": [
       "<Figure size 576x432 with 1 Axes>"
      ]
     },
     "metadata": {
      "needs_background": "light"
     },
     "output_type": "display_data"
    }
   ],
   "source": [
    "# Get the top 5 categories by count\n",
    "top_10_categories = df_eda[\"job_title\"].value_counts().nlargest(10)\n",
    "\n",
    "# Filter the data for the top 5 categories\n",
    "data_top_10 = df_eda[df_eda[\"job_title\"].isin(top_10_categories.index)]\n",
    "\n",
    "# Plot a countplot of the top 5 categories\n",
    "plt.figure(figsize=(8, 6))\n",
    "sns.countplot(data=data_top_10, x= \"job_title\", order=top_10_categories.index,)\n",
    "plt.title('Countplot of Top 10 ' + \"job_title\")\n",
    "plt.xticks(rotation=90)\n",
    "plt.show()"
   ]
  },
  {
   "cell_type": "markdown",
   "id": "89fe199e",
   "metadata": {},
   "source": [
    "Programmer Analyst is the top role of the applicants followed by Software Engineer and Software Developer"
   ]
  },
  {
   "cell_type": "code",
   "execution_count": 122,
   "id": "b6d88081",
   "metadata": {},
   "outputs": [
    {
     "data": {
      "text/plain": [
       "<AxesSubplot:xlabel='full_time_position', ylabel='count'>"
      ]
     },
     "execution_count": 122,
     "metadata": {},
     "output_type": "execute_result"
    },
    {
     "data": {
      "image/png": "[encoded data removed]",
      "text/plain": [
       "<Figure size 432x288 with 1 Axes>"
      ]
     },
     "metadata": {
      "needs_background": "light"
     },
     "output_type": "display_data"
    }
   ],
   "source": [
    "sns.countplot(df_eda[\"full_time_position\"])"
   ]
  },
  {
   "cell_type": "code",
   "execution_count": 123,
   "id": "8042b6da",
   "metadata": {},
   "outputs": [
    {
     "data": {
      "text/plain": [
       "1    566676\n",
       "0     11979\n",
       "Name: full_time_position, dtype: int64"
      ]
     },
     "execution_count": 123,
     "metadata": {},
     "output_type": "execute_result"
    }
   ],
   "source": [
    "df_eda[\"full_time_position\"].value_counts()"
   ]
  },
  {
   "cell_type": "markdown",
   "id": "735a2f67",
   "metadata": {},
   "source": [
    "Most of the applications are being submitted by the full time employees and the application from the other category is very minimal"
   ]
  },
  {
   "cell_type": "code",
   "execution_count": 124,
   "id": "1cd12fdc",
   "metadata": {},
   "outputs": [
    {
     "data": {
      "text/plain": [
       "<AxesSubplot:xlabel='pw_level', ylabel='count'>"
      ]
     },
     "execution_count": 124,
     "metadata": {},
     "output_type": "execute_result"
    },
    {
     "data": {
      "image/png": "[encoded data removed]",
      "text/plain": [
       "<Figure size 432x288 with 1 Axes>"
      ]
     },
     "metadata": {
      "needs_background": "light"
     },
     "output_type": "display_data"
    }
   ],
   "source": [
    "sns.countplot(df_eda[\"pw_level\"])"
   ]
  },
  {
   "cell_type": "markdown",
   "id": "92abce89",
   "metadata": {},
   "source": [
    "Most the applicants fall under prewailing wage level-1 category"
   ]
  },
  {
   "cell_type": "code",
   "execution_count": 125,
   "id": "b785ae2c",
   "metadata": {},
   "outputs": [
    {
     "data": {
      "image/png": "[encoded data removed]",
      "text/plain": [
       "<Figure size 576x432 with 1 Axes>"
      ]
     },
     "metadata": {
      "needs_background": "light"
     },
     "output_type": "display_data"
    }
   ],
   "source": [
    "# Get the top 5 categories by count\n",
    "top_10_categories = df_eda[\"work_city\"].value_counts().nlargest(10)\n",
    "\n",
    "# Filter the data for the top 5 categories\n",
    "data_top_10 = df_eda[df_eda[\"work_city\"].isin(top_10_categories.index)]\n",
    "\n",
    "# Plot a countplot of the top 5 categories\n",
    "plt.figure(figsize=(8, 6))\n",
    "sns.countplot(data=data_top_10, x= \"work_city\", order=top_10_categories.index,)\n",
    "plt.title('Countplot of Top 10 ' + \"work_city\")\n",
    "plt.xticks(rotation=90)\n",
    "plt.show()"
   ]
  },
  {
   "cell_type": "markdown",
   "id": "4027f538",
   "metadata": {},
   "source": [
    "Most of the applicants are applying to work in New York"
   ]
  },
  {
   "cell_type": "code",
   "execution_count": 126,
   "id": "03da55bf",
   "metadata": {},
   "outputs": [
    {
     "data": {
      "image/png": "[encoded data removed]",
      "text/plain": [
       "<Figure size 576x432 with 1 Axes>"
      ]
     },
     "metadata": {
      "needs_background": "light"
     },
     "output_type": "display_data"
    }
   ],
   "source": [
    "# Get the top 5 categories by count\n",
    "top_10_categories = df_eda[\"work_state\"].value_counts().nlargest(10)\n",
    "\n",
    "# Filter the data for the top 5 categories\n",
    "data_top_10 = df_eda[df_eda[\"work_state\"].isin(top_10_categories.index)]\n",
    "\n",
    "# Plot a countplot of the top 5 categories\n",
    "plt.figure(figsize=(8, 6))\n",
    "sns.countplot(data=data_top_10, x= \"work_state\", order=top_10_categories.index,)\n",
    "plt.title('Countplot of Top 10 ' + \"work_state\")\n",
    "plt.xticks(rotation=90)\n",
    "plt.show()"
   ]
  },
  {
   "cell_type": "markdown",
   "id": "e32443c5",
   "metadata": {},
   "source": [
    "CA is the top state where most applicants prefer to work for"
   ]
  },
  {
   "cell_type": "code",
   "execution_count": 127,
   "id": "760a06c9",
   "metadata": {},
   "outputs": [
    {
     "data": {
      "text/plain": [
       "Index(['case_status', 'emp_name', 'emp_city', 'emp_state', 'job_title',\n",
       "       'soc_code', 'soc_name', 'full_time_position', 'prevailing_wage',\n",
       "       'pw_level', 'wage_from', 'work_city', 'work_state', 'emp_h1b_dependent',\n",
       "       'emp_willful_violator'],\n",
       "      dtype='object')"
      ]
     },
     "execution_count": 127,
     "metadata": {},
     "output_type": "execute_result"
    }
   ],
   "source": [
    "df_eda.columns"
   ]
  },
  {
   "cell_type": "code",
   "execution_count": 128,
   "id": "7cf6e275",
   "metadata": {},
   "outputs": [
    {
     "data": {
      "text/plain": [
       "<AxesSubplot:xlabel='emp_h1b_dependent', ylabel='count'>"
      ]
     },
     "execution_count": 128,
     "metadata": {},
     "output_type": "execute_result"
    },
    {
     "data": {
      "image/png": "[encoded data removed]",
      "text/plain": [
       "<Figure size 432x288 with 1 Axes>"
      ]
     },
     "metadata": {
      "needs_background": "light"
     },
     "output_type": "display_data"
    }
   ],
   "source": [
    "sns.countplot(df_eda[\"emp_h1b_dependent\"])"
   ]
  },
  {
   "cell_type": "markdown",
   "id": "c566540f",
   "metadata": {},
   "source": [
    "Most of the employers are not H1B visa dependents i.e less than 15% of the employees of those employer is H1B visa holders"
   ]
  },
  {
   "cell_type": "code",
   "execution_count": 129,
   "id": "b7481b7b",
   "metadata": {},
   "outputs": [
    {
     "data": {
      "text/plain": [
       "<AxesSubplot:xlabel='emp_willful_violator', ylabel='count'>"
      ]
     },
     "execution_count": 129,
     "metadata": {},
     "output_type": "execute_result"
    },
    {
     "data": {
      "image/png": "[encoded data removed]",
      "text/plain": [
       "<Figure size 432x288 with 1 Axes>"
      ]
     },
     "metadata": {
      "needs_background": "light"
     },
     "output_type": "display_data"
    }
   ],
   "source": [
    "sns.countplot(df_eda[\"emp_willful_violator\"])"
   ]
  },
  {
   "cell_type": "code",
   "execution_count": 130,
   "id": "1f0eb523",
   "metadata": {},
   "outputs": [
    {
     "data": {
      "text/plain": [
       "0    578231\n",
       "1       424\n",
       "Name: emp_willful_violator, dtype: int64"
      ]
     },
     "execution_count": 130,
     "metadata": {},
     "output_type": "execute_result"
    }
   ],
   "source": [
    "df_eda[\"emp_willful_violator\"].value_counts()"
   ]
  },
  {
   "cell_type": "markdown",
   "id": "0f704575",
   "metadata": {},
   "source": [
    "Only few employers are willful violators"
   ]
  },
  {
   "cell_type": "markdown",
   "id": "90736701",
   "metadata": {},
   "source": [
    "### Bivariate Analysis"
   ]
  },
  {
   "cell_type": "code",
   "execution_count": 131,
   "id": "d220856d",
   "metadata": {},
   "outputs": [
    {
     "data": {
      "text/plain": [
       "<AxesSubplot:xlabel='prevailing_wage', ylabel='wage_from'>"
      ]
     },
     "execution_count": 131,
     "metadata": {},
     "output_type": "execute_result"
    },
    {
     "data": {
      "image/png": "[encoded data removed]",
      "text/plain": [
       "<Figure size 432x288 with 1 Axes>"
      ]
     },
     "metadata": {
      "needs_background": "light"
     },
     "output_type": "display_data"
    }
   ],
   "source": [
    "sns.scatterplot(data = df_eda,x = \"prevailing_wage\",y = \"wage_from\")"
   ]
  },
  {
   "cell_type": "code",
   "execution_count": 132,
   "id": "6625e500",
   "metadata": {},
   "outputs": [
    {
     "data": {
      "text/plain": [
       "<AxesSubplot:xlabel='prevailing_wage', ylabel='wage_from'>"
      ]
     },
     "execution_count": 132,
     "metadata": {},
     "output_type": "execute_result"
    },
    {
     "data": {
      "image/png": "[encoded data removed]",
      "text/plain": [
       "<Figure size 432x288 with 1 Axes>"
      ]
     },
     "metadata": {
      "needs_background": "light"
     },
     "output_type": "display_data"
    }
   ],
   "source": [
    "sns.scatterplot(data = df_out,x = \"prevailing_wage\",y = \"wage_from\")"
   ]
  },
  {
   "cell_type": "markdown",
   "id": "83de945a",
   "metadata": {},
   "source": [
    "#### Numerical vs Categorical"
   ]
  },
  {
   "cell_type": "code",
   "execution_count": 133,
   "id": "405eba6d",
   "metadata": {},
   "outputs": [
    {
     "data": {
      "text/plain": [
       "<AxesSubplot:xlabel='emp_h1b_dependent', ylabel='prevailing_wage'>"
      ]
     },
     "execution_count": 133,
     "metadata": {},
     "output_type": "execute_result"
    },
    {
     "data": {
      "image/png": "[encoded data removed]",
      "text/plain": [
       "<Figure size 432x288 with 1 Axes>"
      ]
     },
     "metadata": {
      "needs_background": "light"
     },
     "output_type": "display_data"
    }
   ],
   "source": [
    "sns.barplot(data = df_eda,x = \"emp_h1b_dependent\", y= \"prevailing_wage\")"
   ]
  },
  {
   "cell_type": "markdown",
   "id": "25509acc",
   "metadata": {},
   "source": [
    "There is no big difference in prevailing wage of employers who are dependent on H1-B and the employers who are independent of H1-B"
   ]
  },
  {
   "cell_type": "code",
   "execution_count": 134,
   "id": "eb94b36d",
   "metadata": {},
   "outputs": [
    {
     "data": {
      "text/plain": [
       "<AxesSubplot:xlabel='full_time_position', ylabel='prevailing_wage'>"
      ]
     },
     "execution_count": 134,
     "metadata": {},
     "output_type": "execute_result"
    },
    {
     "data": {
      "image/png": "[encoded data removed]",
      "text/plain": [
       "<Figure size 432x288 with 1 Axes>"
      ]
     },
     "metadata": {
      "needs_background": "light"
     },
     "output_type": "display_data"
    }
   ],
   "source": [
    "sns.barplot(data = df_eda,x = \"full_time_position\", y= \"prevailing_wage\")"
   ]
  },
  {
   "cell_type": "markdown",
   "id": "ccebfab4",
   "metadata": {},
   "source": [
    "Full time employees earn slightly more than than the part time employees"
   ]
  },
  {
   "cell_type": "code",
   "execution_count": 135,
   "id": "2bd13b40",
   "metadata": {},
   "outputs": [
    {
     "data": {
      "text/plain": [
       "<AxesSubplot:xlabel='pw_level', ylabel='prevailing_wage'>"
      ]
     },
     "execution_count": 135,
     "metadata": {},
     "output_type": "execute_result"
    },
    {
     "data": {
      "image/png": "[encoded data removed]",
      "text/plain": [
       "<Figure size 432x288 with 1 Axes>"
      ]
     },
     "metadata": {
      "needs_background": "light"
     },
     "output_type": "display_data"
    }
   ],
   "source": [
    "sns.barplot(data = df_eda,x = \"pw_level\", y= \"prevailing_wage\")"
   ]
  },
  {
   "cell_type": "markdown",
   "id": "9c1f3967",
   "metadata": {},
   "source": [
    "PW-Level 4 employees earn more than the other category"
   ]
  },
  {
   "cell_type": "code",
   "execution_count": 136,
   "id": "0759ea59",
   "metadata": {},
   "outputs": [
    {
     "data": {
      "text/plain": [
       "<AxesSubplot:xlabel='emp_state'>"
      ]
     },
     "execution_count": 136,
     "metadata": {},
     "output_type": "execute_result"
    },
    {
     "data": {
      "image/png": "[encoded data removed]",
      "text/plain": [
       "<Figure size 1440x1080 with 1 Axes>"
      ]
     },
     "metadata": {
      "needs_background": "light"
     },
     "output_type": "display_data"
    }
   ],
   "source": [
    "plt.figure(figsize=(20,15))\n",
    "grouped = df_eda.groupby('emp_state')['prevailing_wage'].mean().sort_values(ascending=False)\n",
    "sns.barplot(x=grouped.index, y=grouped.values, order=grouped.index)"
   ]
  },
  {
   "cell_type": "markdown",
   "id": "1f466223",
   "metadata": {},
   "source": [
    "California provides the highest prevailing wage followed by Washington however there is no big difference in the wage"
   ]
  },
  {
   "cell_type": "code",
   "execution_count": 137,
   "id": "cd5db28e",
   "metadata": {},
   "outputs": [
    {
     "data": {
      "text/plain": [
       "<AxesSubplot:xlabel='emp_state'>"
      ]
     },
     "execution_count": 137,
     "metadata": {},
     "output_type": "execute_result"
    },
    {
     "data": {
      "image/png": "[encoded data removed]",
      "text/plain": [
       "<Figure size 1440x1080 with 1 Axes>"
      ]
     },
     "metadata": {
      "needs_background": "light"
     },
     "output_type": "display_data"
    }
   ],
   "source": [
    "plt.figure(figsize=(20,15))\n",
    "grouped = df_eda.groupby('emp_state')['wage_from'].mean().sort_values(ascending=False)\n",
    "sns.barplot(x=grouped.index, y=grouped.values, order=grouped.index)"
   ]
  },
  {
   "cell_type": "markdown",
   "id": "c1197d90",
   "metadata": {},
   "source": [
    "West virginia employers offers higher wage compared to other states"
   ]
  },
  {
   "cell_type": "code",
   "execution_count": 138,
   "id": "85c0d96d",
   "metadata": {},
   "outputs": [
    {
     "data": {
      "text/plain": [
       "<AxesSubplot:xlabel='work_state'>"
      ]
     },
     "execution_count": 138,
     "metadata": {},
     "output_type": "execute_result"
    },
    {
     "data": {
      "image/png": "[encoded data removed]",
      "text/plain": [
       "<Figure size 1440x1080 with 1 Axes>"
      ]
     },
     "metadata": {
      "needs_background": "light"
     },
     "output_type": "display_data"
    }
   ],
   "source": [
    "plt.figure(figsize=(20,15))\n",
    "grouped = df_eda.groupby('work_state')['prevailing_wage'].mean().sort_values(ascending=False)\n",
    "sns.barplot(x=grouped.index, y=grouped.values, order=grouped.index)"
   ]
  },
  {
   "cell_type": "markdown",
   "id": "975059ab",
   "metadata": {},
   "source": [
    "Employees who migrate to California receives a higher wage compared to other states"
   ]
  },
  {
   "cell_type": "code",
   "execution_count": 139,
   "id": "92ad6a59",
   "metadata": {},
   "outputs": [
    {
     "data": {
      "text/plain": [
       "<AxesSubplot:xlabel='work_state'>"
      ]
     },
     "execution_count": 139,
     "metadata": {},
     "output_type": "execute_result"
    },
    {
     "data": {
      "image/png": "[encoded data removed]",
      "text/plain": [
       "<Figure size 1440x1080 with 1 Axes>"
      ]
     },
     "metadata": {
      "needs_background": "light"
     },
     "output_type": "display_data"
    }
   ],
   "source": [
    "plt.figure(figsize=(20,15))\n",
    "grouped = df_eda.groupby('work_state')['wage_from'].mean().sort_values(ascending=False)\n",
    "sns.barplot(x=grouped.index, y=grouped.values, order=grouped.index)"
   ]
  },
  {
   "cell_type": "markdown",
   "id": "01e2c583",
   "metadata": {},
   "source": [
    "West virginia employers offers higher wage compared to other states"
   ]
  },
  {
   "cell_type": "code",
   "execution_count": 150,
   "id": "2bfb9736",
   "metadata": {},
   "outputs": [
    {
     "data": {
      "image/png": "[encoded data removed]",
      "text/plain": [
       "<Figure size 432x288 with 1 Axes>"
      ]
     },
     "metadata": {
      "needs_background": "light"
     },
     "output_type": "display_data"
    }
   ],
   "source": [
    "# Group the data by 'job_title' and calculate the mean wage_from for each group\n",
    "grouped = df_eda.groupby('job_title')['prevailing_wage'].mean()\n",
    "\n",
    "# Sort the groups in descending order based on the mean wage_from\n",
    "grouped_sorted = grouped.sort_values(ascending=False)\n",
    "\n",
    "# Select the top 10 job titles based on the sorted mean wage_from values\n",
    "top_10_job_titles = grouped_sorted[:10].index.tolist()\n",
    "\n",
    "# Filter the original data to keep only the top 10 job titles\n",
    "df_top_10 = df_eda[df_eda['job_title'].isin(top_10_job_titles)]\n",
    "\n",
    "# Group the filtered data by 'job_title' and calculate the mean wage_from for each group\n",
    "grouped_top_10 = df_top_10.groupby('job_title')['prevailing_wage'].mean().sort_values(ascending=False)\n",
    "\n",
    "# Plot the bar chart with the top 10 job titles\n",
    "sns.barplot(x=grouped_top_10.index, y=grouped_top_10.values, order=grouped_top_10.index)\n",
    "plt.xticks(rotation=90)\n",
    "plt.ylabel('Mean Salary')\n",
    "plt.show()"
   ]
  },
  {
   "cell_type": "markdown",
   "id": "ab5103e8",
   "metadata": {},
   "source": [
    "Investigator level 2 has the highest average salary compared to other designations"
   ]
  },
  {
   "cell_type": "markdown",
   "id": "63a3c02c",
   "metadata": {},
   "source": [
    "### Categorical vs Categorical"
   ]
  },
  {
   "cell_type": "code",
   "execution_count": 155,
   "id": "b8c25874",
   "metadata": {},
   "outputs": [
    {
     "data": {
      "text/html": [
       "<div>\n",
       "<style scoped>\n",
       "    .dataframe tbody tr th:only-of-type {\n",
       "        vertical-align: middle;\n",
       "    }\n",
       "\n",
       "    .dataframe tbody tr th {\n",
       "        vertical-align: top;\n",
       "    }\n",
       "\n",
       "    .dataframe thead th {\n",
       "        text-align: right;\n",
       "    }\n",
       "</style>\n",
       "<table border=\"1\" class=\"dataframe\">\n",
       "  <thead>\n",
       "    <tr style=\"text-align: right;\">\n",
       "      <th>job_title</th>\n",
       "      <th>ASSISTANT PROFESSOR</th>\n",
       "      <th>BUSINESS ANALYST</th>\n",
       "      <th>COMPUTER PROGRAMMER</th>\n",
       "      <th>COMPUTER SYSTEMS ANALYST</th>\n",
       "      <th>DEVELOPER</th>\n",
       "      <th>PROGRAMMER ANALYST</th>\n",
       "      <th>SENIOR SOFTWARE ENGINEER</th>\n",
       "      <th>SOFTWARE DEVELOPER</th>\n",
       "      <th>SOFTWARE ENGINEER</th>\n",
       "      <th>SYSTEMS ANALYST</th>\n",
       "    </tr>\n",
       "    <tr>\n",
       "      <th>emp_h1b_dependent</th>\n",
       "      <th></th>\n",
       "      <th></th>\n",
       "      <th></th>\n",
       "      <th></th>\n",
       "      <th></th>\n",
       "      <th></th>\n",
       "      <th></th>\n",
       "      <th></th>\n",
       "      <th></th>\n",
       "      <th></th>\n",
       "    </tr>\n",
       "  </thead>\n",
       "  <tbody>\n",
       "    <tr>\n",
       "      <th>0</th>\n",
       "      <td>4651</td>\n",
       "      <td>2965</td>\n",
       "      <td>1709</td>\n",
       "      <td>2106</td>\n",
       "      <td>605</td>\n",
       "      <td>9983</td>\n",
       "      <td>5392</td>\n",
       "      <td>6293</td>\n",
       "      <td>16125</td>\n",
       "      <td>2198</td>\n",
       "    </tr>\n",
       "    <tr>\n",
       "      <th>1</th>\n",
       "      <td>6</td>\n",
       "      <td>3933</td>\n",
       "      <td>5061</td>\n",
       "      <td>4105</td>\n",
       "      <td>4997</td>\n",
       "      <td>34254</td>\n",
       "      <td>1255</td>\n",
       "      <td>8875</td>\n",
       "      <td>10435</td>\n",
       "      <td>7928</td>\n",
       "    </tr>\n",
       "  </tbody>\n",
       "</table>\n",
       "</div>"
      ],
      "text/plain": [
       "job_title          ASSISTANT PROFESSOR  BUSINESS ANALYST  COMPUTER PROGRAMMER  \\\n",
       "emp_h1b_dependent                                                               \n",
       "0                                 4651              2965                 1709   \n",
       "1                                    6              3933                 5061   \n",
       "\n",
       "job_title          COMPUTER SYSTEMS ANALYST  DEVELOPER  PROGRAMMER ANALYST  \\\n",
       "emp_h1b_dependent                                                            \n",
       "0                                      2106        605                9983   \n",
       "1                                      4105       4997               34254   \n",
       "\n",
       "job_title          SENIOR SOFTWARE ENGINEER  SOFTWARE DEVELOPER  \\\n",
       "emp_h1b_dependent                                                 \n",
       "0                                      5392                6293   \n",
       "1                                      1255                8875   \n",
       "\n",
       "job_title          SOFTWARE ENGINEER  SYSTEMS ANALYST  \n",
       "emp_h1b_dependent                                      \n",
       "0                              16125             2198  \n",
       "1                              10435             7928  "
      ]
     },
     "execution_count": 155,
     "metadata": {},
     "output_type": "execute_result"
    }
   ],
   "source": [
    "# Get the top 10 job titles based on count\n",
    "top_10_jobs = df_eda['job_title'].value_counts().nlargest(10).index\n",
    "\n",
    "# Filter the DataFrame to keep only the top 10 job titles\n",
    "df_top_10_jobs = df_eda[df_eda['job_title'].isin(top_10_jobs)]\n",
    "\n",
    "# Compute the frequency table of job_title and emp_h1b_dependent columns\n",
    "freq_table = pd.crosstab(index=df_top_10_jobs['emp_h1b_dependent'], columns=df_top_10_jobs['job_title'])\n",
    "freq_table"
   ]
  },
  {
   "cell_type": "code",
   "execution_count": 156,
   "id": "5a34882d",
   "metadata": {},
   "outputs": [
    {
     "data": {
      "text/html": [
       "<div>\n",
       "<style scoped>\n",
       "    .dataframe tbody tr th:only-of-type {\n",
       "        vertical-align: middle;\n",
       "    }\n",
       "\n",
       "    .dataframe tbody tr th {\n",
       "        vertical-align: top;\n",
       "    }\n",
       "\n",
       "    .dataframe thead th {\n",
       "        text-align: right;\n",
       "    }\n",
       "</style>\n",
       "<table border=\"1\" class=\"dataframe\">\n",
       "  <thead>\n",
       "    <tr style=\"text-align: right;\">\n",
       "      <th>job_title</th>\n",
       "      <th>ASSISTANT PROFESSOR</th>\n",
       "      <th>BUSINESS ANALYST</th>\n",
       "      <th>COMPUTER PROGRAMMER</th>\n",
       "      <th>COMPUTER SYSTEMS ANALYST</th>\n",
       "      <th>DEVELOPER</th>\n",
       "      <th>PROGRAMMER ANALYST</th>\n",
       "      <th>SENIOR SOFTWARE ENGINEER</th>\n",
       "      <th>SOFTWARE DEVELOPER</th>\n",
       "      <th>SOFTWARE ENGINEER</th>\n",
       "      <th>SYSTEMS ANALYST</th>\n",
       "    </tr>\n",
       "    <tr>\n",
       "      <th>full_time_position</th>\n",
       "      <th></th>\n",
       "      <th></th>\n",
       "      <th></th>\n",
       "      <th></th>\n",
       "      <th></th>\n",
       "      <th></th>\n",
       "      <th></th>\n",
       "      <th></th>\n",
       "      <th></th>\n",
       "      <th></th>\n",
       "    </tr>\n",
       "  </thead>\n",
       "  <tbody>\n",
       "    <tr>\n",
       "      <th>0</th>\n",
       "      <td>155</td>\n",
       "      <td>331</td>\n",
       "      <td>138</td>\n",
       "      <td>54</td>\n",
       "      <td>0</td>\n",
       "      <td>147</td>\n",
       "      <td>5</td>\n",
       "      <td>104</td>\n",
       "      <td>187</td>\n",
       "      <td>63</td>\n",
       "    </tr>\n",
       "    <tr>\n",
       "      <th>1</th>\n",
       "      <td>4502</td>\n",
       "      <td>6567</td>\n",
       "      <td>6632</td>\n",
       "      <td>6157</td>\n",
       "      <td>5602</td>\n",
       "      <td>44090</td>\n",
       "      <td>6642</td>\n",
       "      <td>15064</td>\n",
       "      <td>26373</td>\n",
       "      <td>10063</td>\n",
       "    </tr>\n",
       "  </tbody>\n",
       "</table>\n",
       "</div>"
      ],
      "text/plain": [
       "job_title           ASSISTANT PROFESSOR  BUSINESS ANALYST  \\\n",
       "full_time_position                                          \n",
       "0                                   155               331   \n",
       "1                                  4502              6567   \n",
       "\n",
       "job_title           COMPUTER PROGRAMMER  COMPUTER SYSTEMS ANALYST  DEVELOPER  \\\n",
       "full_time_position                                                             \n",
       "0                                   138                        54          0   \n",
       "1                                  6632                      6157       5602   \n",
       "\n",
       "job_title           PROGRAMMER ANALYST  SENIOR SOFTWARE ENGINEER  \\\n",
       "full_time_position                                                 \n",
       "0                                  147                         5   \n",
       "1                                44090                      6642   \n",
       "\n",
       "job_title           SOFTWARE DEVELOPER  SOFTWARE ENGINEER  SYSTEMS ANALYST  \n",
       "full_time_position                                                          \n",
       "0                                  104                187               63  \n",
       "1                                15064              26373            10063  "
      ]
     },
     "execution_count": 156,
     "metadata": {},
     "output_type": "execute_result"
    }
   ],
   "source": [
    "# Get the top 10 job titles based on count\n",
    "top_10_jobs = df_eda['job_title'].value_counts().nlargest(10).index\n",
    "\n",
    "# Filter the DataFrame to keep only the top 10 job titles\n",
    "df_top_10_jobs = df_eda[df_eda['job_title'].isin(top_10_jobs)]\n",
    "\n",
    "# Compute the frequency table of job_title and emp_h1b_dependent columns\n",
    "freq_table = pd.crosstab(index=df_top_10_jobs['full_time_position'], columns=df_top_10_jobs['job_title'])\n",
    "freq_table"
   ]
  },
  {
   "cell_type": "markdown",
   "id": "92cce901",
   "metadata": {},
   "source": [
    "## Base model"
   ]
  },
  {
   "cell_type": "code",
   "execution_count": 157,
   "id": "05e3ea25",
   "metadata": {},
   "outputs": [
    {
     "data": {
      "text/html": [
       "<div>\n",
       "<style scoped>\n",
       "    .dataframe tbody tr th:only-of-type {\n",
       "        vertical-align: middle;\n",
       "    }\n",
       "\n",
       "    .dataframe tbody tr th {\n",
       "        vertical-align: top;\n",
       "    }\n",
       "\n",
       "    .dataframe thead th {\n",
       "        text-align: right;\n",
       "    }\n",
       "</style>\n",
       "<table border=\"1\" class=\"dataframe\">\n",
       "  <thead>\n",
       "    <tr style=\"text-align: right;\">\n",
       "      <th></th>\n",
       "      <th>full_time_position</th>\n",
       "      <th>prevailing_wage</th>\n",
       "      <th>pw_level</th>\n",
       "      <th>wage_from</th>\n",
       "      <th>emp_h1b_dependent</th>\n",
       "      <th>emp_willful_violator</th>\n",
       "      <th>emp_name_freq</th>\n",
       "      <th>emp_city_freq</th>\n",
       "      <th>emp_state_freq</th>\n",
       "      <th>job_title_freq</th>\n",
       "      <th>soc_code_freq</th>\n",
       "      <th>soc_name_freq</th>\n",
       "      <th>work_city_freq</th>\n",
       "      <th>work_state_freq</th>\n",
       "    </tr>\n",
       "  </thead>\n",
       "  <tbody>\n",
       "    <tr>\n",
       "      <th>0</th>\n",
       "      <td>1</td>\n",
       "      <td>187200.0</td>\n",
       "      <td>Level III</td>\n",
       "      <td>190000.00</td>\n",
       "      <td>0</td>\n",
       "      <td>0</td>\n",
       "      <td>2</td>\n",
       "      <td>24</td>\n",
       "      <td>1443</td>\n",
       "      <td>266</td>\n",
       "      <td>1678</td>\n",
       "      <td>1684</td>\n",
       "      <td>1</td>\n",
       "      <td>2760</td>\n",
       "    </tr>\n",
       "    <tr>\n",
       "      <th>1</th>\n",
       "      <td>1</td>\n",
       "      <td>39957.0</td>\n",
       "      <td>Level I</td>\n",
       "      <td>47507.00</td>\n",
       "      <td>0</td>\n",
       "      <td>0</td>\n",
       "      <td>29</td>\n",
       "      <td>29</td>\n",
       "      <td>598</td>\n",
       "      <td>150</td>\n",
       "      <td>410</td>\n",
       "      <td>410</td>\n",
       "      <td>16</td>\n",
       "      <td>847</td>\n",
       "    </tr>\n",
       "    <tr>\n",
       "      <th>2</th>\n",
       "      <td>1</td>\n",
       "      <td>59966.0</td>\n",
       "      <td>Level I</td>\n",
       "      <td>65000.00</td>\n",
       "      <td>0</td>\n",
       "      <td>0</td>\n",
       "      <td>31</td>\n",
       "      <td>54</td>\n",
       "      <td>17574</td>\n",
       "      <td>13</td>\n",
       "      <td>9040</td>\n",
       "      <td>9037</td>\n",
       "      <td>16</td>\n",
       "      <td>9544</td>\n",
       "    </tr>\n",
       "    <tr>\n",
       "      <th>3</th>\n",
       "      <td>1</td>\n",
       "      <td>78832.0</td>\n",
       "      <td>Level II</td>\n",
       "      <td>86988.15</td>\n",
       "      <td>0</td>\n",
       "      <td>0</td>\n",
       "      <td>28</td>\n",
       "      <td>34</td>\n",
       "      <td>978</td>\n",
       "      <td>6</td>\n",
       "      <td>3309</td>\n",
       "      <td>3315</td>\n",
       "      <td>16</td>\n",
       "      <td>9544</td>\n",
       "    </tr>\n",
       "    <tr>\n",
       "      <th>4</th>\n",
       "      <td>1</td>\n",
       "      <td>169645.0</td>\n",
       "      <td>Level I</td>\n",
       "      <td>450000.00</td>\n",
       "      <td>0</td>\n",
       "      <td>0</td>\n",
       "      <td>32</td>\n",
       "      <td>99</td>\n",
       "      <td>216</td>\n",
       "      <td>27</td>\n",
       "      <td>5247</td>\n",
       "      <td>5246</td>\n",
       "      <td>16</td>\n",
       "      <td>292</td>\n",
       "    </tr>\n",
       "    <tr>\n",
       "      <th>...</th>\n",
       "      <td>...</td>\n",
       "      <td>...</td>\n",
       "      <td>...</td>\n",
       "      <td>...</td>\n",
       "      <td>...</td>\n",
       "      <td>...</td>\n",
       "      <td>...</td>\n",
       "      <td>...</td>\n",
       "      <td>...</td>\n",
       "      <td>...</td>\n",
       "      <td>...</td>\n",
       "      <td>...</td>\n",
       "      <td>...</td>\n",
       "      <td>...</td>\n",
       "    </tr>\n",
       "    <tr>\n",
       "      <th>579392</th>\n",
       "      <td>1</td>\n",
       "      <td>58968.0</td>\n",
       "      <td>Level I</td>\n",
       "      <td>58968.00</td>\n",
       "      <td>0</td>\n",
       "      <td>0</td>\n",
       "      <td>6833</td>\n",
       "      <td>11460</td>\n",
       "      <td>24064</td>\n",
       "      <td>119</td>\n",
       "      <td>118303</td>\n",
       "      <td>117979</td>\n",
       "      <td>11</td>\n",
       "      <td>5893</td>\n",
       "    </tr>\n",
       "    <tr>\n",
       "      <th>579393</th>\n",
       "      <td>1</td>\n",
       "      <td>106475.0</td>\n",
       "      <td>Level IV</td>\n",
       "      <td>106475.00</td>\n",
       "      <td>1</td>\n",
       "      <td>0</td>\n",
       "      <td>2545</td>\n",
       "      <td>2936</td>\n",
       "      <td>83583</td>\n",
       "      <td>20</td>\n",
       "      <td>2228</td>\n",
       "      <td>2199</td>\n",
       "      <td>11</td>\n",
       "      <td>5893</td>\n",
       "    </tr>\n",
       "    <tr>\n",
       "      <th>579394</th>\n",
       "      <td>1</td>\n",
       "      <td>77085.0</td>\n",
       "      <td>Level III</td>\n",
       "      <td>128520.00</td>\n",
       "      <td>1</td>\n",
       "      <td>0</td>\n",
       "      <td>207</td>\n",
       "      <td>753</td>\n",
       "      <td>4342</td>\n",
       "      <td>736</td>\n",
       "      <td>54304</td>\n",
       "      <td>49734</td>\n",
       "      <td>11</td>\n",
       "      <td>5893</td>\n",
       "    </tr>\n",
       "    <tr>\n",
       "      <th>579395</th>\n",
       "      <td>1</td>\n",
       "      <td>58968.0</td>\n",
       "      <td>Level I</td>\n",
       "      <td>58968.00</td>\n",
       "      <td>0</td>\n",
       "      <td>0</td>\n",
       "      <td>6833</td>\n",
       "      <td>11460</td>\n",
       "      <td>24064</td>\n",
       "      <td>119</td>\n",
       "      <td>118303</td>\n",
       "      <td>117979</td>\n",
       "      <td>11</td>\n",
       "      <td>5893</td>\n",
       "    </tr>\n",
       "    <tr>\n",
       "      <th>579396</th>\n",
       "      <td>1</td>\n",
       "      <td>93746.0</td>\n",
       "      <td>Level IV</td>\n",
       "      <td>95000.00</td>\n",
       "      <td>0</td>\n",
       "      <td>0</td>\n",
       "      <td>3</td>\n",
       "      <td>5</td>\n",
       "      <td>2692</td>\n",
       "      <td>2864</td>\n",
       "      <td>7274</td>\n",
       "      <td>7273</td>\n",
       "      <td>11</td>\n",
       "      <td>5893</td>\n",
       "    </tr>\n",
       "  </tbody>\n",
       "</table>\n",
       "<p>578655 rows × 14 columns</p>\n",
       "</div>"
      ],
      "text/plain": [
       "        full_time_position  prevailing_wage   pw_level  wage_from  \\\n",
       "0                        1         187200.0  Level III  190000.00   \n",
       "1                        1          39957.0    Level I   47507.00   \n",
       "2                        1          59966.0    Level I   65000.00   \n",
       "3                        1          78832.0   Level II   86988.15   \n",
       "4                        1         169645.0    Level I  450000.00   \n",
       "...                    ...              ...        ...        ...   \n",
       "579392                   1          58968.0    Level I   58968.00   \n",
       "579393                   1         106475.0   Level IV  106475.00   \n",
       "579394                   1          77085.0  Level III  128520.00   \n",
       "579395                   1          58968.0    Level I   58968.00   \n",
       "579396                   1          93746.0   Level IV   95000.00   \n",
       "\n",
       "        emp_h1b_dependent  emp_willful_violator  emp_name_freq  emp_city_freq  \\\n",
       "0                       0                     0              2             24   \n",
       "1                       0                     0             29             29   \n",
       "2                       0                     0             31             54   \n",
       "3                       0                     0             28             34   \n",
       "4                       0                     0             32             99   \n",
       "...                   ...                   ...            ...            ...   \n",
       "579392                  0                     0           6833          11460   \n",
       "579393                  1                     0           2545           2936   \n",
       "579394                  1                     0            207            753   \n",
       "579395                  0                     0           6833          11460   \n",
       "579396                  0                     0              3              5   \n",
       "\n",
       "        emp_state_freq  job_title_freq  soc_code_freq  soc_name_freq  \\\n",
       "0                 1443             266           1678           1684   \n",
       "1                  598             150            410            410   \n",
       "2                17574              13           9040           9037   \n",
       "3                  978               6           3309           3315   \n",
       "4                  216              27           5247           5246   \n",
       "...                ...             ...            ...            ...   \n",
       "579392           24064             119         118303         117979   \n",
       "579393           83583              20           2228           2199   \n",
       "579394            4342             736          54304          49734   \n",
       "579395           24064             119         118303         117979   \n",
       "579396            2692            2864           7274           7273   \n",
       "\n",
       "        work_city_freq  work_state_freq  \n",
       "0                    1             2760  \n",
       "1                   16              847  \n",
       "2                   16             9544  \n",
       "3                   16             9544  \n",
       "4                   16              292  \n",
       "...                ...              ...  \n",
       "579392              11             5893  \n",
       "579393              11             5893  \n",
       "579394              11             5893  \n",
       "579395              11             5893  \n",
       "579396              11             5893  \n",
       "\n",
       "[578655 rows x 14 columns]"
      ]
     },
     "execution_count": 157,
     "metadata": {},
     "output_type": "execute_result"
    }
   ],
   "source": [
    "df_new"
   ]
  },
  {
   "cell_type": "markdown",
   "id": "8f395f1e",
   "metadata": {},
   "source": [
    "Since emp_name, city, state, job_title, soc_code, soc_name have large number of unique values, unable to determine what type of encoding needs to be done. Hence dropping those columns for the base model"
   ]
  },
  {
   "cell_type": "code",
   "execution_count": 158,
   "id": "e2105b48",
   "metadata": {},
   "outputs": [],
   "source": [
    "df_base = df_new.drop([\"emp_name_freq\",\"emp_city_freq\",\"emp_state_freq\",\"job_title_freq\",\"soc_code_freq\",\"soc_name_freq\",\"work_city_freq\",\"work_state_freq\"],axis=1)"
   ]
  },
  {
   "cell_type": "code",
   "execution_count": 160,
   "id": "7f4ca9ff",
   "metadata": {},
   "outputs": [],
   "source": [
    "df_base[\"pw_level\"].replace({\"Level I\":1,\"Level II\":2,\"Level III\":3,\"Level IV\":4},inplace=True)"
   ]
  },
  {
   "cell_type": "code",
   "execution_count": 161,
   "id": "54e179f9",
   "metadata": {},
   "outputs": [
    {
     "data": {
      "text/html": [
       "<div>\n",
       "<style scoped>\n",
       "    .dataframe tbody tr th:only-of-type {\n",
       "        vertical-align: middle;\n",
       "    }\n",
       "\n",
       "    .dataframe tbody tr th {\n",
       "        vertical-align: top;\n",
       "    }\n",
       "\n",
       "    .dataframe thead th {\n",
       "        text-align: right;\n",
       "    }\n",
       "</style>\n",
       "<table border=\"1\" class=\"dataframe\">\n",
       "  <thead>\n",
       "    <tr style=\"text-align: right;\">\n",
       "      <th></th>\n",
       "      <th>full_time_position</th>\n",
       "      <th>prevailing_wage</th>\n",
       "      <th>pw_level</th>\n",
       "      <th>wage_from</th>\n",
       "      <th>emp_h1b_dependent</th>\n",
       "      <th>emp_willful_violator</th>\n",
       "    </tr>\n",
       "  </thead>\n",
       "  <tbody>\n",
       "    <tr>\n",
       "      <th>0</th>\n",
       "      <td>1</td>\n",
       "      <td>187200.0</td>\n",
       "      <td>3</td>\n",
       "      <td>190000.00</td>\n",
       "      <td>0</td>\n",
       "      <td>0</td>\n",
       "    </tr>\n",
       "    <tr>\n",
       "      <th>1</th>\n",
       "      <td>1</td>\n",
       "      <td>39957.0</td>\n",
       "      <td>1</td>\n",
       "      <td>47507.00</td>\n",
       "      <td>0</td>\n",
       "      <td>0</td>\n",
       "    </tr>\n",
       "    <tr>\n",
       "      <th>2</th>\n",
       "      <td>1</td>\n",
       "      <td>59966.0</td>\n",
       "      <td>1</td>\n",
       "      <td>65000.00</td>\n",
       "      <td>0</td>\n",
       "      <td>0</td>\n",
       "    </tr>\n",
       "    <tr>\n",
       "      <th>3</th>\n",
       "      <td>1</td>\n",
       "      <td>78832.0</td>\n",
       "      <td>2</td>\n",
       "      <td>86988.15</td>\n",
       "      <td>0</td>\n",
       "      <td>0</td>\n",
       "    </tr>\n",
       "    <tr>\n",
       "      <th>4</th>\n",
       "      <td>1</td>\n",
       "      <td>169645.0</td>\n",
       "      <td>1</td>\n",
       "      <td>450000.00</td>\n",
       "      <td>0</td>\n",
       "      <td>0</td>\n",
       "    </tr>\n",
       "    <tr>\n",
       "      <th>...</th>\n",
       "      <td>...</td>\n",
       "      <td>...</td>\n",
       "      <td>...</td>\n",
       "      <td>...</td>\n",
       "      <td>...</td>\n",
       "      <td>...</td>\n",
       "    </tr>\n",
       "    <tr>\n",
       "      <th>579392</th>\n",
       "      <td>1</td>\n",
       "      <td>58968.0</td>\n",
       "      <td>1</td>\n",
       "      <td>58968.00</td>\n",
       "      <td>0</td>\n",
       "      <td>0</td>\n",
       "    </tr>\n",
       "    <tr>\n",
       "      <th>579393</th>\n",
       "      <td>1</td>\n",
       "      <td>106475.0</td>\n",
       "      <td>4</td>\n",
       "      <td>106475.00</td>\n",
       "      <td>1</td>\n",
       "      <td>0</td>\n",
       "    </tr>\n",
       "    <tr>\n",
       "      <th>579394</th>\n",
       "      <td>1</td>\n",
       "      <td>77085.0</td>\n",
       "      <td>3</td>\n",
       "      <td>128520.00</td>\n",
       "      <td>1</td>\n",
       "      <td>0</td>\n",
       "    </tr>\n",
       "    <tr>\n",
       "      <th>579395</th>\n",
       "      <td>1</td>\n",
       "      <td>58968.0</td>\n",
       "      <td>1</td>\n",
       "      <td>58968.00</td>\n",
       "      <td>0</td>\n",
       "      <td>0</td>\n",
       "    </tr>\n",
       "    <tr>\n",
       "      <th>579396</th>\n",
       "      <td>1</td>\n",
       "      <td>93746.0</td>\n",
       "      <td>4</td>\n",
       "      <td>95000.00</td>\n",
       "      <td>0</td>\n",
       "      <td>0</td>\n",
       "    </tr>\n",
       "  </tbody>\n",
       "</table>\n",
       "<p>578655 rows × 6 columns</p>\n",
       "</div>"
      ],
      "text/plain": [
       "        full_time_position  prevailing_wage  pw_level  wage_from  \\\n",
       "0                        1         187200.0         3  190000.00   \n",
       "1                        1          39957.0         1   47507.00   \n",
       "2                        1          59966.0         1   65000.00   \n",
       "3                        1          78832.0         2   86988.15   \n",
       "4                        1         169645.0         1  450000.00   \n",
       "...                    ...              ...       ...        ...   \n",
       "579392                   1          58968.0         1   58968.00   \n",
       "579393                   1         106475.0         4  106475.00   \n",
       "579394                   1          77085.0         3  128520.00   \n",
       "579395                   1          58968.0         1   58968.00   \n",
       "579396                   1          93746.0         4   95000.00   \n",
       "\n",
       "        emp_h1b_dependent  emp_willful_violator  \n",
       "0                       0                     0  \n",
       "1                       0                     0  \n",
       "2                       0                     0  \n",
       "3                       0                     0  \n",
       "4                       0                     0  \n",
       "...                   ...                   ...  \n",
       "579392                  0                     0  \n",
       "579393                  1                     0  \n",
       "579394                  1                     0  \n",
       "579395                  0                     0  \n",
       "579396                  0                     0  \n",
       "\n",
       "[578655 rows x 6 columns]"
      ]
     },
     "execution_count": 161,
     "metadata": {},
     "output_type": "execute_result"
    }
   ],
   "source": [
    "df_base"
   ]
  },
  {
   "cell_type": "code",
   "execution_count": 163,
   "id": "6f8a92ee",
   "metadata": {},
   "outputs": [],
   "source": [
    "x = df_base\n",
    "y = df_eda[\"case_status\"]"
   ]
  },
  {
   "cell_type": "code",
   "execution_count": 164,
   "id": "c69a2bee",
   "metadata": {},
   "outputs": [],
   "source": [
    "xtrain,xtest,ytrain,ytest = train_test_split(x,y,test_size=0.3,random_state=100)"
   ]
  },
  {
   "cell_type": "code",
   "execution_count": 165,
   "id": "a0097d47",
   "metadata": {},
   "outputs": [],
   "source": [
    "dt = DecisionTreeClassifier()\n",
    "dt_model = dt.fit(xtrain,ytrain)\n",
    "ypred = dt_model.predict(xtest)"
   ]
  },
  {
   "cell_type": "code",
   "execution_count": 167,
   "id": "f9c3db4c",
   "metadata": {},
   "outputs": [
    {
     "name": "stdout",
     "output_type": "stream",
     "text": [
      "              precision    recall  f1-score   support\n",
      "\n",
      "           C       0.90      0.95      0.92    151906\n",
      "           D       0.32      0.20      0.24      2010\n",
      "           W       0.39      0.25      0.30     19681\n",
      "\n",
      "    accuracy                           0.86    173597\n",
      "   macro avg       0.54      0.46      0.49    173597\n",
      "weighted avg       0.84      0.86      0.84    173597\n",
      "\n"
     ]
    }
   ],
   "source": [
    "result = classification_report(ytest,ypred)\n",
    "print(result)"
   ]
  },
  {
   "cell_type": "code",
   "execution_count": null,
   "id": "dce9c5cd",
   "metadata": {},
   "outputs": [],
   "source": []
  },
  {
   "cell_type": "code",
   "execution_count": null,
   "id": "fbd410d1",
   "metadata": {},
   "outputs": [],
   "source": []
  }
 ],
 "metadata": {
  "kernelspec": {
   "display_name": "Python 3 (ipykernel)",
   "language": "python",
   "name": "python3"
  },
  "language_info": {
   "codemirror_mode": {
    "name": "ipython",
    "version": 3
   },
   "file_extension": ".py",
   "mimetype": "text/x-python",
   "name": "python",
   "nbconvert_exporter": "python",
   "pygments_lexer": "ipython3",
   "version": "3.9.7"
  }
 },
 "nbformat": 4,
 "nbformat_minor": 5
}
